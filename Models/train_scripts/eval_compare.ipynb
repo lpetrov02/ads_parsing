{
 "cells": [
  {
   "cell_type": "code",
   "execution_count": 1,
   "id": "9b27b92c-8cd7-443a-bf61-9fe033c40b23",
   "metadata": {
    "tags": []
   },
   "outputs": [
    {
     "name": "stderr",
     "output_type": "stream",
     "text": [
      "[nltk_data] Downloading package punkt to /home/vlad/nltk_data...\n",
      "[nltk_data]   Package punkt is already up-to-date!\n",
      "[nltk_data] Downloading package punkt to /home/vlad/nltk_data...\n",
      "[nltk_data]   Package punkt is already up-to-date!\n"
     ]
    }
   ],
   "source": [
    "import numpy as np\n",
    "import pandas as pd\n",
    "import matplotlib.pyplot as plt\n",
    "\n",
    "import datetime\n",
    "\n",
    "from tqdm.notebook import tqdm\n",
    "\n",
    "import json\n",
    "import re\n",
    "\n",
    "import torch\n",
    "from torch import nn\n",
    "from transformers import AutoTokenizer, AutoModelForSeq2SeqLM, AutoConfig\n",
    "\n",
    "import sys\n",
    "sys.path.append('..')\n",
    "from eval_utils import get_parser, compute_test_metrics\n",
    "from utils import Format, get_to_string_processor, clean_text"
   ]
  },
  {
   "cell_type": "code",
   "execution_count": 2,
   "id": "5a57ed7d-e7ca-4482-a375-bc32763e8562",
   "metadata": {
    "tags": []
   },
   "outputs": [
    {
     "data": {
      "text/plain": [
       "{'format': 'LightTokens',\n",
       " 'max_bundles': 10,\n",
       " 'singles_to_mults_ratio': 2,\n",
       " 'max_eval_size': 100,\n",
       " 'model': 'ai-forever/FRED-T5-1.7B',\n",
       " 'add_nl_token': False,\n",
       " 'add_eos_token': True,\n",
       " 'change_pad_to_eos': False,\n",
       " 'shuffle_bundles': True,\n",
       " 'add_lm_token': True,\n",
       " 'save_folder': 'fredT5-xl-lt',\n",
       " 'train': {'n_epochs': 10,\n",
       "  'lr': 0.0003,\n",
       "  'batch_size': 4,\n",
       "  'weight_decay': 0.0,\n",
       "  'scheduler': 'cosine',\n",
       "  'warmup_steps': 2000},\n",
       " 'eval': {'batch_size': 4, 'show': 5},\n",
       " 'lora': {'rank': 64}}"
      ]
     },
     "execution_count": 2,
     "metadata": {},
     "output_type": "execute_result"
    }
   ],
   "source": [
    "with open(\"configs/config_fredT5-xl-lt.json\", \"rb\") as config:\n",
    "    params = json.load(config)\n",
    "    \n",
    "params"
   ]
  },
  {
   "cell_type": "code",
   "execution_count": 3,
   "id": "26276797-8956-495d-86cb-6df777a1b20c",
   "metadata": {
    "tags": []
   },
   "outputs": [
    {
     "data": {
      "text/plain": [
       "'cuda:0'"
      ]
     },
     "execution_count": 3,
     "metadata": {},
     "output_type": "execute_result"
    }
   ],
   "source": [
    "device = 'cuda:0' if torch.cuda.is_available() else 'cpu'\n",
    "device"
   ]
  },
  {
   "cell_type": "code",
   "execution_count": 4,
   "id": "6f440e94-332c-4fa0-98a9-0bd0a0444a92",
   "metadata": {
    "tags": []
   },
   "outputs": [
    {
     "data": {
      "text/plain": [
       "<Format.LightTokens: 'LightTokens'>"
      ]
     },
     "execution_count": 4,
     "metadata": {},
     "output_type": "execute_result"
    }
   ],
   "source": [
    "out_format = Format(params[\"format\"])\n",
    "out_format"
   ]
  },
  {
   "cell_type": "code",
   "execution_count": 5,
   "id": "efcdc4bc-affc-4992-8385-edab0cb7f096",
   "metadata": {
    "tags": []
   },
   "outputs": [
    {
     "data": {
      "text/html": [
       "<div>\n",
       "<style scoped>\n",
       "    .dataframe tbody tr th:only-of-type {\n",
       "        vertical-align: middle;\n",
       "    }\n",
       "\n",
       "    .dataframe tbody tr th {\n",
       "        vertical-align: top;\n",
       "    }\n",
       "\n",
       "    .dataframe thead th {\n",
       "        text-align: right;\n",
       "    }\n",
       "</style>\n",
       "<table border=\"1\" class=\"dataframe\">\n",
       "  <thead>\n",
       "    <tr style=\"text-align: right;\">\n",
       "      <th></th>\n",
       "      <th>Text</th>\n",
       "      <th>bundles</th>\n",
       "      <th>n_bundles</th>\n",
       "    </tr>\n",
       "  </thead>\n",
       "  <tbody>\n",
       "    <tr>\n",
       "      <th>0</th>\n",
       "      <td>самокат hudora, в отличном состоянии, от 5+ и ...</td>\n",
       "      <td>[{\"Title\": \"\\u0441\\u0430\\u043c\\u043e\\u043a\\u04...</td>\n",
       "      <td>1</td>\n",
       "    </tr>\n",
       "    <tr>\n",
       "      <th>1</th>\n",
       "      <td>2 мяча и корзина 5€ лимассол</td>\n",
       "      <td>[{\"Title\": \"\\u043d\\u0430\\u0431\\u043e\\u0440 \\u0...</td>\n",
       "      <td>1</td>\n",
       "    </tr>\n",
       "    <tr>\n",
       "      <th>2</th>\n",
       "      <td>принимаются предзаказы на 100% органическое ма...</td>\n",
       "      <td>[{\"Title\": \"100% \\u043e\\u0440\\u0433\\u0430\\u043...</td>\n",
       "      <td>1</td>\n",
       "    </tr>\n",
       "    <tr>\n",
       "      <th>3</th>\n",
       "      <td>колонки, в рабочем состоянии! использовались р...</td>\n",
       "      <td>[{\"Title\": \"\\u043a\\u043e\\u043b\\u043e\\u043d\\u04...</td>\n",
       "      <td>1</td>\n",
       "    </tr>\n",
       "    <tr>\n",
       "      <th>4</th>\n",
       "      <td>гироскутер 100 евро с зарядным</td>\n",
       "      <td>[{\"Title\": \"\\u0433\\u0438\\u0440\\u043e\\u0441\\u04...</td>\n",
       "      <td>1</td>\n",
       "    </tr>\n",
       "  </tbody>\n",
       "</table>\n",
       "</div>"
      ],
      "text/plain": [
       "                                                Text  \\\n",
       "0  самокат hudora, в отличном состоянии, от 5+ и ...   \n",
       "1                       2 мяча и корзина 5€ лимассол   \n",
       "2  принимаются предзаказы на 100% органическое ма...   \n",
       "3  колонки, в рабочем состоянии! использовались р...   \n",
       "4                     гироскутер 100 евро с зарядным   \n",
       "\n",
       "                                             bundles  n_bundles  \n",
       "0  [{\"Title\": \"\\u0441\\u0430\\u043c\\u043e\\u043a\\u04...          1  \n",
       "1  [{\"Title\": \"\\u043d\\u0430\\u0431\\u043e\\u0440 \\u0...          1  \n",
       "2  [{\"Title\": \"100% \\u043e\\u0440\\u0433\\u0430\\u043...          1  \n",
       "3  [{\"Title\": \"\\u043a\\u043e\\u043b\\u043e\\u043d\\u04...          1  \n",
       "4  [{\"Title\": \"\\u0433\\u0438\\u0440\\u043e\\u0441\\u04...          1  "
      ]
     },
     "execution_count": 5,
     "metadata": {},
     "output_type": "execute_result"
    }
   ],
   "source": [
    "data = pd.read_csv(\"~/data/ads_test_1000.csv\")\n",
    "data.head()"
   ]
  },
  {
   "cell_type": "code",
   "execution_count": 6,
   "id": "800ea88d-dfc4-4b7f-819c-dcb83dd6d351",
   "metadata": {
    "tags": []
   },
   "outputs": [
    {
     "data": {
      "text/plain": [
       "n_bundles\n",
       "1     735\n",
       "0      89\n",
       "2      54\n",
       "3      34\n",
       "4      25\n",
       "5      18\n",
       "6      16\n",
       "7      10\n",
       "10      7\n",
       "9       7\n",
       "8       2\n",
       "36      1\n",
       "14      1\n",
       "13      1\n",
       "Name: count, dtype: int64"
      ]
     },
     "execution_count": 6,
     "metadata": {},
     "output_type": "execute_result"
    }
   ],
   "source": [
    "data[\"n_bundles\"].value_counts()"
   ]
  },
  {
   "cell_type": "code",
   "execution_count": 7,
   "id": "70d7df98-65cd-43e7-ba5d-266e72514ea8",
   "metadata": {
    "tags": []
   },
   "outputs": [
    {
     "data": {
      "text/plain": [
       "'fredT5-xl-lt'"
      ]
     },
     "execution_count": 7,
     "metadata": {},
     "output_type": "execute_result"
    }
   ],
   "source": [
    "ckpt = params[\"save_folder\"]\n",
    "ckpt"
   ]
  },
  {
   "cell_type": "code",
   "execution_count": 8,
   "id": "fb9ca3ff-8dc0-417a-a78b-b7cdf3fd036f",
   "metadata": {
    "tags": []
   },
   "outputs": [
    {
     "name": "stderr",
     "output_type": "stream",
     "text": [
      "Special tokens have been added in the vocabulary, make sure the associated word embeddings are fine-tuned or trained.\n"
     ]
    },
    {
     "data": {
      "application/vnd.jupyter.widget-view+json": {
       "model_id": "89b008a777d24d55a86f3cd232560c62",
       "version_major": 2,
       "version_minor": 0
      },
      "text/plain": [
       "Loading checkpoint shards:   0%|          | 0/2 [00:00<?, ?it/s]"
      ]
     },
     "metadata": {},
     "output_type": "display_data"
    }
   ],
   "source": [
    "model_checkpoint = f\"../good_checkpoints/{ckpt}\"\n",
    "tokenizer = AutoTokenizer.from_pretrained(model_checkpoint)\n",
    "model = AutoModelForSeq2SeqLM.from_pretrained(model_checkpoint)"
   ]
  },
  {
   "cell_type": "code",
   "execution_count": 9,
   "id": "dce38421-a518-44e4-95cf-f2f1f67e4ce0",
   "metadata": {
    "tags": []
   },
   "outputs": [],
   "source": [
    "parser = get_parser(tokenizer, out_format)\n",
    "to_string_processor = get_to_string_processor(out_format)"
   ]
  },
  {
   "cell_type": "code",
   "execution_count": 10,
   "id": "5347647c-adee-4be9-86f6-a1107b48e157",
   "metadata": {
    "tags": []
   },
   "outputs": [
    {
     "name": "stdout",
     "output_type": "stream",
     "text": [
      "Total steps: 125\n"
     ]
    },
    {
     "data": {
      "application/vnd.jupyter.widget-view+json": {
       "model_id": "4aa0f7439ecb4f8cbd53ebacfcb62394",
       "version_major": 2,
       "version_minor": 0
      },
      "text/plain": [
       "  0%|          | 0/125 [00:00<?, ?it/s]"
      ]
     },
     "metadata": {},
     "output_type": "display_data"
    },
    {
     "name": "stdout",
     "output_type": "stream",
     "text": [
      "0 steps made\n",
      "5 steps made\n",
      "10 steps made\n",
      "15 steps made\n",
      "20 steps made\n",
      "25 steps made\n",
      "30 steps made\n",
      "35 steps made\n",
      "40 steps made\n",
      "45 steps made\n",
      "50 steps made\n",
      "55 steps made\n",
      "60 steps made\n",
      "65 steps made\n",
      "70 steps made\n",
      "75 steps made\n",
      "80 steps made\n",
      "85 steps made\n",
      "90 steps made\n",
      "95 steps made\n",
      "100 steps made\n",
      "105 steps made\n",
      "110 steps made\n",
      "115 steps made\n",
      "120 steps made\n"
     ]
    },
    {
     "data": {
      "text/plain": [
       "21.635578483333333"
      ]
     },
     "execution_count": 10,
     "metadata": {},
     "output_type": "execute_result"
    }
   ],
   "source": [
    "responses = []\n",
    "\n",
    "model.to(device)\n",
    "bs = 8\n",
    "\n",
    "start_time = datetime.datetime.now()\n",
    "\n",
    "postfix = (tokenizer.eos_token if params.get(\"add_eos_token\", False) else \"\")\n",
    "prefix = (\"<LM>\" if params.get(\"add_lm_token\", False) else \"\")\n",
    "\n",
    "print(\"Total steps:\", (len(data) + bs - 1) // bs)\n",
    "for ind in tqdm(range(0, len(data), bs), total=(len(data) + bs - 1) // bs):\n",
    "    if ind % 10 == 0:\n",
    "        print(f\"{ind // bs} steps made\")\n",
    "    postfix = tokenizer.eos_token if params.get(\"add_eos_token\", False) else \"\"\n",
    "    prefix = \"<LM>\" if params.get(\"add_lm_token\", False) else \"\"\n",
    "    cleaner = clean_text if params.get(\"clean_text\", False) else (lambda x: x)\n",
    "    batch = tokenizer(\n",
    "        [prefix + cleaner(data.loc[data.index[i], \"Text\"]) + postfix for i in range(ind, min(ind + bs, len(data)))],\n",
    "        max_length=512,\n",
    "        padding=True,\n",
    "        truncation=True,\n",
    "        return_tensors=\"pt\",\n",
    "    )[\"input_ids\"]\n",
    "\n",
    "    preds = model.generate(\n",
    "        input_ids=batch.to(device),\n",
    "        max_length=512,\n",
    "        num_beams=4,\n",
    "        early_stopping=True,\n",
    "        eos_token_id=tokenizer.eos_token_id\n",
    "    ).cpu()\n",
    "    \n",
    "    preds = torch.where(preds == -100, tokenizer.eos_token_id, preds)\n",
    "    preds = tokenizer.batch_decode(preds, ignore_special_tokens=True)\n",
    "    responses += [re.sub(tokenizer.pad_token, \"\", pred) for pred in preds]\n",
    "\n",
    "(datetime.datetime.now() - start_time) / datetime.timedelta(minutes=1)"
   ]
  },
  {
   "cell_type": "code",
   "execution_count": 11,
   "id": "f71ee519-c48c-437a-9aac-75272768e19d",
   "metadata": {
    "tags": []
   },
   "outputs": [
    {
     "data": {
      "text/html": [
       "<div>\n",
       "<style scoped>\n",
       "    .dataframe tbody tr th:only-of-type {\n",
       "        vertical-align: middle;\n",
       "    }\n",
       "\n",
       "    .dataframe tbody tr th {\n",
       "        vertical-align: top;\n",
       "    }\n",
       "\n",
       "    .dataframe thead th {\n",
       "        text-align: right;\n",
       "    }\n",
       "</style>\n",
       "<table border=\"1\" class=\"dataframe\">\n",
       "  <thead>\n",
       "    <tr style=\"text-align: right;\">\n",
       "      <th></th>\n",
       "      <th>Text</th>\n",
       "      <th>bundles</th>\n",
       "      <th>n_bundles</th>\n",
       "      <th>Responses</th>\n",
       "    </tr>\n",
       "  </thead>\n",
       "  <tbody>\n",
       "    <tr>\n",
       "      <th>0</th>\n",
       "      <td>самокат hudora, в отличном состоянии, от 5+ и ...</td>\n",
       "      <td>[{\"Title\": \"\\u0441\\u0430\\u043c\\u043e\\u043a\\u04...</td>\n",
       "      <td>1</td>\n",
       "      <td>1&lt;BOB&gt;0&lt;BOT&gt;самокат hudora&lt;BOP&gt;65&lt;BOC1&gt;eur&lt;BOC...</td>\n",
       "    </tr>\n",
       "    <tr>\n",
       "      <th>1</th>\n",
       "      <td>2 мяча и корзина 5€ лимассол</td>\n",
       "      <td>[{\"Title\": \"\\u043d\\u0430\\u0431\\u043e\\u0440 \\u0...</td>\n",
       "      <td>1</td>\n",
       "      <td>1&lt;BOB&gt;0&lt;BOT&gt;мячи и корзина&lt;BOP&gt;5&lt;BOC1&gt;eur&lt;BOC2...</td>\n",
       "    </tr>\n",
       "    <tr>\n",
       "      <th>2</th>\n",
       "      <td>принимаются предзаказы на 100% органическое ма...</td>\n",
       "      <td>[{\"Title\": \"100% \\u043e\\u0440\\u0433\\u0430\\u043...</td>\n",
       "      <td>1</td>\n",
       "      <td>1&lt;BOB&gt;0&lt;BOT&gt;100% органическое масло из миндаля...</td>\n",
       "    </tr>\n",
       "    <tr>\n",
       "      <th>3</th>\n",
       "      <td>колонки, в рабочем состоянии! использовались р...</td>\n",
       "      <td>[{\"Title\": \"\\u043a\\u043e\\u043b\\u043e\\u043d\\u04...</td>\n",
       "      <td>1</td>\n",
       "      <td>1&lt;BOB&gt;0&lt;BOT&gt;колонки&lt;BOP&gt;80&lt;BOC1&gt;eur&lt;BOC2&gt;4 пар...</td>\n",
       "    </tr>\n",
       "    <tr>\n",
       "      <th>4</th>\n",
       "      <td>гироскутер 100 евро с зарядным</td>\n",
       "      <td>[{\"Title\": \"\\u0433\\u0438\\u0440\\u043e\\u0441\\u04...</td>\n",
       "      <td>1</td>\n",
       "      <td>1&lt;BOB&gt;0&lt;BOT&gt;гироскутер с зарядным&lt;BOP&gt;100&lt;BOC1...</td>\n",
       "    </tr>\n",
       "  </tbody>\n",
       "</table>\n",
       "</div>"
      ],
      "text/plain": [
       "                                                Text  \\\n",
       "0  самокат hudora, в отличном состоянии, от 5+ и ...   \n",
       "1                       2 мяча и корзина 5€ лимассол   \n",
       "2  принимаются предзаказы на 100% органическое ма...   \n",
       "3  колонки, в рабочем состоянии! использовались р...   \n",
       "4                     гироскутер 100 евро с зарядным   \n",
       "\n",
       "                                             bundles  n_bundles  \\\n",
       "0  [{\"Title\": \"\\u0441\\u0430\\u043c\\u043e\\u043a\\u04...          1   \n",
       "1  [{\"Title\": \"\\u043d\\u0430\\u0431\\u043e\\u0440 \\u0...          1   \n",
       "2  [{\"Title\": \"100% \\u043e\\u0440\\u0433\\u0430\\u043...          1   \n",
       "3  [{\"Title\": \"\\u043a\\u043e\\u043b\\u043e\\u043d\\u04...          1   \n",
       "4  [{\"Title\": \"\\u0433\\u0438\\u0440\\u043e\\u0441\\u04...          1   \n",
       "\n",
       "                                           Responses  \n",
       "0  1<BOB>0<BOT>самокат hudora<BOP>65<BOC1>eur<BOC...  \n",
       "1  1<BOB>0<BOT>мячи и корзина<BOP>5<BOC1>eur<BOC2...  \n",
       "2  1<BOB>0<BOT>100% органическое масло из миндаля...  \n",
       "3  1<BOB>0<BOT>колонки<BOP>80<BOC1>eur<BOC2>4 пар...  \n",
       "4  1<BOB>0<BOT>гироскутер с зарядным<BOP>100<BOC1...  "
      ]
     },
     "execution_count": 11,
     "metadata": {},
     "output_type": "execute_result"
    }
   ],
   "source": [
    "data[\"Responses\"] = responses\n",
    "data.head()"
   ]
  },
  {
   "cell_type": "code",
   "execution_count": 12,
   "id": "0a8006c9-5d8d-405f-87ab-c2d72c06c303",
   "metadata": {
    "tags": []
   },
   "outputs": [],
   "source": [
    "data.to_csv(f\"~/leonya/bench_results/{ckpt}_preds.csv\", index=False)"
   ]
  },
  {
   "cell_type": "code",
   "execution_count": 13,
   "id": "7bdc3ef2-7776-416e-9d25-b65b442e8e03",
   "metadata": {},
   "outputs": [
    {
     "data": {
      "text/plain": [
       "'fredT5-xl-lt'"
      ]
     },
     "execution_count": 13,
     "metadata": {},
     "output_type": "execute_result"
    }
   ],
   "source": [
    "ckpt"
   ]
  },
  {
   "cell_type": "code",
   "execution_count": 14,
   "id": "a363388a-6cb4-4701-a0e1-30aa65b4734d",
   "metadata": {},
   "outputs": [
    {
     "data": {
      "text/plain": [
       "(1000, 4)"
      ]
     },
     "execution_count": 14,
     "metadata": {},
     "output_type": "execute_result"
    }
   ],
   "source": [
    "data.shape"
   ]
  },
  {
   "cell_type": "code",
   "execution_count": null,
   "id": "a1deda6f-7c00-4166-b203-82e4f506fb81",
   "metadata": {},
   "outputs": [],
   "source": []
  }
 ],
 "metadata": {
  "kernelspec": {
   "display_name": "Python 3 (ipykernel)",
   "language": "python",
   "name": "python3"
  },
  "language_info": {
   "codemirror_mode": {
    "name": "ipython",
    "version": 3
   },
   "file_extension": ".py",
   "mimetype": "text/x-python",
   "name": "python",
   "nbconvert_exporter": "python",
   "pygments_lexer": "ipython3",
   "version": "3.10.14"
  }
 },
 "nbformat": 4,
 "nbformat_minor": 5
}
