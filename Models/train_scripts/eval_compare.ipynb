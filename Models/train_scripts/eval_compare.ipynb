{
 "cells": [
  {
   "cell_type": "code",
   "execution_count": 1,
   "id": "9b27b92c-8cd7-443a-bf61-9fe033c40b23",
   "metadata": {
    "execution": {
     "iopub.execute_input": "2024-05-15T17:12:42.125495Z",
     "iopub.status.busy": "2024-05-15T17:12:42.124625Z",
     "iopub.status.idle": "2024-05-15T17:13:10.287800Z",
     "shell.execute_reply": "2024-05-15T17:13:10.286653Z",
     "shell.execute_reply.started": "2024-05-15T17:12:42.125454Z"
    },
    "tags": []
   },
   "outputs": [
    {
     "name": "stderr",
     "output_type": "stream",
     "text": [
      "/home/jupyter/.local/lib/python3.10/site-packages/transformers/utils/hub.py:124: FutureWarning: Using `TRANSFORMERS_CACHE` is deprecated and will be removed in v5 of Transformers. Use `HF_HOME` instead.\n",
      "  warnings.warn(\n",
      "2024-05-15 17:13:03.037017: W tensorflow/compiler/tf2tensorrt/utils/py_utils.cc:38] TF-TRT Warning: Could not find TensorRT\n"
     ]
    }
   ],
   "source": [
    "import numpy as np\n",
    "import pandas as pd\n",
    "import matplotlib.pyplot as plt\n",
    "\n",
    "from tqdm.notebook import tqdm\n",
    "\n",
    "import json\n",
    "import re\n",
    "\n",
    "import torch\n",
    "from torch import nn\n",
    "from transformers import AutoTokenizer, AutoModelForSeq2SeqLM, AutoConfig\n",
    "\n",
    "import sys\n",
    "from eval_utils import get_parser, compute_test_metrics\n",
    "from utils import Format, get_to_string_processor"
   ]
  },
  {
   "cell_type": "code",
   "execution_count": 2,
   "id": "5a57ed7d-e7ca-4482-a375-bc32763e8562",
   "metadata": {
    "execution": {
     "iopub.execute_input": "2024-05-15T17:13:10.290745Z",
     "iopub.status.busy": "2024-05-15T17:13:10.289384Z",
     "iopub.status.idle": "2024-05-15T17:13:10.314881Z",
     "shell.execute_reply": "2024-05-15T17:13:10.313648Z",
     "shell.execute_reply.started": "2024-05-15T17:13:10.290680Z"
    },
    "tags": []
   },
   "outputs": [
    {
     "data": {
      "text/plain": [
       "{'format': 'SpecTokens',\n",
       " 'max_bundles': 5,\n",
       " 'model': 'ai-forever/ruT5-base',\n",
       " 'add_nl_token': False,\n",
       " 'add_eos_token': False,\n",
       " 'change_pad_to_eos': False,\n",
       " 'shuffle_bundles': True,\n",
       " 'save_folder': 'ruT5-base',\n",
       " 'train': {'n_epochs': 10,\n",
       "  'lr': 5e-05,\n",
       "  'batch_size': 16,\n",
       "  'weight_decay': 0.01,\n",
       "  'scheduler': 'cosine',\n",
       "  'warmup_steps': 500,\n",
       "  'fp16': True},\n",
       " 'eval': {'batch_size': 16, 'show': 5}}"
      ]
     },
     "execution_count": 2,
     "metadata": {},
     "output_type": "execute_result"
    }
   ],
   "source": [
    "with open(\"configs/config_ruT5-base-st.json\", \"rb\") as config:\n",
    "    params = json.load(config)\n",
    "\n",
    "params"
   ]
  },
  {
   "cell_type": "code",
   "execution_count": 3,
   "id": "26276797-8956-495d-86cb-6df777a1b20c",
   "metadata": {
    "execution": {
     "iopub.execute_input": "2024-05-15T17:13:10.317531Z",
     "iopub.status.busy": "2024-05-15T17:13:10.316655Z",
     "iopub.status.idle": "2024-05-15T17:13:10.442320Z",
     "shell.execute_reply": "2024-05-15T17:13:10.441059Z",
     "shell.execute_reply.started": "2024-05-15T17:13:10.317480Z"
    },
    "tags": []
   },
   "outputs": [
    {
     "data": {
      "text/plain": [
       "'cuda:0'"
      ]
     },
     "execution_count": 3,
     "metadata": {},
     "output_type": "execute_result"
    }
   ],
   "source": [
    "device = 'cuda:0' if torch.cuda.is_available() else 'cpu'\n",
    "device"
   ]
  },
  {
   "cell_type": "code",
   "execution_count": 4,
   "id": "6f440e94-332c-4fa0-98a9-0bd0a0444a92",
   "metadata": {
    "execution": {
     "iopub.execute_input": "2024-05-15T17:13:10.444944Z",
     "iopub.status.busy": "2024-05-15T17:13:10.444063Z",
     "iopub.status.idle": "2024-05-15T17:13:10.467678Z",
     "shell.execute_reply": "2024-05-15T17:13:10.466343Z",
     "shell.execute_reply.started": "2024-05-15T17:13:10.444903Z"
    },
    "tags": []
   },
   "outputs": [
    {
     "data": {
      "text/plain": [
       "<Format.SpecTokens: 0>"
      ]
     },
     "execution_count": 4,
     "metadata": {},
     "output_type": "execute_result"
    }
   ],
   "source": [
    "out_format = Format.SpecTokens if params[\"format\"] == \"SpecTokens\" else Format.JustJson\n",
    "out_format"
   ]
  },
  {
   "cell_type": "code",
   "execution_count": 5,
   "id": "efcdc4bc-affc-4992-8385-edab0cb7f096",
   "metadata": {
    "execution": {
     "iopub.execute_input": "2024-05-15T17:13:10.470652Z",
     "iopub.status.busy": "2024-05-15T17:13:10.469314Z",
     "iopub.status.idle": "2024-05-15T17:13:10.556963Z",
     "shell.execute_reply": "2024-05-15T17:13:10.555823Z",
     "shell.execute_reply.started": "2024-05-15T17:13:10.470591Z"
    },
    "tags": []
   },
   "outputs": [
    {
     "data": {
      "text/html": [
       "<div>\n",
       "<style scoped>\n",
       "    .dataframe tbody tr th:only-of-type {\n",
       "        vertical-align: middle;\n",
       "    }\n",
       "\n",
       "    .dataframe tbody tr th {\n",
       "        vertical-align: top;\n",
       "    }\n",
       "\n",
       "    .dataframe thead th {\n",
       "        text-align: right;\n",
       "    }\n",
       "</style>\n",
       "<table border=\"1\" class=\"dataframe\">\n",
       "  <thead>\n",
       "    <tr style=\"text-align: right;\">\n",
       "      <th></th>\n",
       "      <th>Text</th>\n",
       "      <th>bundles</th>\n",
       "      <th>n_bundles</th>\n",
       "    </tr>\n",
       "  </thead>\n",
       "  <tbody>\n",
       "    <tr>\n",
       "      <th>0</th>\n",
       "      <td>самокат hudora, в отличном состоянии, от 5+ и ...</td>\n",
       "      <td>[{\"Title\": \"\\u0441\\u0430\\u043c\\u043e\\u043a\\u04...</td>\n",
       "      <td>1</td>\n",
       "    </tr>\n",
       "    <tr>\n",
       "      <th>1</th>\n",
       "      <td>2 мяча и корзина 5€ лимассол</td>\n",
       "      <td>[{\"Title\": \"\\u043d\\u0430\\u0431\\u043e\\u0440 \\u0...</td>\n",
       "      <td>1</td>\n",
       "    </tr>\n",
       "    <tr>\n",
       "      <th>2</th>\n",
       "      <td>принимаются предзаказы на 100% органическое ма...</td>\n",
       "      <td>[{\"Title\": \"100% \\u043e\\u0440\\u0433\\u0430\\u043...</td>\n",
       "      <td>1</td>\n",
       "    </tr>\n",
       "    <tr>\n",
       "      <th>3</th>\n",
       "      <td>колонки, в рабочем состоянии! использовались р...</td>\n",
       "      <td>[{\"Title\": \"\\u043a\\u043e\\u043b\\u043e\\u043d\\u04...</td>\n",
       "      <td>1</td>\n",
       "    </tr>\n",
       "    <tr>\n",
       "      <th>4</th>\n",
       "      <td>гироскутер 100 евро с зарядным</td>\n",
       "      <td>[{\"Title\": \"\\u0433\\u0438\\u0440\\u043e\\u0441\\u04...</td>\n",
       "      <td>1</td>\n",
       "    </tr>\n",
       "  </tbody>\n",
       "</table>\n",
       "</div>"
      ],
      "text/plain": [
       "                                                Text  ... n_bundles\n",
       "0  самокат hudora, в отличном состоянии, от 5+ и ...  ...         1\n",
       "1                       2 мяча и корзина 5€ лимассол  ...         1\n",
       "2  принимаются предзаказы на 100% органическое ма...  ...         1\n",
       "3  колонки, в рабочем состоянии! использовались р...  ...         1\n",
       "4                     гироскутер 100 евро с зарядным  ...         1\n",
       "\n",
       "[5 rows x 3 columns]"
      ]
     },
     "execution_count": 5,
     "metadata": {},
     "output_type": "execute_result"
    }
   ],
   "source": [
    "data = pd.read_csv(\"~/work/resources/data/ads_test_1000.csv\")\n",
    "data.head()"
   ]
  },
  {
   "cell_type": "code",
   "execution_count": 6,
   "id": "800ea88d-dfc4-4b7f-819c-dcb83dd6d351",
   "metadata": {
    "execution": {
     "iopub.execute_input": "2024-05-15T17:13:10.559503Z",
     "iopub.status.busy": "2024-05-15T17:13:10.558397Z",
     "iopub.status.idle": "2024-05-15T17:13:10.584507Z",
     "shell.execute_reply": "2024-05-15T17:13:10.583419Z",
     "shell.execute_reply.started": "2024-05-15T17:13:10.559438Z"
    },
    "tags": []
   },
   "outputs": [
    {
     "data": {
      "text/plain": [
       "1     735\n",
       "0      89\n",
       "2      54\n",
       "3      34\n",
       "4      25\n",
       "5      18\n",
       "6      16\n",
       "7      10\n",
       "10      7\n",
       "9       7\n",
       "8       2\n",
       "36      1\n",
       "14      1\n",
       "13      1\n",
       "Name: n_bundles, dtype: int64"
      ]
     },
     "execution_count": 6,
     "metadata": {},
     "output_type": "execute_result"
    }
   ],
   "source": [
    "data[\"n_bundles\"].value_counts()"
   ]
  },
  {
   "cell_type": "code",
   "execution_count": 7,
   "id": "70d7df98-65cd-43e7-ba5d-266e72514ea8",
   "metadata": {
    "execution": {
     "iopub.execute_input": "2024-05-15T17:13:10.586483Z",
     "iopub.status.busy": "2024-05-15T17:13:10.585730Z",
     "iopub.status.idle": "2024-05-15T17:13:10.601168Z",
     "shell.execute_reply": "2024-05-15T17:13:10.599889Z",
     "shell.execute_reply.started": "2024-05-15T17:13:10.586444Z"
    },
    "tags": []
   },
   "outputs": [],
   "source": [
    "ckpt = params[\"save_folder\"]"
   ]
  },
  {
   "cell_type": "code",
   "execution_count": 8,
   "id": "fb9ca3ff-8dc0-417a-a78b-b7cdf3fd036f",
   "metadata": {
    "execution": {
     "iopub.execute_input": "2024-05-15T17:13:10.605172Z",
     "iopub.status.busy": "2024-05-15T17:13:10.603932Z",
     "iopub.status.idle": "2024-05-15T17:13:17.272424Z",
     "shell.execute_reply": "2024-05-15T17:13:17.271244Z",
     "shell.execute_reply.started": "2024-05-15T17:13:10.605117Z"
    },
    "tags": []
   },
   "outputs": [
    {
     "name": "stderr",
     "output_type": "stream",
     "text": [
      "You set `add_prefix_space`. The tokenizer needs to be converted from the slow tokenizers\n",
      "Special tokens have been added in the vocabulary, make sure the associated word embeddings are fine-tuned or trained.\n"
     ]
    }
   ],
   "source": [
    "model_checkpoint = f\"../good_checkpoints/{ckpt}\"\n",
    "tokenizer = AutoTokenizer.from_pretrained(model_checkpoint)\n",
    "model = AutoModelForSeq2SeqLM.from_pretrained(model_checkpoint)"
   ]
  },
  {
   "cell_type": "code",
   "execution_count": 9,
   "id": "dce38421-a518-44e4-95cf-f2f1f67e4ce0",
   "metadata": {
    "execution": {
     "iopub.execute_input": "2024-05-15T17:13:17.275156Z",
     "iopub.status.busy": "2024-05-15T17:13:17.274295Z",
     "iopub.status.idle": "2024-05-15T17:13:17.293949Z",
     "shell.execute_reply": "2024-05-15T17:13:17.292853Z",
     "shell.execute_reply.started": "2024-05-15T17:13:17.275102Z"
    },
    "tags": []
   },
   "outputs": [],
   "source": [
    "parser = get_parser(tokenizer, out_format)\n",
    "to_string_processor = get_to_string_processor(out_format)"
   ]
  },
  {
   "cell_type": "code",
   "execution_count": 12,
   "id": "5347647c-adee-4be9-86f6-a1107b48e157",
   "metadata": {
    "execution": {
     "iopub.execute_input": "2024-05-15T17:20:19.960849Z",
     "iopub.status.busy": "2024-05-15T17:20:19.959777Z",
     "iopub.status.idle": "2024-05-15T17:25:44.389367Z",
     "shell.execute_reply": "2024-05-15T17:25:44.388113Z",
     "shell.execute_reply.started": "2024-05-15T17:20:19.960796Z"
    },
    "tags": []
   },
   "outputs": [
    {
     "data": {
      "application/vnd.jupyter.widget-view+json": {
       "model_id": "c308688cfbda403eb6257ab1e9d29c7c",
       "version_major": 2,
       "version_minor": 0
      },
      "text/plain": [
       "  0%|          | 0/63 [00:00<?, ?it/s]"
      ]
     },
     "metadata": {},
     "output_type": "display_data"
    }
   ],
   "source": [
    "responses = []\n",
    "\n",
    "model.to(device)\n",
    "bs = 16\n",
    "for ind in tqdm(range(0, len(data), bs), total=(len(data) + bs - 1) // bs):\n",
    "    tokenized = tokenizer([data.loc[data.index[i], \"Text\"] + (tokenizer.eos_token if params.get(\"add_eos_token\", False) else \"\")\n",
    "                   for i in range(ind, min(ind + bs, len(data)))], max_length=512, padding=True, truncation=True, return_tensors=\"pt\")[\"input_ids\"]\n",
    "    preds = model.generate(\n",
    "        input_ids=tokenized.to(device),\n",
    "        max_length=512,\n",
    "        num_beams=4,\n",
    "        early_stopping=True,\n",
    "        eos_token_id=tokenizer.eos_token_id\n",
    "    ).cpu()\n",
    "    \n",
    "    preds = torch.where(preds == -100, tokenizer.eos_token_id, preds)\n",
    "    preds = tokenizer.batch_decode(preds, ignore_special_tokens=True)\n",
    "    responses += [re.sub(tokenizer.pad_token, \"\", pred) for pred in preds]"
   ]
  },
  {
   "cell_type": "code",
   "execution_count": 13,
   "id": "f71ee519-c48c-437a-9aac-75272768e19d",
   "metadata": {
    "execution": {
     "iopub.execute_input": "2024-05-15T17:26:07.074367Z",
     "iopub.status.busy": "2024-05-15T17:26:07.073526Z",
     "iopub.status.idle": "2024-05-15T17:26:07.336336Z",
     "shell.execute_reply": "2024-05-15T17:26:07.335207Z",
     "shell.execute_reply.started": "2024-05-15T17:26:07.074330Z"
    },
    "tags": []
   },
   "outputs": [
    {
     "data": {
      "text/html": [
       "<div>\n",
       "<style scoped>\n",
       "    .dataframe tbody tr th:only-of-type {\n",
       "        vertical-align: middle;\n",
       "    }\n",
       "\n",
       "    .dataframe tbody tr th {\n",
       "        vertical-align: top;\n",
       "    }\n",
       "\n",
       "    .dataframe thead th {\n",
       "        text-align: right;\n",
       "    }\n",
       "</style>\n",
       "<table border=\"1\" class=\"dataframe\">\n",
       "  <thead>\n",
       "    <tr style=\"text-align: right;\">\n",
       "      <th></th>\n",
       "      <th>Text</th>\n",
       "      <th>bundles</th>\n",
       "      <th>n_bundles</th>\n",
       "      <th>Responses</th>\n",
       "    </tr>\n",
       "  </thead>\n",
       "  <tbody>\n",
       "    <tr>\n",
       "      <th>0</th>\n",
       "      <td>самокат hudora, в отличном состоянии, от 5+ и ...</td>\n",
       "      <td>[{\"Title\": \"\\u0441\\u0430\\u043c\\u043e\\u043a\\u04...</td>\n",
       "      <td>1</td>\n",
       "      <td>&lt;BOB&gt; &lt;BOT&gt; самокат hudora &lt;EOT&gt; &lt;BOP&gt; 65 &lt;EOP...</td>\n",
       "    </tr>\n",
       "    <tr>\n",
       "      <th>1</th>\n",
       "      <td>2 мяча и корзина 5€ лимассол</td>\n",
       "      <td>[{\"Title\": \"\\u043d\\u0430\\u0431\\u043e\\u0440 \\u0...</td>\n",
       "      <td>1</td>\n",
       "      <td>&lt;BOB&gt; &lt;BOT&gt; 2 мяча и корзина &lt;EOT&gt; &lt;BOP&gt; 5 &lt;EO...</td>\n",
       "    </tr>\n",
       "    <tr>\n",
       "      <th>2</th>\n",
       "      <td>принимаются предзаказы на 100% органическое ма...</td>\n",
       "      <td>[{\"Title\": \"100% \\u043e\\u0440\\u0433\\u0430\\u043...</td>\n",
       "      <td>1</td>\n",
       "      <td>&lt;BOB&gt; &lt;BOT&gt; Органическое масло миндаля 100 мл ...</td>\n",
       "    </tr>\n",
       "    <tr>\n",
       "      <th>3</th>\n",
       "      <td>колонки, в рабочем состоянии! использовались р...</td>\n",
       "      <td>[{\"Title\": \"\\u043a\\u043e\\u043b\\u043e\\u043d\\u04...</td>\n",
       "      <td>1</td>\n",
       "      <td>&lt;BOB&gt; &lt;BOT&gt; колонки, в рабочем состоянии &lt;EOT&gt;...</td>\n",
       "    </tr>\n",
       "    <tr>\n",
       "      <th>4</th>\n",
       "      <td>гироскутер 100 евро с зарядным</td>\n",
       "      <td>[{\"Title\": \"\\u0433\\u0438\\u0440\\u043e\\u0441\\u04...</td>\n",
       "      <td>1</td>\n",
       "      <td>&lt;BOB&gt; &lt;BOT&gt; гироскутер с зарядным устройством ...</td>\n",
       "    </tr>\n",
       "  </tbody>\n",
       "</table>\n",
       "</div>"
      ],
      "text/plain": [
       "                                                Text  ...                                          Responses\n",
       "0  самокат hudora, в отличном состоянии, от 5+ и ...  ...  <BOB> <BOT> самокат hudora <EOT> <BOP> 65 <EOP...\n",
       "1                       2 мяча и корзина 5€ лимассол  ...  <BOB> <BOT> 2 мяча и корзина <EOT> <BOP> 5 <EO...\n",
       "2  принимаются предзаказы на 100% органическое ма...  ...  <BOB> <BOT> Органическое масло миндаля 100 мл ...\n",
       "3  колонки, в рабочем состоянии! использовались р...  ...  <BOB> <BOT> колонки, в рабочем состоянии <EOT>...\n",
       "4                     гироскутер 100 евро с зарядным  ...  <BOB> <BOT> гироскутер с зарядным устройством ...\n",
       "\n",
       "[5 rows x 4 columns]"
      ]
     },
     "execution_count": 13,
     "metadata": {},
     "output_type": "execute_result"
    }
   ],
   "source": [
    "data[\"Responses\"] = responses\n",
    "data.head()"
   ]
  },
  {
   "cell_type": "code",
   "execution_count": 14,
   "id": "0a8006c9-5d8d-405f-87ab-c2d72c06c303",
   "metadata": {
    "execution": {
     "iopub.execute_input": "2024-05-15T17:26:14.487312Z",
     "iopub.status.busy": "2024-05-15T17:26:14.486243Z",
     "iopub.status.idle": "2024-05-15T17:26:14.761925Z",
     "shell.execute_reply": "2024-05-15T17:26:14.760751Z",
     "shell.execute_reply.started": "2024-05-15T17:26:14.487274Z"
    },
    "tags": []
   },
   "outputs": [],
   "source": [
    "data.to_csv(f\"~/work/resources/bench_results/{ckpt}_preds.csv\", index=False)"
   ]
  }
 ],
 "metadata": {
  "kernelspec": {
   "display_name": "DataSphere Kernel",
   "language": "python",
   "name": "python3"
  },
  "language_info": {
   "codemirror_mode": {
    "name": "ipython",
    "version": 3
   },
   "file_extension": ".py",
   "mimetype": "text/x-python",
   "name": "python",
   "nbconvert_exporter": "python",
   "pygments_lexer": "ipython3",
   "version": "3.10.12"
  }
 },
 "nbformat": 4,
 "nbformat_minor": 5
}
