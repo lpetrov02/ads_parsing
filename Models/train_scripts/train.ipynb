{
 "cells": [
  {
   "cell_type": "code",
   "execution_count": 1,
   "id": "209adc81-37fa-433b-8afa-d94bdf1472cd",
   "metadata": {
    "execution": {
     "iopub.execute_input": "2024-05-15T09:00:37.173180Z",
     "iopub.status.busy": "2024-05-15T09:00:37.172248Z",
     "iopub.status.idle": "2024-05-15T09:01:11.302362Z",
     "shell.execute_reply": "2024-05-15T09:01:11.301135Z",
     "shell.execute_reply.started": "2024-05-15T09:00:37.173129Z"
    },
    "tags": []
   },
   "outputs": [
    {
     "name": "stderr",
     "output_type": "stream",
     "text": [
      "/home/jupyter/.local/lib/python3.10/site-packages/transformers/utils/hub.py:124: FutureWarning: Using `TRANSFORMERS_CACHE` is deprecated and will be removed in v5 of Transformers. Use `HF_HOME` instead.\n",
      "  warnings.warn(\n",
      "2024-05-15 09:01:03.436716: W tensorflow/compiler/tf2tensorrt/utils/py_utils.cc:38] TF-TRT Warning: Could not find TensorRT\n"
     ]
    }
   ],
   "source": [
    "import json\n",
    "import re\n",
    "import sys\n",
    "from math import factorial\n",
    "\n",
    "import matplotlib.pyplot as plt\n",
    "import numpy as np\n",
    "import pandas as pd\n",
    "import torch\n",
    "from datasets import Dataset\n",
    "from eval_utils import (\n",
    "    Format,\n",
    "    PrintCallback,\n",
    "    get_metrics_computer,\n",
    "    get_to_string_processor,\n",
    ")\n",
    "from torch import nn\n",
    "from transformers import (\n",
    "    AutoConfig,\n",
    "    AutoModelForSeq2SeqLM,\n",
    "    AutoTokenizer,\n",
    "    DataCollatorForSeq2Seq,\n",
    "    Seq2SeqTrainer,\n",
    "    Seq2SeqTrainingArguments,\n",
    ")"
   ]
  },
  {
   "cell_type": "code",
   "execution_count": 2,
   "id": "eae5f447-7a09-46fc-b8a3-332b413a2c7e",
   "metadata": {
    "execution": {
     "iopub.execute_input": "2024-05-15T09:01:11.305384Z",
     "iopub.status.busy": "2024-05-15T09:01:11.304069Z",
     "iopub.status.idle": "2024-05-15T09:01:11.324027Z",
     "shell.execute_reply": "2024-05-15T09:01:11.322965Z",
     "shell.execute_reply.started": "2024-05-15T09:01:11.305335Z"
    },
    "tags": []
   },
   "outputs": [],
   "source": [
    "def get_preprocessor(tokenizer, format):\n",
    "    def preprocess_function(examples):\n",
    "        inputs = [re.sub(\"\\n\", \" <NL> \", text) for text in examples[\"Text\"]]\n",
    "        targets = [\n",
    "            get_to_string_processor(format)(bundles) for bundles in examples[\"bundles\"]\n",
    "        ]\n",
    "        model_inputs = tokenizer(\n",
    "            inputs, text_target=targets, max_length=256, truncation=True\n",
    "        )\n",
    "        return model_inputs\n",
    "\n",
    "    return preprocess_function"
   ]
  },
  {
   "cell_type": "code",
   "execution_count": 3,
   "id": "29535241-843c-424b-aa58-24e6bf875ebe",
   "metadata": {
    "execution": {
     "iopub.execute_input": "2024-05-15T09:01:11.327511Z",
     "iopub.status.busy": "2024-05-15T09:01:11.326209Z",
     "iopub.status.idle": "2024-05-15T09:01:11.470757Z",
     "shell.execute_reply": "2024-05-15T09:01:11.469452Z",
     "shell.execute_reply.started": "2024-05-15T09:01:11.327460Z"
    },
    "tags": []
   },
   "outputs": [
    {
     "name": "stdout",
     "output_type": "stream",
     "text": [
      "cuda:0\n"
     ]
    }
   ],
   "source": [
    "format = Format.SpecTokens\n",
    "\n",
    "device = \"cuda:0\" if torch.cuda.is_available() else \"cpu\"\n",
    "print(device)"
   ]
  },
  {
   "cell_type": "code",
   "execution_count": 4,
   "id": "c493e6f4-e404-4138-b0fc-899a3f75f4e7",
   "metadata": {
    "execution": {
     "iopub.execute_input": "2024-05-15T09:01:11.473870Z",
     "iopub.status.busy": "2024-05-15T09:01:11.472866Z",
     "iopub.status.idle": "2024-05-15T09:01:11.712245Z",
     "shell.execute_reply": "2024-05-15T09:01:11.711114Z",
     "shell.execute_reply.started": "2024-05-15T09:01:11.473815Z"
    },
    "tags": []
   },
   "outputs": [
    {
     "name": "stdout",
     "output_type": "stream",
     "text": [
      "We have train datset of size 8632\n"
     ]
    },
    {
     "data": {
      "text/html": [
       "<div>\n",
       "<style scoped>\n",
       "    .dataframe tbody tr th:only-of-type {\n",
       "        vertical-align: middle;\n",
       "    }\n",
       "\n",
       "    .dataframe tbody tr th {\n",
       "        vertical-align: top;\n",
       "    }\n",
       "\n",
       "    .dataframe thead th {\n",
       "        text-align: right;\n",
       "    }\n",
       "</style>\n",
       "<table border=\"1\" class=\"dataframe\">\n",
       "  <thead>\n",
       "    <tr style=\"text-align: right;\">\n",
       "      <th></th>\n",
       "      <th>Text</th>\n",
       "      <th>bundles</th>\n",
       "      <th>n_bundles</th>\n",
       "    </tr>\n",
       "  </thead>\n",
       "  <tbody>\n",
       "    <tr>\n",
       "      <th>0</th>\n",
       "      <td>Продам телефон POCO F4 128GB телефону 8 месяце...</td>\n",
       "      <td>[{\"Title\": \"\\u0442\\u0435\\u043b\\u0435\\u0444\\u04...</td>\n",
       "      <td>1</td>\n",
       "    </tr>\n",
       "    <tr>\n",
       "      <th>1</th>\n",
       "      <td>продам sup борд  10'6 - 320х76х15 см, пользова...</td>\n",
       "      <td>[{\"Title\": \"sup \\u0431\\u043e\\u0440\\u0434 \\u043...</td>\n",
       "      <td>1</td>\n",
       "    </tr>\n",
       "    <tr>\n",
       "      <th>2</th>\n",
       "      <td>Изменились планы . Отдам за 2000</td>\n",
       "      <td>[]</td>\n",
       "      <td>0</td>\n",
       "    </tr>\n",
       "    <tr>\n",
       "      <th>3</th>\n",
       "      <td>Продам рацию MegaJet MJ-333 в хорошем рабочем ...</td>\n",
       "      <td>[{\"Title\": \"\\u0440\\u0430\\u0434\\u0438\\u043e\\u04...</td>\n",
       "      <td>1</td>\n",
       "    </tr>\n",
       "    <tr>\n",
       "      <th>4</th>\n",
       "      <td>Продам PlayStation 3\\n3 джойстик и все диски\\n...</td>\n",
       "      <td>[{\"Title\": \"PlayStation 3 \\u0441 3 \\u0434\\u043...</td>\n",
       "      <td>1</td>\n",
       "    </tr>\n",
       "  </tbody>\n",
       "</table>\n",
       "</div>"
      ],
      "text/plain": [
       "                                                Text  ... n_bundles\n",
       "0  Продам телефон POCO F4 128GB телефону 8 месяце...  ...         1\n",
       "1  продам sup борд  10'6 - 320х76х15 см, пользова...  ...         1\n",
       "2                   Изменились планы . Отдам за 2000  ...         0\n",
       "3  Продам рацию MegaJet MJ-333 в хорошем рабочем ...  ...         1\n",
       "4  Продам PlayStation 3\\n3 джойстик и все диски\\n...  ...         1\n",
       "\n",
       "[5 rows x 3 columns]"
      ]
     },
     "execution_count": 4,
     "metadata": {},
     "output_type": "execute_result"
    }
   ],
   "source": [
    "train_data = pd.read_csv(\"~/work/resources/data/ads_train.csv\")\n",
    "train_data = train_data[train_data[\"n_bundles\"] <= 5]\n",
    "train_data.set_index(np.arange(len(train_data)), inplace=True)\n",
    "print(f\"We have train datset of size {len(train_data)}\")\n",
    "train_data.head()"
   ]
  },
  {
   "cell_type": "code",
   "execution_count": 5,
   "id": "16e5489d-d721-49fe-80e3-33a6453ad3cc",
   "metadata": {
    "execution": {
     "iopub.execute_input": "2024-05-15T09:01:11.714644Z",
     "iopub.status.busy": "2024-05-15T09:01:11.713490Z",
     "iopub.status.idle": "2024-05-15T09:01:11.770654Z",
     "shell.execute_reply": "2024-05-15T09:01:11.769409Z",
     "shell.execute_reply.started": "2024-05-15T09:01:11.714592Z"
    },
    "tags": []
   },
   "outputs": [
    {
     "name": "stdout",
     "output_type": "stream",
     "text": [
      "We have eval datset of size 200\n"
     ]
    },
    {
     "data": {
      "text/html": [
       "<div>\n",
       "<style scoped>\n",
       "    .dataframe tbody tr th:only-of-type {\n",
       "        vertical-align: middle;\n",
       "    }\n",
       "\n",
       "    .dataframe tbody tr th {\n",
       "        vertical-align: top;\n",
       "    }\n",
       "\n",
       "    .dataframe thead th {\n",
       "        text-align: right;\n",
       "    }\n",
       "</style>\n",
       "<table border=\"1\" class=\"dataframe\">\n",
       "  <thead>\n",
       "    <tr style=\"text-align: right;\">\n",
       "      <th></th>\n",
       "      <th>Text</th>\n",
       "      <th>bundles</th>\n",
       "      <th>n_bundles</th>\n",
       "    </tr>\n",
       "  </thead>\n",
       "  <tbody>\n",
       "    <tr>\n",
       "      <th>0</th>\n",
       "      <td>Распродажа \\nПлатья \\nЦена: 300р\\nРазмер: 44-4...</td>\n",
       "      <td>[{\"Title\": \"\\u041f\\u043b\\u0430\\u0442\\u044c\\u04...</td>\n",
       "      <td>1</td>\n",
       "    </tr>\n",
       "    <tr>\n",
       "      <th>1</th>\n",
       "      <td>вегетарианская энциклопедия вкусов, что с чем ...</td>\n",
       "      <td>[{\"Title\": \"\\u0432\\u0435\\u0433\\u0435\\u0442\\u04...</td>\n",
       "      <td>1</td>\n",
       "    </tr>\n",
       "    <tr>\n",
       "      <th>2</th>\n",
       "      <td>продам щетку для сухого массажа, новая (так и ...</td>\n",
       "      <td>[{\"Title\": \"\\u0429\\u0435\\u0442\\u043a\\u0430 \\u0...</td>\n",
       "      <td>1</td>\n",
       "    </tr>\n",
       "    <tr>\n",
       "      <th>3</th>\n",
       "      <td>Зимний тёплый комбинезон,  пух, Crockid,  p.74...</td>\n",
       "      <td>[{\"Title\": \"\\u0417\\u0438\\u043c\\u043d\\u0438\\u04...</td>\n",
       "      <td>1</td>\n",
       "    </tr>\n",
       "    <tr>\n",
       "      <th>4</th>\n",
       "      <td>удлинитель икеа 1,5 м на 6 розеток\\n25 лари\\n📍...</td>\n",
       "      <td>[{\"Title\": \"\\u0443\\u0434\\u043b\\u0438\\u043d\\u04...</td>\n",
       "      <td>1</td>\n",
       "    </tr>\n",
       "  </tbody>\n",
       "</table>\n",
       "</div>"
      ],
      "text/plain": [
       "                                                Text  ... n_bundles\n",
       "0  Распродажа \\nПлатья \\nЦена: 300р\\nРазмер: 44-4...  ...         1\n",
       "1  вегетарианская энциклопедия вкусов, что с чем ...  ...         1\n",
       "2  продам щетку для сухого массажа, новая (так и ...  ...         1\n",
       "3  Зимний тёплый комбинезон,  пух, Crockid,  p.74...  ...         1\n",
       "4  удлинитель икеа 1,5 м на 6 розеток\\n25 лари\\n📍...  ...         1\n",
       "\n",
       "[5 rows x 3 columns]"
      ]
     },
     "execution_count": 5,
     "metadata": {},
     "output_type": "execute_result"
    }
   ],
   "source": [
    "eval_data = pd.read_csv(\"~/work/resources/data/ads_eval.csv\")\n",
    "eval_data = eval_data[:200]\n",
    "eval_data.set_index(np.arange(len(eval_data)), inplace=True)\n",
    "print(f\"We have eval datset of size {len(eval_data)}\")\n",
    "eval_data.head()"
   ]
  },
  {
   "cell_type": "code",
   "execution_count": 6,
   "id": "75015189-3f77-4029-944b-a029d109c2ea",
   "metadata": {
    "execution": {
     "iopub.execute_input": "2024-05-15T09:01:11.773315Z",
     "iopub.status.busy": "2024-05-15T09:01:11.772001Z",
     "iopub.status.idle": "2024-05-15T09:01:42.161494Z",
     "shell.execute_reply": "2024-05-15T09:01:42.160155Z",
     "shell.execute_reply.started": "2024-05-15T09:01:11.773254Z"
    },
    "tags": []
   },
   "outputs": [
    {
     "name": "stderr",
     "output_type": "stream",
     "text": [
      "/home/jupyter/.local/lib/python3.10/site-packages/huggingface_hub/file_download.py:1132: FutureWarning: `resume_download` is deprecated and will be removed in version 1.0.0. Downloads always resume when possible. If you want to force a new download, use `force_download=True`.\n",
      "  warnings.warn(\n",
      "You are using the default legacy behaviour of the <class 'transformers.models.t5.tokenization_t5.T5Tokenizer'>. This is expected, and simply means that the `legacy` (previous) behavior will be used so nothing changes for you. If you want to use the new behaviour, set `legacy=False`. This should only be set if you understand what it means, and thoroughly read the reason why this was added as explained in https://github.com/huggingface/transformers/pull/24565\n",
      "Special tokens have been added in the vocabulary, make sure the associated word embeddings are fine-tuned or trained.\n",
      "/usr/local/lib/python3.10/dist-packages/torch/_utils.py:776: UserWarning: TypedStorage is deprecated. It will be removed in the future and UntypedStorage will be the only storage class. This should only matter to you if you are using storages directly.  To access UntypedStorage directly, use tensor.untyped_storage() instead of tensor.storage()\n",
      "  return self.fget.__get__(instance, owner)()\n"
     ]
    },
    {
     "data": {
      "text/plain": [
       "Embedding(32113, 768)"
      ]
     },
     "execution_count": 6,
     "metadata": {},
     "output_type": "execute_result"
    }
   ],
   "source": [
    "model_checkpoint = \"ai-forever/ruT5-base\"\n",
    "tokenizer = AutoTokenizer.from_pretrained(model_checkpoint)\n",
    "model = AutoModelForSeq2SeqLM.from_pretrained(model_checkpoint)\n",
    "tokenizer.add_tokens([\"₾\", \"$\", \"€\", \"<NL>\"], special_tokens=False)\n",
    "if format == Format.SpecTokens:\n",
    "    tokenizer.add_tokens(\n",
    "        [\n",
    "            \"<BOB>\",\n",
    "            \"<EOB>\",\n",
    "            \"<BOT>\",\n",
    "            \"<EOT>\",\n",
    "            \"<BOP>\",\n",
    "            \"<EOP>\",\n",
    "            \"<BOC1>\",\n",
    "            \"<EOC1>\",\n",
    "            \"<BOC2>\",\n",
    "            \"<EOC2>\",\n",
    "        ],\n",
    "        special_tokens=False,\n",
    "    )\n",
    "elif format == Format.JustJson:\n",
    "    tokenizer.add_tokens([\"{\", \"}\"], special_tokens=False)\n",
    "model.resize_token_embeddings(len(tokenizer))"
   ]
  },
  {
   "cell_type": "code",
   "execution_count": 7,
   "id": "055bac9f-ce7a-4fc4-9aec-413be443e55b",
   "metadata": {
    "execution": {
     "iopub.execute_input": "2024-05-15T09:01:42.163955Z",
     "iopub.status.busy": "2024-05-15T09:01:42.162966Z",
     "iopub.status.idle": "2024-05-15T09:01:44.872002Z",
     "shell.execute_reply": "2024-05-15T09:01:44.870737Z",
     "shell.execute_reply.started": "2024-05-15T09:01:42.163902Z"
    },
    "tags": []
   },
   "outputs": [
    {
     "name": "stderr",
     "output_type": "stream",
     "text": [
      "Parameter 'function'=<function get_preprocessor.<locals>.preprocess_function at 0x7fdbbabf5750> of the transform datasets.arrow_dataset.Dataset._map_single couldn't be hashed properly, a random hash was used instead. Make sure your transforms and parameters are serializable with pickle or dill for the dataset fingerprinting and caching to work. If you reuse this transform, the caching mechanism will consider it to be different from the previous calls and recompute everything. This warning is only showed once. Subsequent hashing failures won't be showed.\n",
      "Map (num_proc=4): 100%|██████████| 8632/8632 [00:01<00:00, 4856.32 examples/s]\n",
      "Map (num_proc=4): 100%|██████████| 200/200 [00:00<00:00, 444.43 examples/s]\n"
     ]
    }
   ],
   "source": [
    "train_dataset = Dataset.from_pandas(train_data[[\"Text\", \"bundles\"]])\n",
    "train_ads = train_dataset.map(\n",
    "    get_preprocessor(tokenizer, format),\n",
    "    batched=True,\n",
    "    num_proc=4,\n",
    "    remove_columns=train_dataset.column_names,\n",
    ")\n",
    "train_ads = train_ads.flatten()\n",
    "\n",
    "eval_dataset = Dataset.from_pandas(eval_data[[\"Text\", \"bundles\"]])\n",
    "eval_ads = eval_dataset.map(\n",
    "    get_preprocessor(tokenizer, format),\n",
    "    batched=True,\n",
    "    num_proc=4,\n",
    "    remove_columns=eval_dataset.column_names,\n",
    ")\n",
    "eval_ads = eval_ads.flatten()"
   ]
  },
  {
   "cell_type": "code",
   "execution_count": 8,
   "id": "72850031-4972-4e9b-877a-3e9ab3ffe220",
   "metadata": {
    "execution": {
     "iopub.execute_input": "2024-05-15T09:01:44.876883Z",
     "iopub.status.busy": "2024-05-15T09:01:44.875669Z",
     "iopub.status.idle": "2024-05-15T09:01:44.894394Z",
     "shell.execute_reply": "2024-05-15T09:01:44.893264Z",
     "shell.execute_reply.started": "2024-05-15T09:01:44.876812Z"
    },
    "tags": []
   },
   "outputs": [],
   "source": [
    "data_collator = DataCollatorForSeq2Seq(tokenizer=tokenizer)"
   ]
  },
  {
   "cell_type": "code",
   "execution_count": 9,
   "id": "fd6fd1ab-cc46-405c-b34a-287d10e5ed39",
   "metadata": {
    "execution": {
     "iopub.execute_input": "2024-05-15T09:01:44.897244Z",
     "iopub.status.busy": "2024-05-15T09:01:44.895772Z",
     "iopub.status.idle": "2024-05-15T09:01:45.749549Z",
     "shell.execute_reply": "2024-05-15T09:01:45.748389Z",
     "shell.execute_reply.started": "2024-05-15T09:01:44.897197Z"
    },
    "tags": []
   },
   "outputs": [],
   "source": [
    "n_epochs = 10\n",
    "\n",
    "training_args = Seq2SeqTrainingArguments(\n",
    "    output_dir=\"ruT5\",\n",
    "    overwrite_output_dir=True,\n",
    "    evaluation_strategy=\"epoch\",\n",
    "    learning_rate=5e-5,  # 3e-5\n",
    "    per_device_train_batch_size=8,  # 8\n",
    "    per_device_eval_batch_size=8,  # 8\n",
    "    weight_decay=0.5,  # 0.01\n",
    "    save_total_limit=1,\n",
    "    num_train_epochs=n_epochs,\n",
    "    predict_with_generate=True,\n",
    "    generation_max_length=256,\n",
    "    lr_scheduler_type=\"cosine\",\n",
    "    group_by_length=False,\n",
    "    warmup_steps=200,  # 200\n",
    ")\n",
    "\n",
    "trainer = Seq2SeqTrainer(\n",
    "    model=model,\n",
    "    args=training_args,\n",
    "    train_dataset=train_ads,\n",
    "    eval_dataset=eval_ads,\n",
    "    tokenizer=tokenizer,\n",
    "    data_collator=data_collator,\n",
    "    compute_metrics=get_metrics_computer(tokenizer, format),\n",
    "    callbacks=[PrintCallback(format, show=5, device=device)],\n",
    ")"
   ]
  },
  {
   "cell_type": "code",
   "execution_count": 10,
   "id": "33be6366-8a0a-4a08-bf3a-80e8b093e738",
   "metadata": {
    "execution": {
     "iopub.execute_input": "2024-05-15T09:01:45.752554Z",
     "iopub.status.busy": "2024-05-15T09:01:45.751289Z",
     "iopub.status.idle": "2024-05-15T10:01:24.121739Z",
     "shell.execute_reply": "2024-05-15T10:01:24.119812Z",
     "shell.execute_reply.started": "2024-05-15T09:01:45.752495Z"
    },
    "tags": []
   },
   "outputs": [
    {
     "name": "stderr",
     "output_type": "stream",
     "text": [
      "  5%|▍         | 500/10790 [01:48<33:25,  5.13it/s]"
     ]
    },
    {
     "name": "stdout",
     "output_type": "stream",
     "text": [
      "{'loss': 2.0693, 'grad_norm': 6.453489303588867, 'learning_rate': 4.9901059596372036e-05, 'epoch': 0.46}\n"
     ]
    },
    {
     "name": "stderr",
     "output_type": "stream",
     "text": [
      "  9%|▉         | 1000/10790 [04:28<35:20,  4.62it/s]  "
     ]
    },
    {
     "name": "stdout",
     "output_type": "stream",
     "text": [
      "{'loss': 0.4481, 'grad_norm': 2.4874117374420166, 'learning_rate': 4.9299257516933094e-05, 'epoch': 0.93}\n"
     ]
    },
    {
     "name": "stderr",
     "output_type": "stream",
     "text": [
      " 10%|█         | 1079/10790 [05:37<33:08,  4.88it/s]   \n",
      "  0%|          | 0/25 [00:00<?, ?it/s]\u001b[A\n",
      "  8%|▊         | 2/25 [00:02<00:32,  1.40s/it]\u001b[A\n",
      " 12%|█▏        | 3/25 [00:04<00:29,  1.34s/it]\u001b[A\n",
      " 16%|█▌        | 4/25 [00:06<00:40,  1.93s/it]\u001b[A\n",
      " 20%|██        | 5/25 [00:08<00:36,  1.85s/it]\u001b[A\n",
      " 24%|██▍       | 6/25 [00:13<00:51,  2.70s/it]\u001b[A\n",
      " 28%|██▊       | 7/25 [00:15<00:44,  2.48s/it]\u001b[A\n",
      " 32%|███▏      | 8/25 [00:16<00:37,  2.20s/it]\u001b[A\n",
      " 36%|███▌      | 9/25 [00:23<00:56,  3.52s/it]\u001b[A\n",
      " 40%|████      | 10/25 [00:25<00:47,  3.20s/it]\u001b[A\n",
      " 44%|████▍     | 11/25 [00:27<00:37,  2.69s/it]\u001b[A\n",
      " 48%|████▊     | 12/25 [00:30<00:35,  2.74s/it]\u001b[A\n",
      " 52%|█████▏    | 13/25 [00:33<00:34,  2.84s/it]\u001b[A\n",
      " 56%|█████▌    | 14/25 [00:37<00:36,  3.29s/it]\u001b[A\n",
      " 60%|██████    | 15/25 [00:43<00:42,  4.23s/it]\u001b[A\n",
      " 64%|██████▍   | 16/25 [00:46<00:34,  3.79s/it]\u001b[A\n",
      " 68%|██████▊   | 17/25 [00:49<00:28,  3.55s/it]\u001b[A\n",
      " 72%|███████▏  | 18/25 [00:50<00:19,  2.80s/it]\u001b[A\n",
      " 76%|███████▌  | 19/25 [00:54<00:18,  3.05s/it]\u001b[A\n",
      " 80%|████████  | 20/25 [01:00<00:20,  4.04s/it]\u001b[A\n",
      " 84%|████████▍ | 21/25 [01:03<00:15,  3.80s/it]\u001b[A\n",
      " 88%|████████▊ | 22/25 [01:10<00:13,  4.58s/it]\u001b[A\n",
      " 92%|█████████▏| 23/25 [01:12<00:07,  3.87s/it]\u001b[A\n",
      " 96%|█████████▌| 24/25 [01:16<00:03,  3.82s/it]\u001b[A\n",
      "100%|██████████| 25/25 [01:20<00:00,  3.88s/it]\u001b[A\n",
      "\n",
      "Downloading builder script: 100%|██████████| 8.15k/8.15k [00:00<00:00, 2.39MB/s]\n",
      "\n",
      "\n",
      "Downloading builder script: 100%|██████████| 9.01k/9.01k [00:00<00:00, 3.73MB/s]\n",
      "                                                    \n",
      " 10%|█         | 1079/10790 [11:10<33:08,  4.88it/s]\n",
      "100%|██████████| 25/25 [05:31<00:00,  3.88s/it]\u001b[A"
     ]
    },
    {
     "name": "stdout",
     "output_type": "stream",
     "text": [
      "{'eval_loss': 0.33411353826522827, 'eval_Global BLEU': 77.58223397179312, 'eval_valid_answer_structure_precent': 99.48717948717949, 'eval_valid_bundles_precent': 100.0, 'eval_n_bundles_mae': 0.23195876288659795, 'eval_accidental_nulls': 0, 'eval_title_bleu_1_bundle': 37.18929084318527, 'eval_title_chrf_1_bundle': 69.57719813715752, 'eval_price_match_precent_1_bundle': 94.90445859872611, 'eval_currency_match_precent_1_bundle': 93.63057324840764, 'eval_count_match_precent_1_bundle': 94.26751592356688, 'eval_title_bleu_multi_bundle': 19.52296356198625, 'eval_title_chrf_multi_bundle': 50.242983623100756, 'eval_price_match_precent_multi_bundle': 39.6969696969697, 'eval_currency_match_precent_multi_bundle': 77.27272727272727, 'eval_count_match_precent_multi_bundle': 82.8030303030303, 'eval_runtime': 333.1562, 'eval_samples_per_second': 0.6, 'eval_steps_per_second': 0.075, 'epoch': 1.0}\n"
     ]
    },
    {
     "name": "stderr",
     "output_type": "stream",
     "text": [
      "\n",
      "                                               \u001b[A"
     ]
    },
    {
     "name": "stdout",
     "output_type": "stream",
     "text": [
      "\n",
      "ORIGINAL TEXT\n",
      "\tRAW\n",
      "\t Распродажа \n",
      " Платья \n",
      " Цена: 300р \n",
      " Размер: 44-46-48-50 \n",
      " Без выбора цвета \n",
      " Арт: 2Г-14 корпус Б</s>\n",
      "\n",
      "TARGET\n",
      "\tRAW\n",
      "\t <BOB> <BOT> Платья размер 44-46-48-50 <EOT> <BOP> 300 <EOP> <BOC1> RUB <EOC1> <BOC2> 1 <EOC2> <EOB></s>\n",
      "\tDECODED:\n",
      "\t [{'title': 'Платья размер 44-46-48-50', 'price': '300', 'currency': 'RUB', 'count': '1'}]\n",
      "\n",
      "PREDICTED\n",
      "\tRAW\n",
      "\t <BOB> <BOT> Платья <EOT> <BOP> 300 <EOP> <BOC1> RUB <EOC1> <BOC2> 1 <EOC2> <EOB></s>\n",
      "\tDECODED:\n",
      "\t [{'title': 'Платья', 'price': '300', 'currency': 'RUB', 'count': '1'}]\n",
      "--------------------------------------------------\n",
      "\n",
      "\n",
      "ORIGINAL TEXT\n",
      "\tRAW\n",
      "\t вегетарианская энциклопедия вкусов, что с чем сочетается, справочник от шеф поваров. 15 eur. лимассол.</s>\n",
      "\n",
      "TARGET\n",
      "\tRAW\n",
      "\t <BOB> <BOT> вегетарианская энциклопедия вкусов, что с чем сочетается, справочник от шеф поваров <EOT> <BOP> 15 <EOP> <BOC1> EUR <EOC1> <BOC2> 1 <EOC2> <EOB></s>\n",
      "\tDECODED:\n",
      "\t [{'title': 'вегетарианская энциклопедия вкусов, что с чем сочетается, справочник от шеф поваров', 'price': '15', 'currency': 'EUR', 'count': '1'}]\n",
      "\n",
      "PREDICTED\n",
      "\tRAW\n",
      "\t <BOB> <BOT> вегетарианская энциклопедия вкусов <EOT> <BOP> 15 <EOP> <BOC1> EUR <EOC1> <BOC2> 1 <EOC2> <EOB></s>\n",
      "\tDECODED:\n",
      "\t [{'title': 'вегетарианская энциклопедия вкусов', 'price': '15', 'currency': 'EUR', 'count': '1'}]\n",
      "--------------------------------------------------\n",
      "\n",
      "\n",
      "ORIGINAL TEXT\n",
      "\tRAW\n",
      "\t продам щетку для сухого массажа, новая (так и не дошли руки), 30см, средней жёсткости \n",
      " 10 евро, лимассол, никосия, привезу</s>\n",
      "\n",
      "TARGET\n",
      "\tRAW\n",
      "\t <BOB> <BOT> Щетка для сухого массажа, новая, средней жёсткости <EOT> <BOP> 10 <EOP> <BOC1> EUR <EOC1> <BOC2> 1 <EOC2> <EOB></s>\n",
      "\tDECODED:\n",
      "\t [{'title': 'Щетка для сухого массажа, новая, средней жёсткости', 'price': '10', 'currency': 'EUR', 'count': '1'}]\n",
      "\n",
      "PREDICTED\n",
      "\tRAW\n",
      "\t <BOB> <BOT> щетка для сухого массажа <EOT> <BOP> 10 <EOP> <BOC1> EUR <EOC1> <BOC2> 1 <EOC2> <EOB></s>\n",
      "\tDECODED:\n",
      "\t [{'title': 'щетка для сухого массажа', 'price': '10', 'currency': 'EUR', 'count': '1'}]\n",
      "--------------------------------------------------\n",
      "\n",
      "\n",
      "ORIGINAL TEXT\n",
      "\tRAW\n",
      "\t Зимний тёплый комбинезон, пух, Crockid, p.74-80, с пинетками и рукавичками, в отличном состоянии, 2.600р, Яхрома</s>\n",
      "\n",
      "TARGET\n",
      "\tRAW\n",
      "\t <BOB> <BOT> Зимний тёплый комбинезон Crockid с пинетками и рукавичками, размер 74-80 <EOT> <BOP> 2600 <EOP> <BOC1> RUB <EOC1> <BOC2> 1 <EOC2> <EOB></s>\n",
      "\tDECODED:\n",
      "\t [{'title': 'Зимний тёплый комбинезон Crockid с пинетками и рукавичками, размер 74-80', 'price': '2600', 'currency': 'RUB', 'count': '1'}]\n",
      "\n",
      "PREDICTED\n",
      "\tRAW\n",
      "\t <BOB> <BOT> Зимний тёплый комбинезон, пух, Crockid, p.74-80 <EOT> <BOP> 2.600 <EOP> <BOC1> RUB <EOC1> <BOC2> 1 <EOC2> <EOB></s>\n",
      "\tDECODED:\n",
      "\t [{'title': 'Зимний тёплый комбинезон, пух, Crockid, p.74-80', 'price': '2.600', 'currency': 'RUB', 'count': '1'}]\n",
      "--------------------------------------------------\n",
      "\n",
      "\n",
      "ORIGINAL TEXT\n",
      "\tRAW\n",
      "\t удлинитель икеа 1,5 м на 6 розеток \n",
      " 25 лари \n",
      " сабуртало</s>\n",
      "\n",
      "TARGET\n",
      "\tRAW\n",
      "\t <BOB> <BOT> удлинитель икеа 1,5 м на 6 розеток <EOT> <BOP> 25 <EOP> <BOC1> лари <EOC1> <BOC2> 1 <EOC2> <EOB></s>\n",
      "\tDECODED:\n",
      "\t [{'title': 'удлинитель икеа 1,5 м на 6 розеток', 'price': '25', 'currency': 'лари', 'count': '1'}]\n",
      "\n",
      "PREDICTED\n",
      "\tRAW\n",
      "\t <BOB> <BOT> удлинитель икеа 1,5 м на 6 розеток <EOT> <BOP> 25 <EOP> <BOC1> GEL <EOC1> <BOC2> 1 <EOC2> <EOB></s>\n",
      "\tDECODED:\n",
      "\t [{'title': 'удлинитель икеа 1,5 м на 6 розеток', 'price': '25', 'currency': 'GEL', 'count': '1'}]\n",
      "--------------------------------------------------\n",
      "\n"
     ]
    },
    {
     "name": "stderr",
     "output_type": "stream",
     "text": [
      " 14%|█▍        | 1500/10790 [12:40<32:30,  4.76it/s]     "
     ]
    },
    {
     "name": "stdout",
     "output_type": "stream",
     "text": [
      "{'loss': 0.3447, 'grad_norm': 1.8054348230361938, 'learning_rate': 4.81638202747802e-05, 'epoch': 1.39}\n"
     ]
    },
    {
     "name": "stderr",
     "output_type": "stream",
     "text": [
      " 19%|█▊        | 2000/10790 [15:20<29:32,  4.96it/s]   "
     ]
    },
    {
     "name": "stdout",
     "output_type": "stream",
     "text": [
      "{'loss': 0.3248, 'grad_norm': 1.2828145027160645, 'learning_rate': 4.65196831683292e-05, 'epoch': 1.85}\n"
     ]
    },
    {
     "name": "stderr",
     "output_type": "stream",
     "text": [
      " 20%|██        | 2158/10790 [16:50<31:17,  4.60it/s]   \n",
      "  0%|          | 0/25 [00:00<?, ?it/s]\u001b[A\n",
      "  8%|▊         | 2/25 [00:03<00:40,  1.78s/it]\u001b[A\n",
      " 12%|█▏        | 3/25 [00:04<00:34,  1.55s/it]\u001b[A\n",
      " 16%|█▌        | 4/25 [00:11<01:10,  3.37s/it]\u001b[A\n",
      " 20%|██        | 5/25 [00:15<01:11,  3.56s/it]\u001b[A\n",
      " 24%|██▍       | 6/25 [00:21<01:25,  4.50s/it]\u001b[A\n",
      " 28%|██▊       | 7/25 [00:23<01:06,  3.70s/it]\u001b[A\n",
      " 32%|███▏      | 8/25 [00:26<00:58,  3.47s/it]\u001b[A\n",
      " 36%|███▌      | 9/25 [00:31<01:01,  3.84s/it]\u001b[A\n",
      " 40%|████      | 10/25 [00:34<00:56,  3.79s/it]\u001b[A\n",
      " 44%|████▍     | 11/25 [00:36<00:43,  3.08s/it]\u001b[A\n",
      " 48%|████▊     | 12/25 [00:39<00:39,  3.00s/it]\u001b[A\n",
      " 52%|█████▏    | 13/25 [00:45<00:48,  4.01s/it]\u001b[A\n",
      " 56%|█████▌    | 14/25 [00:50<00:47,  4.33s/it]\u001b[A\n",
      " 60%|██████    | 15/25 [00:56<00:49,  4.95s/it]\u001b[A\n",
      " 64%|██████▍   | 16/25 [01:00<00:39,  4.42s/it]\u001b[A\n",
      " 68%|██████▊   | 17/25 [01:03<00:32,  4.06s/it]\u001b[A\n",
      " 72%|███████▏  | 18/25 [01:04<00:22,  3.18s/it]\u001b[A\n",
      " 76%|███████▌  | 19/25 [01:07<00:19,  3.25s/it]\u001b[A\n",
      " 80%|████████  | 20/25 [01:14<00:20,  4.18s/it]\u001b[A\n",
      " 84%|████████▍ | 21/25 [01:18<00:16,  4.13s/it]\u001b[A\n",
      " 88%|████████▊ | 22/25 [01:24<00:14,  4.80s/it]\u001b[A\n",
      " 92%|█████████▏| 23/25 [01:27<00:08,  4.23s/it]\u001b[A\n",
      " 96%|█████████▌| 24/25 [01:31<00:04,  4.25s/it]\u001b[A\n",
      "                                                    \n",
      " 20%|██        | 2158/10790 [22:29<31:17,  4.60it/s]\n",
      "100%|██████████| 25/25 [05:37<00:00,  4.16s/it]\u001b[A"
     ]
    },
    {
     "name": "stdout",
     "output_type": "stream",
     "text": [
      "{'eval_loss': 0.29016411304473877, 'eval_Global BLEU': 74.1543630156271, 'eval_valid_answer_structure_precent': 96.41025641025641, 'eval_valid_bundles_precent': 100.0, 'eval_n_bundles_mae': 0.2074468085106383, 'eval_accidental_nulls': 0, 'eval_title_bleu_1_bundle': 37.448142430641866, 'eval_title_chrf_1_bundle': 69.2539722495503, 'eval_price_match_precent_1_bundle': 96.05263157894737, 'eval_currency_match_precent_1_bundle': 92.76315789473685, 'eval_count_match_precent_1_bundle': 94.73684210526315, 'eval_title_bleu_multi_bundle': 26.24948662257288, 'eval_title_chrf_multi_bundle': 65.35314048260699, 'eval_price_match_precent_multi_bundle': 55.7936507936508, 'eval_currency_match_precent_multi_bundle': 85.71428571428571, 'eval_count_match_precent_multi_bundle': 80.3968253968254, 'eval_runtime': 339.394, 'eval_samples_per_second': 0.589, 'eval_steps_per_second': 0.074, 'epoch': 2.0}\n"
     ]
    },
    {
     "name": "stderr",
     "output_type": "stream",
     "text": [
      "\n",
      "                                               \u001b[A"
     ]
    },
    {
     "name": "stdout",
     "output_type": "stream",
     "text": [
      "\n",
      "ORIGINAL TEXT\n",
      "\tRAW\n",
      "\t Распродажа \n",
      " Платья \n",
      " Цена: 300р \n",
      " Размер: 44-46-48-50 \n",
      " Без выбора цвета \n",
      " Арт: 2Г-14 корпус Б</s>\n",
      "\n",
      "TARGET\n",
      "\tRAW\n",
      "\t <BOB> <BOT> Платья размер 44-46-48-50 <EOT> <BOP> 300 <EOP> <BOC1> RUB <EOC1> <BOC2> 1 <EOC2> <EOB></s>\n",
      "\tDECODED:\n",
      "\t [{'title': 'Платья размер 44-46-48-50', 'price': '300', 'currency': 'RUB', 'count': '1'}]\n",
      "\n",
      "PREDICTED\n",
      "\tRAW\n",
      "\t <BOB> <BOT> Платья <EOT> <BOP> 300 <EOP> <BOC1> RUB <EOC1> <BOC2> 1 <EOC2> <EOB></s>\n",
      "\tDECODED:\n",
      "\t [{'title': 'Платья', 'price': '300', 'currency': 'RUB', 'count': '1'}]\n",
      "--------------------------------------------------\n",
      "\n",
      "\n",
      "ORIGINAL TEXT\n",
      "\tRAW\n",
      "\t вегетарианская энциклопедия вкусов, что с чем сочетается, справочник от шеф поваров. 15 eur. лимассол.</s>\n",
      "\n",
      "TARGET\n",
      "\tRAW\n",
      "\t <BOB> <BOT> вегетарианская энциклопедия вкусов, что с чем сочетается, справочник от шеф поваров <EOT> <BOP> 15 <EOP> <BOC1> EUR <EOC1> <BOC2> 1 <EOC2> <EOB></s>\n",
      "\tDECODED:\n",
      "\t [{'title': 'вегетарианская энциклопедия вкусов, что с чем сочетается, справочник от шеф поваров', 'price': '15', 'currency': 'EUR', 'count': '1'}]\n",
      "\n",
      "PREDICTED\n",
      "\tRAW\n",
      "\t <BOB> <BOT> вегетарианская энциклопедия вкусов <EOT> <BOP> 15 <EOP> <BOC1> EUR <EOC1> <BOC2> 1 <EOC2> <EOB></s>\n",
      "\tDECODED:\n",
      "\t [{'title': 'вегетарианская энциклопедия вкусов', 'price': '15', 'currency': 'EUR', 'count': '1'}]\n",
      "--------------------------------------------------\n",
      "\n",
      "\n",
      "ORIGINAL TEXT\n",
      "\tRAW\n",
      "\t продам щетку для сухого массажа, новая (так и не дошли руки), 30см, средней жёсткости \n",
      " 10 евро, лимассол, никосия, привезу</s>\n",
      "\n",
      "TARGET\n",
      "\tRAW\n",
      "\t <BOB> <BOT> Щетка для сухого массажа, новая, средней жёсткости <EOT> <BOP> 10 <EOP> <BOC1> EUR <EOC1> <BOC2> 1 <EOC2> <EOB></s>\n",
      "\tDECODED:\n",
      "\t [{'title': 'Щетка для сухого массажа, новая, средней жёсткости', 'price': '10', 'currency': 'EUR', 'count': '1'}]\n",
      "\n",
      "PREDICTED\n",
      "\tRAW\n",
      "\t <BOB> <BOT> щетка для сухого массажа 30см <EOT> <BOP> 10 <EOP> <BOC1> EUR <EOC1> <BOC2> 1 <EOC2> <EOB></s>\n",
      "\tDECODED:\n",
      "\t [{'title': 'щетка для сухого массажа 30см', 'price': '10', 'currency': 'EUR', 'count': '1'}]\n",
      "--------------------------------------------------\n",
      "\n",
      "\n",
      "ORIGINAL TEXT\n",
      "\tRAW\n",
      "\t Зимний тёплый комбинезон, пух, Crockid, p.74-80, с пинетками и рукавичками, в отличном состоянии, 2.600р, Яхрома</s>\n",
      "\n",
      "TARGET\n",
      "\tRAW\n",
      "\t <BOB> <BOT> Зимний тёплый комбинезон Crockid с пинетками и рукавичками, размер 74-80 <EOT> <BOP> 2600 <EOP> <BOC1> RUB <EOC1> <BOC2> 1 <EOC2> <EOB></s>\n",
      "\tDECODED:\n",
      "\t [{'title': 'Зимний тёплый комбинезон Crockid с пинетками и рукавичками, размер 74-80', 'price': '2600', 'currency': 'RUB', 'count': '1'}]\n",
      "\n",
      "PREDICTED\n",
      "\tRAW\n",
      "\t <BOB> <BOT> Зимний тёплый комбинезон, пух, Crockid, p.74-80, с пинетками и рукавичками <EOT> <BOP> 2600 <EOP> <BOC1> RUB <EOC1> <BOC2> 1 <EOC2> <EOB></s>\n",
      "\tDECODED:\n",
      "\t [{'title': 'Зимний тёплый комбинезон, пух, Crockid, p.74-80, с пинетками и рукавичками', 'price': '2600', 'currency': 'RUB', 'count': '1'}]\n",
      "--------------------------------------------------\n",
      "\n",
      "\n",
      "ORIGINAL TEXT\n",
      "\tRAW\n",
      "\t удлинитель икеа 1,5 м на 6 розеток \n",
      " 25 лари \n",
      " сабуртало</s>\n",
      "\n",
      "TARGET\n",
      "\tRAW\n",
      "\t <BOB> <BOT> удлинитель икеа 1,5 м на 6 розеток <EOT> <BOP> 25 <EOP> <BOC1> лари <EOC1> <BOC2> 1 <EOC2> <EOB></s>\n",
      "\tDECODED:\n",
      "\t [{'title': 'удлинитель икеа 1,5 м на 6 розеток', 'price': '25', 'currency': 'лари', 'count': '1'}]\n",
      "\n",
      "PREDICTED\n",
      "\tRAW\n",
      "\t <BOB> <BOT> удлинитель икеа 1,5 м на 6 розеток <EOT> <BOP> 25 <EOP> <BOC1> GEL <EOC1> <BOC2> 1 <EOC2> <EOB></s>\n",
      "\tDECODED:\n",
      "\t [{'title': 'удлинитель икеа 1,5 м на 6 розеток', 'price': '25', 'currency': 'GEL', 'count': '1'}]\n",
      "--------------------------------------------------\n",
      "\n"
     ]
    },
    {
     "name": "stderr",
     "output_type": "stream",
     "text": [
      " 23%|██▎       | 2500/10790 [23:44<27:12,  5.08it/s]     "
     ]
    },
    {
     "name": "stdout",
     "output_type": "stream",
     "text": [
      "{'loss': 0.2797, 'grad_norm': 1.8456127643585205, 'learning_rate': 4.440295303630605e-05, 'epoch': 2.32}\n"
     ]
    },
    {
     "name": "stderr",
     "output_type": "stream",
     "text": [
      " 28%|██▊       | 3000/10790 [26:25<26:10,  4.96it/s]   "
     ]
    },
    {
     "name": "stdout",
     "output_type": "stream",
     "text": [
      "{'loss': 0.2601, 'grad_norm': 2.0044031143188477, 'learning_rate': 4.1860115316697356e-05, 'epoch': 2.78}\n"
     ]
    },
    {
     "name": "stderr",
     "output_type": "stream",
     "text": [
      " 30%|███       | 3237/10790 [28:11<27:31,  4.57it/s]   \n",
      "  0%|          | 0/25 [00:00<?, ?it/s]\u001b[A\n",
      "  8%|▊         | 2/25 [00:03<00:41,  1.79s/it]\u001b[A\n",
      " 12%|█▏        | 3/25 [00:04<00:34,  1.58s/it]\u001b[A\n",
      " 16%|█▌        | 4/25 [00:07<00:42,  2.03s/it]\u001b[A\n",
      " 20%|██        | 5/25 [00:10<00:48,  2.41s/it]\u001b[A\n",
      " 24%|██▍       | 6/25 [00:13<00:45,  2.38s/it]\u001b[A\n",
      " 28%|██▊       | 7/25 [00:15<00:40,  2.23s/it]\u001b[A\n",
      " 32%|███▏      | 8/25 [00:17<00:38,  2.25s/it]\u001b[A\n",
      " 36%|███▌      | 9/25 [00:21<00:44,  2.79s/it]\u001b[A\n",
      " 40%|████      | 10/25 [00:25<00:46,  3.09s/it]\u001b[A\n",
      " 44%|████▍     | 11/25 [00:26<00:35,  2.51s/it]\u001b[A\n",
      " 48%|████▊     | 12/25 [00:29<00:34,  2.63s/it]\u001b[A\n",
      " 52%|█████▏    | 13/25 [00:32<00:34,  2.87s/it]\u001b[A\n",
      " 56%|█████▌    | 14/25 [00:36<00:35,  3.27s/it]\u001b[A\n",
      " 60%|██████    | 15/25 [00:39<00:31,  3.19s/it]\u001b[A\n",
      " 64%|██████▍   | 16/25 [00:41<00:25,  2.84s/it]\u001b[A\n",
      " 68%|██████▊   | 17/25 [00:45<00:24,  3.06s/it]\u001b[A\n",
      " 72%|███████▏  | 18/25 [00:46<00:17,  2.55s/it]\u001b[A\n",
      " 76%|███████▌  | 19/25 [00:49<00:14,  2.47s/it]\u001b[A\n",
      " 80%|████████  | 20/25 [00:53<00:15,  3.12s/it]\u001b[A\n",
      " 84%|████████▍ | 21/25 [00:57<00:13,  3.43s/it]\u001b[A\n",
      " 88%|████████▊ | 22/25 [01:01<00:10,  3.56s/it]\u001b[A\n",
      " 92%|█████████▏| 23/25 [01:03<00:06,  3.15s/it]\u001b[A\n",
      " 96%|█████████▌| 24/25 [01:08<00:03,  3.72s/it]\u001b[A\n",
      "                                                    \n",
      " 30%|███       | 3237/10790 [33:35<27:31,  4.57it/s]\n",
      "100%|██████████| 25/25 [05:22<00:00,  3.59s/it]\u001b[A"
     ]
    },
    {
     "name": "stdout",
     "output_type": "stream",
     "text": [
      "{'eval_loss': 0.286516010761261, 'eval_Global BLEU': 79.77928273502508, 'eval_valid_answer_structure_precent': 99.48717948717949, 'eval_valid_bundles_precent': 100.0, 'eval_n_bundles_mae': 0.20618556701030927, 'eval_accidental_nulls': 0, 'eval_title_bleu_1_bundle': 40.91806743151628, 'eval_title_chrf_1_bundle': 72.62147256113701, 'eval_price_match_precent_1_bundle': 94.11764705882352, 'eval_currency_match_precent_1_bundle': 94.77124183006535, 'eval_count_match_precent_1_bundle': 94.77124183006535, 'eval_title_bleu_multi_bundle': 23.522926622566146, 'eval_title_chrf_multi_bundle': 70.97579610075802, 'eval_price_match_precent_multi_bundle': 78.3974358974359, 'eval_currency_match_precent_multi_bundle': 80.76923076923077, 'eval_count_match_precent_multi_bundle': 89.2948717948718, 'eval_runtime': 324.0956, 'eval_samples_per_second': 0.617, 'eval_steps_per_second': 0.077, 'epoch': 3.0}\n"
     ]
    },
    {
     "name": "stderr",
     "output_type": "stream",
     "text": [
      "\n",
      "                                               \u001b[A"
     ]
    },
    {
     "name": "stdout",
     "output_type": "stream",
     "text": [
      "\n",
      "ORIGINAL TEXT\n",
      "\tRAW\n",
      "\t Распродажа \n",
      " Платья \n",
      " Цена: 300р \n",
      " Размер: 44-46-48-50 \n",
      " Без выбора цвета \n",
      " Арт: 2Г-14 корпус Б</s>\n",
      "\n",
      "TARGET\n",
      "\tRAW\n",
      "\t <BOB> <BOT> Платья размер 44-46-48-50 <EOT> <BOP> 300 <EOP> <BOC1> RUB <EOC1> <BOC2> 1 <EOC2> <EOB></s>\n",
      "\tDECODED:\n",
      "\t [{'title': 'Платья размер 44-46-48-50', 'price': '300', 'currency': 'RUB', 'count': '1'}]\n",
      "\n",
      "PREDICTED\n",
      "\tRAW\n",
      "\t <BOB> <BOT> Платья <EOT> <BOP> 300 <EOP> <BOC1> RUB <EOC1> <BOC2> 1 <EOC2> <EOB></s>\n",
      "\tDECODED:\n",
      "\t [{'title': 'Платья', 'price': '300', 'currency': 'RUB', 'count': '1'}]\n",
      "--------------------------------------------------\n",
      "\n",
      "\n",
      "ORIGINAL TEXT\n",
      "\tRAW\n",
      "\t вегетарианская энциклопедия вкусов, что с чем сочетается, справочник от шеф поваров. 15 eur. лимассол.</s>\n",
      "\n",
      "TARGET\n",
      "\tRAW\n",
      "\t <BOB> <BOT> вегетарианская энциклопедия вкусов, что с чем сочетается, справочник от шеф поваров <EOT> <BOP> 15 <EOP> <BOC1> EUR <EOC1> <BOC2> 1 <EOC2> <EOB></s>\n",
      "\tDECODED:\n",
      "\t [{'title': 'вегетарианская энциклопедия вкусов, что с чем сочетается, справочник от шеф поваров', 'price': '15', 'currency': 'EUR', 'count': '1'}]\n",
      "\n",
      "PREDICTED\n",
      "\tRAW\n",
      "\t <BOB> <BOT> вегетарианская энциклопедия вкусов, справочник от шеф поваров <EOT> <BOP> 15 <EOP> <BOC1> EUR <EOC1> <BOC2> 1 <EOC2> <EOB></s>\n",
      "\tDECODED:\n",
      "\t [{'title': 'вегетарианская энциклопедия вкусов, справочник от шеф поваров', 'price': '15', 'currency': 'EUR', 'count': '1'}]\n",
      "--------------------------------------------------\n",
      "\n",
      "\n",
      "ORIGINAL TEXT\n",
      "\tRAW\n",
      "\t продам щетку для сухого массажа, новая (так и не дошли руки), 30см, средней жёсткости \n",
      " 10 евро, лимассол, никосия, привезу</s>\n",
      "\n",
      "TARGET\n",
      "\tRAW\n",
      "\t <BOB> <BOT> Щетка для сухого массажа, новая, средней жёсткости <EOT> <BOP> 10 <EOP> <BOC1> EUR <EOC1> <BOC2> 1 <EOC2> <EOB></s>\n",
      "\tDECODED:\n",
      "\t [{'title': 'Щетка для сухого массажа, новая, средней жёсткости', 'price': '10', 'currency': 'EUR', 'count': '1'}]\n",
      "\n",
      "PREDICTED\n",
      "\tRAW\n",
      "\t <BOB> <BOT> щетка для сухого массажа, 30см, средней жёсткости <EOT> <BOP> 10 <EOP> <BOC1> EUR <EOC1> <BOC2> 1 <EOC2> <EOB></s>\n",
      "\tDECODED:\n",
      "\t [{'title': 'щетка для сухого массажа, 30см, средней жёсткости', 'price': '10', 'currency': 'EUR', 'count': '1'}]\n",
      "--------------------------------------------------\n",
      "\n",
      "\n",
      "ORIGINAL TEXT\n",
      "\tRAW\n",
      "\t Зимний тёплый комбинезон, пух, Crockid, p.74-80, с пинетками и рукавичками, в отличном состоянии, 2.600р, Яхрома</s>\n",
      "\n",
      "TARGET\n",
      "\tRAW\n",
      "\t <BOB> <BOT> Зимний тёплый комбинезон Crockid с пинетками и рукавичками, размер 74-80 <EOT> <BOP> 2600 <EOP> <BOC1> RUB <EOC1> <BOC2> 1 <EOC2> <EOB></s>\n",
      "\tDECODED:\n",
      "\t [{'title': 'Зимний тёплый комбинезон Crockid с пинетками и рукавичками, размер 74-80', 'price': '2600', 'currency': 'RUB', 'count': '1'}]\n",
      "\n",
      "PREDICTED\n",
      "\tRAW\n",
      "\t <BOB> <BOT> Зимний тёплый комбинезон Crockid, p.74-80, с пинетками и рукавичками <EOT> <BOP> 2000 <EOP> <BOC1> RUB <EOC1> <BOC2> 1 <EOC2> <EOB></s>\n",
      "\tDECODED:\n",
      "\t [{'title': 'Зимний тёплый комбинезон Crockid, p.74-80, с пинетками и рукавичками', 'price': '2000', 'currency': 'RUB', 'count': '1'}]\n",
      "--------------------------------------------------\n",
      "\n",
      "\n",
      "ORIGINAL TEXT\n",
      "\tRAW\n",
      "\t удлинитель икеа 1,5 м на 6 розеток \n",
      " 25 лари \n",
      " сабуртало</s>\n",
      "\n",
      "TARGET\n",
      "\tRAW\n",
      "\t <BOB> <BOT> удлинитель икеа 1,5 м на 6 розеток <EOT> <BOP> 25 <EOP> <BOC1> лари <EOC1> <BOC2> 1 <EOC2> <EOB></s>\n",
      "\tDECODED:\n",
      "\t [{'title': 'удлинитель икеа 1,5 м на 6 розеток', 'price': '25', 'currency': 'лари', 'count': '1'}]\n",
      "\n",
      "PREDICTED\n",
      "\tRAW\n",
      "\t <BOB> <BOT> удлинитель икеа 1,5 м на 6 розеток <EOT> <BOP> 25 <EOP> <BOC1> лари <EOC1> <BOC2> 1 <EOC2> <EOB></s>\n",
      "\tDECODED:\n",
      "\t [{'title': 'удлинитель икеа 1,5 м на 6 розеток', 'price': '25', 'currency': 'лари', 'count': '1'}]\n",
      "--------------------------------------------------\n",
      "\n"
     ]
    },
    {
     "name": "stderr",
     "output_type": "stream",
     "text": [
      " 32%|███▏      | 3500/10790 [34:32<26:41,  4.55it/s]    "
     ]
    },
    {
     "name": "stdout",
     "output_type": "stream",
     "text": [
      "{'loss': 0.2314, 'grad_norm': 1.678099274635315, 'learning_rate': 3.8947013181637624e-05, 'epoch': 3.24}\n"
     ]
    },
    {
     "name": "stderr",
     "output_type": "stream",
     "text": [
      " 37%|███▋      | 4000/10790 [37:13<21:18,  5.31it/s]   "
     ]
    },
    {
     "name": "stdout",
     "output_type": "stream",
     "text": [
      "{'loss': 0.2192, 'grad_norm': 0.9023706316947937, 'learning_rate': 3.572762116741717e-05, 'epoch': 3.71}\n"
     ]
    },
    {
     "name": "stderr",
     "output_type": "stream",
     "text": [
      " 40%|████      | 4316/10790 [39:14<24:15,  4.45it/s]   \n",
      "  0%|          | 0/25 [00:00<?, ?it/s]\u001b[A\n",
      "  8%|▊         | 2/25 [00:02<00:32,  1.40s/it]\u001b[A\n",
      " 12%|█▏        | 3/25 [00:04<00:29,  1.36s/it]\u001b[A\n",
      " 16%|█▌        | 4/25 [00:06<00:37,  1.77s/it]\u001b[A\n",
      " 20%|██        | 5/25 [00:09<00:45,  2.26s/it]\u001b[A\n",
      " 24%|██▍       | 6/25 [00:12<00:47,  2.49s/it]\u001b[A\n",
      " 28%|██▊       | 7/25 [00:14<00:41,  2.31s/it]\u001b[A\n",
      " 32%|███▏      | 8/25 [00:16<00:38,  2.29s/it]\u001b[A\n",
      " 36%|███▌      | 9/25 [00:20<00:45,  2.84s/it]\u001b[A\n",
      " 40%|████      | 10/25 [00:23<00:40,  2.73s/it]\u001b[A\n",
      " 44%|████▍     | 11/25 [00:24<00:32,  2.34s/it]\u001b[A\n",
      " 48%|████▊     | 12/25 [00:27<00:32,  2.48s/it]\u001b[A\n",
      " 52%|█████▏    | 13/25 [00:30<00:32,  2.74s/it]\u001b[A\n",
      " 56%|█████▌    | 14/25 [00:34<00:31,  2.89s/it]\u001b[A\n",
      " 60%|██████    | 15/25 [00:37<00:29,  2.93s/it]\u001b[A\n",
      " 64%|██████▍   | 16/25 [00:39<00:24,  2.67s/it]\u001b[A\n",
      " 68%|██████▊   | 17/25 [00:42<00:21,  2.70s/it]\u001b[A\n",
      " 72%|███████▏  | 18/25 [00:43<00:15,  2.24s/it]\u001b[A\n",
      " 76%|███████▌  | 19/25 [00:45<00:13,  2.25s/it]\u001b[A\n",
      " 80%|████████  | 20/25 [00:49<00:14,  2.82s/it]\u001b[A\n",
      " 84%|████████▍ | 21/25 [00:52<00:11,  2.83s/it]\u001b[A\n",
      " 88%|████████▊ | 22/25 [00:56<00:09,  3.16s/it]\u001b[A\n",
      " 92%|█████████▏| 23/25 [00:58<00:05,  2.86s/it]\u001b[A\n",
      " 96%|█████████▌| 24/25 [01:03<00:03,  3.37s/it]\u001b[A\n",
      "                                                    \n",
      " 40%|████      | 4316/10790 [44:30<24:15,  4.45it/s]\n",
      "100%|██████████| 25/25 [05:14<00:00,  3.56s/it]\u001b[A"
     ]
    },
    {
     "name": "stdout",
     "output_type": "stream",
     "text": [
      "{'eval_loss': 0.27199411392211914, 'eval_Global BLEU': 80.01128633175354, 'eval_valid_answer_structure_precent': 100.0, 'eval_valid_bundles_precent': 100.0, 'eval_n_bundles_mae': 0.14358974358974358, 'eval_accidental_nulls': 0, 'eval_title_bleu_1_bundle': 40.550227885146825, 'eval_title_chrf_1_bundle': 74.09771463423294, 'eval_price_match_precent_1_bundle': 95.48387096774194, 'eval_currency_match_precent_1_bundle': 94.19354838709677, 'eval_count_match_precent_1_bundle': 94.19354838709677, 'eval_title_bleu_multi_bundle': 26.403786474047045, 'eval_title_chrf_multi_bundle': 71.78520067255481, 'eval_price_match_precent_multi_bundle': 75.46666666666668, 'eval_currency_match_precent_multi_bundle': 85.33333333333333, 'eval_count_match_precent_multi_bundle': 92.33333333333333, 'eval_runtime': 315.5856, 'eval_samples_per_second': 0.634, 'eval_steps_per_second': 0.079, 'epoch': 4.0}\n"
     ]
    },
    {
     "name": "stderr",
     "output_type": "stream",
     "text": [
      "\n",
      "                                               \u001b[A"
     ]
    },
    {
     "name": "stdout",
     "output_type": "stream",
     "text": [
      "\n",
      "ORIGINAL TEXT\n",
      "\tRAW\n",
      "\t Распродажа \n",
      " Платья \n",
      " Цена: 300р \n",
      " Размер: 44-46-48-50 \n",
      " Без выбора цвета \n",
      " Арт: 2Г-14 корпус Б</s>\n",
      "\n",
      "TARGET\n",
      "\tRAW\n",
      "\t <BOB> <BOT> Платья размер 44-46-48-50 <EOT> <BOP> 300 <EOP> <BOC1> RUB <EOC1> <BOC2> 1 <EOC2> <EOB></s>\n",
      "\tDECODED:\n",
      "\t [{'title': 'Платья размер 44-46-48-50', 'price': '300', 'currency': 'RUB', 'count': '1'}]\n",
      "\n",
      "PREDICTED\n",
      "\tRAW\n",
      "\t <BOB> <BOT> Платья <EOT> <BOP> 300 <EOP> <BOC1> RUB <EOC1> <BOC2> 1 <EOC2> <EOB></s>\n",
      "\tDECODED:\n",
      "\t [{'title': 'Платья', 'price': '300', 'currency': 'RUB', 'count': '1'}]\n",
      "--------------------------------------------------\n",
      "\n",
      "\n",
      "ORIGINAL TEXT\n",
      "\tRAW\n",
      "\t вегетарианская энциклопедия вкусов, что с чем сочетается, справочник от шеф поваров. 15 eur. лимассол.</s>\n",
      "\n",
      "TARGET\n",
      "\tRAW\n",
      "\t <BOB> <BOT> вегетарианская энциклопедия вкусов, что с чем сочетается, справочник от шеф поваров <EOT> <BOP> 15 <EOP> <BOC1> EUR <EOC1> <BOC2> 1 <EOC2> <EOB></s>\n",
      "\tDECODED:\n",
      "\t [{'title': 'вегетарианская энциклопедия вкусов, что с чем сочетается, справочник от шеф поваров', 'price': '15', 'currency': 'EUR', 'count': '1'}]\n",
      "\n",
      "PREDICTED\n",
      "\tRAW\n",
      "\t <BOB> <BOT> вегетарианская энциклопедия вкусов, справочник от шеф поваров <EOT> <BOP> 15 <EOP> <BOC1> EUR <EOC1> <BOC2> 1 <EOC2> <EOB></s>\n",
      "\tDECODED:\n",
      "\t [{'title': 'вегетарианская энциклопедия вкусов, справочник от шеф поваров', 'price': '15', 'currency': 'EUR', 'count': '1'}]\n",
      "--------------------------------------------------\n",
      "\n",
      "\n",
      "ORIGINAL TEXT\n",
      "\tRAW\n",
      "\t продам щетку для сухого массажа, новая (так и не дошли руки), 30см, средней жёсткости \n",
      " 10 евро, лимассол, никосия, привезу</s>\n",
      "\n",
      "TARGET\n",
      "\tRAW\n",
      "\t <BOB> <BOT> Щетка для сухого массажа, новая, средней жёсткости <EOT> <BOP> 10 <EOP> <BOC1> EUR <EOC1> <BOC2> 1 <EOC2> <EOB></s>\n",
      "\tDECODED:\n",
      "\t [{'title': 'Щетка для сухого массажа, новая, средней жёсткости', 'price': '10', 'currency': 'EUR', 'count': '1'}]\n",
      "\n",
      "PREDICTED\n",
      "\tRAW\n",
      "\t <BOB> <BOT> щетка для сухого массажа, 30см <EOT> <BOP> 10 <EOP> <BOC1> EUR <EOC1> <BOC2> 1 <EOC2> <EOB></s>\n",
      "\tDECODED:\n",
      "\t [{'title': 'щетка для сухого массажа, 30см', 'price': '10', 'currency': 'EUR', 'count': '1'}]\n",
      "--------------------------------------------------\n",
      "\n",
      "\n",
      "ORIGINAL TEXT\n",
      "\tRAW\n",
      "\t Зимний тёплый комбинезон, пух, Crockid, p.74-80, с пинетками и рукавичками, в отличном состоянии, 2.600р, Яхрома</s>\n",
      "\n",
      "TARGET\n",
      "\tRAW\n",
      "\t <BOB> <BOT> Зимний тёплый комбинезон Crockid с пинетками и рукавичками, размер 74-80 <EOT> <BOP> 2600 <EOP> <BOC1> RUB <EOC1> <BOC2> 1 <EOC2> <EOB></s>\n",
      "\tDECODED:\n",
      "\t [{'title': 'Зимний тёплый комбинезон Crockid с пинетками и рукавичками, размер 74-80', 'price': '2600', 'currency': 'RUB', 'count': '1'}]\n",
      "\n",
      "PREDICTED\n",
      "\tRAW\n",
      "\t <BOB> <BOT> Зимний тёплый комбинезон Crockid, размер 74-80 <EOT> <BOP> 2600 <EOP> <BOC1> RUB <EOC1> <BOC2> 1 <EOC2> <EOB></s>\n",
      "\tDECODED:\n",
      "\t [{'title': 'Зимний тёплый комбинезон Crockid, размер 74-80', 'price': '2600', 'currency': 'RUB', 'count': '1'}]\n",
      "--------------------------------------------------\n",
      "\n",
      "\n",
      "ORIGINAL TEXT\n",
      "\tRAW\n",
      "\t удлинитель икеа 1,5 м на 6 розеток \n",
      " 25 лари \n",
      " сабуртало</s>\n",
      "\n",
      "TARGET\n",
      "\tRAW\n",
      "\t <BOB> <BOT> удлинитель икеа 1,5 м на 6 розеток <EOT> <BOP> 25 <EOP> <BOC1> лари <EOC1> <BOC2> 1 <EOC2> <EOB></s>\n",
      "\tDECODED:\n",
      "\t [{'title': 'удлинитель икеа 1,5 м на 6 розеток', 'price': '25', 'currency': 'лари', 'count': '1'}]\n",
      "\n",
      "PREDICTED\n",
      "\tRAW\n",
      "\t <BOB> <BOT> удлинитель икеа 1,5 м на 6 розеток <EOT> <BOP> 25 <EOP> <BOC1> GEL <EOC1> <BOC2> 1 <EOC2> <EOB></s>\n",
      "\tDECODED:\n",
      "\t [{'title': 'удлинитель икеа 1,5 м на 6 розеток', 'price': '25', 'currency': 'GEL', 'count': '1'}]\n",
      "--------------------------------------------------\n",
      "\n"
     ]
    },
    {
     "name": "stderr",
     "output_type": "stream",
     "text": [
      " 42%|████▏     | 4500/10790 [45:10<19:11,  5.46it/s]    "
     ]
    },
    {
     "name": "stdout",
     "output_type": "stream",
     "text": [
      "{'loss': 0.1965, 'grad_norm': 2.3314578533172607, 'learning_rate': 3.227264023188011e-05, 'epoch': 4.17}\n"
     ]
    },
    {
     "name": "stderr",
     "output_type": "stream",
     "text": [
      "IOStream.flush timed out\n",
      " 46%|████▋     | 5000/10790 [47:51<20:51,  4.63it/s]   "
     ]
    },
    {
     "name": "stdout",
     "output_type": "stream",
     "text": [
      "{'loss': 0.1799, 'grad_norm': 1.1777002811431885, 'learning_rate': 2.8657945093108886e-05, 'epoch': 4.63}\n"
     ]
    },
    {
     "name": "stderr",
     "output_type": "stream",
     "text": [
      " 50%|█████     | 5395/10790 [50:11<19:15,  4.67it/s]   \n",
      "  0%|          | 0/25 [00:00<?, ?it/s]\u001b[A\n",
      "  8%|▊         | 2/25 [00:02<00:32,  1.42s/it]\u001b[A\n",
      " 12%|█▏        | 3/25 [00:04<00:29,  1.36s/it]\u001b[A\n",
      " 16%|█▌        | 4/25 [00:06<00:38,  1.81s/it]\u001b[A\n",
      " 20%|██        | 5/25 [00:09<00:44,  2.25s/it]\u001b[A\n",
      " 24%|██▍       | 6/25 [00:13<00:52,  2.78s/it]\u001b[A\n",
      " 28%|██▊       | 7/25 [00:15<00:44,  2.49s/it]\u001b[A\n",
      " 32%|███▏      | 8/25 [00:17<00:41,  2.45s/it]\u001b[A\n",
      " 36%|███▌      | 9/25 [00:22<00:48,  3.01s/it]\u001b[A\n",
      " 40%|████      | 10/25 [00:24<00:43,  2.88s/it]\u001b[A\n",
      " 44%|████▍     | 11/25 [00:25<00:33,  2.40s/it]\u001b[A\n",
      " 48%|████▊     | 12/25 [00:28<00:32,  2.54s/it]\u001b[A\n",
      " 52%|█████▏    | 13/25 [00:32<00:36,  3.02s/it]\u001b[A\n",
      " 56%|█████▌    | 14/25 [00:37<00:37,  3.37s/it]\u001b[A\n",
      " 60%|██████    | 15/25 [00:41<00:36,  3.60s/it]\u001b[A\n",
      " 64%|██████▍   | 16/25 [00:43<00:28,  3.12s/it]\u001b[A\n",
      " 68%|██████▊   | 17/25 [00:45<00:23,  2.99s/it]\u001b[A\n",
      " 72%|███████▏  | 18/25 [00:47<00:17,  2.51s/it]\u001b[A\n",
      " 76%|███████▌  | 19/25 [00:49<00:14,  2.44s/it]\u001b[A\n",
      " 80%|████████  | 20/25 [00:54<00:16,  3.29s/it]\u001b[A\n",
      " 84%|████████▍ | 21/25 [00:58<00:13,  3.38s/it]\u001b[A\n",
      " 88%|████████▊ | 22/25 [01:02<00:10,  3.55s/it]\u001b[A\n",
      " 92%|█████████▏| 23/25 [01:04<00:06,  3.16s/it]\u001b[A\n",
      " 96%|█████████▌| 24/25 [01:09<00:03,  3.75s/it]\u001b[A\n",
      "                                                    \n",
      " 50%|█████     | 5395/10790 [55:38<19:15,  4.67it/s]\n",
      "100%|██████████| 25/25 [05:25<00:00,  3.84s/it]\u001b[A"
     ]
    },
    {
     "name": "stdout",
     "output_type": "stream",
     "text": [
      "{'eval_loss': 0.27742743492126465, 'eval_Global BLEU': 81.35892169903879, 'eval_valid_answer_structure_precent': 99.48717948717949, 'eval_valid_bundles_precent': 100.0, 'eval_n_bundles_mae': 0.15463917525773196, 'eval_accidental_nulls': 1, 'eval_title_bleu_1_bundle': 38.68624488555682, 'eval_title_chrf_1_bundle': 71.75562598404966, 'eval_price_match_precent_1_bundle': 95.36423841059603, 'eval_currency_match_precent_1_bundle': 94.03973509933775, 'eval_count_match_precent_1_bundle': 94.03973509933775, 'eval_title_bleu_multi_bundle': 28.145558136896824, 'eval_title_chrf_multi_bundle': 73.0117309728352, 'eval_price_match_precent_multi_bundle': 77.65432098765433, 'eval_currency_match_precent_multi_bundle': 82.71604938271605, 'eval_count_match_precent_multi_bundle': 92.1604938271605, 'eval_runtime': 326.8036, 'eval_samples_per_second': 0.612, 'eval_steps_per_second': 0.076, 'epoch': 5.0}\n"
     ]
    },
    {
     "name": "stderr",
     "output_type": "stream",
     "text": [
      "\n",
      "                                               \u001b[A"
     ]
    },
    {
     "name": "stdout",
     "output_type": "stream",
     "text": [
      "\n",
      "ORIGINAL TEXT\n",
      "\tRAW\n",
      "\t Распродажа \n",
      " Платья \n",
      " Цена: 300р \n",
      " Размер: 44-46-48-50 \n",
      " Без выбора цвета \n",
      " Арт: 2Г-14 корпус Б</s>\n",
      "\n",
      "TARGET\n",
      "\tRAW\n",
      "\t <BOB> <BOT> Платья размер 44-46-48-50 <EOT> <BOP> 300 <EOP> <BOC1> RUB <EOC1> <BOC2> 1 <EOC2> <EOB></s>\n",
      "\tDECODED:\n",
      "\t [{'title': 'Платья размер 44-46-48-50', 'price': '300', 'currency': 'RUB', 'count': '1'}]\n",
      "\n",
      "PREDICTED\n",
      "\tRAW\n",
      "\t <BOB> <BOT> Платья <EOT> <BOP> 300 <EOP> <BOC1> RUB <EOC1> <BOC2> 1 <EOC2> <EOB></s>\n",
      "\tDECODED:\n",
      "\t [{'title': 'Платья', 'price': '300', 'currency': 'RUB', 'count': '1'}]\n",
      "--------------------------------------------------\n",
      "\n",
      "\n",
      "ORIGINAL TEXT\n",
      "\tRAW\n",
      "\t вегетарианская энциклопедия вкусов, что с чем сочетается, справочник от шеф поваров. 15 eur. лимассол.</s>\n",
      "\n",
      "TARGET\n",
      "\tRAW\n",
      "\t <BOB> <BOT> вегетарианская энциклопедия вкусов, что с чем сочетается, справочник от шеф поваров <EOT> <BOP> 15 <EOP> <BOC1> EUR <EOC1> <BOC2> 1 <EOC2> <EOB></s>\n",
      "\tDECODED:\n",
      "\t [{'title': 'вегетарианская энциклопедия вкусов, что с чем сочетается, справочник от шеф поваров', 'price': '15', 'currency': 'EUR', 'count': '1'}]\n",
      "\n",
      "PREDICTED\n",
      "\tRAW\n",
      "\t <BOB> <BOT> вегетарианская энциклопедия вкусов, справочник от шеф поваров <EOT> <BOP> 15 <EOP> <BOC1> EUR <EOC1> <BOC2> 1 <EOC2> <EOB></s>\n",
      "\tDECODED:\n",
      "\t [{'title': 'вегетарианская энциклопедия вкусов, справочник от шеф поваров', 'price': '15', 'currency': 'EUR', 'count': '1'}]\n",
      "--------------------------------------------------\n",
      "\n",
      "\n",
      "ORIGINAL TEXT\n",
      "\tRAW\n",
      "\t продам щетку для сухого массажа, новая (так и не дошли руки), 30см, средней жёсткости \n",
      " 10 евро, лимассол, никосия, привезу</s>\n",
      "\n",
      "TARGET\n",
      "\tRAW\n",
      "\t <BOB> <BOT> Щетка для сухого массажа, новая, средней жёсткости <EOT> <BOP> 10 <EOP> <BOC1> EUR <EOC1> <BOC2> 1 <EOC2> <EOB></s>\n",
      "\tDECODED:\n",
      "\t [{'title': 'Щетка для сухого массажа, новая, средней жёсткости', 'price': '10', 'currency': 'EUR', 'count': '1'}]\n",
      "\n",
      "PREDICTED\n",
      "\tRAW\n",
      "\t <BOB> <BOT> щетка для сухого массажа 30см, средней жёсткости <EOT> <BOP> 10 <EOP> <BOC1> EUR <EOC1> <BOC2> 1 <EOC2> <EOB></s>\n",
      "\tDECODED:\n",
      "\t [{'title': 'щетка для сухого массажа 30см, средней жёсткости', 'price': '10', 'currency': 'EUR', 'count': '1'}]\n",
      "--------------------------------------------------\n",
      "\n",
      "\n",
      "ORIGINAL TEXT\n",
      "\tRAW\n",
      "\t Зимний тёплый комбинезон, пух, Crockid, p.74-80, с пинетками и рукавичками, в отличном состоянии, 2.600р, Яхрома</s>\n",
      "\n",
      "TARGET\n",
      "\tRAW\n",
      "\t <BOB> <BOT> Зимний тёплый комбинезон Crockid с пинетками и рукавичками, размер 74-80 <EOT> <BOP> 2600 <EOP> <BOC1> RUB <EOC1> <BOC2> 1 <EOC2> <EOB></s>\n",
      "\tDECODED:\n",
      "\t [{'title': 'Зимний тёплый комбинезон Crockid с пинетками и рукавичками, размер 74-80', 'price': '2600', 'currency': 'RUB', 'count': '1'}]\n",
      "\n",
      "PREDICTED\n",
      "\tRAW\n",
      "\t <BOB> <BOT> Зимний тёплый комбинезон Crockid, p.74-80, с пинетками и рукавичками <EOT> <BOP> 2600 <EOP> <BOC1> RUB <EOC1> <BOC2> 1 <EOC2> <EOB></s>\n",
      "\tDECODED:\n",
      "\t [{'title': 'Зимний тёплый комбинезон Crockid, p.74-80, с пинетками и рукавичками', 'price': '2600', 'currency': 'RUB', 'count': '1'}]\n",
      "--------------------------------------------------\n",
      "\n",
      "\n",
      "ORIGINAL TEXT\n",
      "\tRAW\n",
      "\t удлинитель икеа 1,5 м на 6 розеток \n",
      " 25 лари \n",
      " сабуртало</s>\n",
      "\n",
      "TARGET\n",
      "\tRAW\n",
      "\t <BOB> <BOT> удлинитель икеа 1,5 м на 6 розеток <EOT> <BOP> 25 <EOP> <BOC1> лари <EOC1> <BOC2> 1 <EOC2> <EOB></s>\n",
      "\tDECODED:\n",
      "\t [{'title': 'удлинитель икеа 1,5 м на 6 розеток', 'price': '25', 'currency': 'лари', 'count': '1'}]\n",
      "\n",
      "PREDICTED\n",
      "\tRAW\n",
      "\t <BOB> <BOT> удлинитель икеа 1,5 м на 6 розеток <EOT> <BOP> 25 <EOP> <BOC1> GEL <EOC1> <BOC2> 1 <EOC2> <EOB></s>\n",
      "\tDECODED:\n",
      "\t [{'title': 'удлинитель икеа 1,5 м на 6 розеток', 'price': '25', 'currency': 'GEL', 'count': '1'}]\n",
      "--------------------------------------------------\n",
      "\n"
     ]
    },
    {
     "name": "stderr",
     "output_type": "stream",
     "text": [
      " 51%|█████     | 5500/10790 [56:01<17:14,  5.11it/s]    "
     ]
    },
    {
     "name": "stdout",
     "output_type": "stream",
     "text": [
      "{'loss': 0.1743, 'grad_norm': 1.0153436660766602, 'learning_rate': 2.4962917947337045e-05, 'epoch': 5.1}\n"
     ]
    },
    {
     "name": "stderr",
     "output_type": "stream",
     "text": [
      " 56%|█████▌    | 6000/10790 [58:41<19:39,  4.06it/s]   "
     ]
    },
    {
     "name": "stdout",
     "output_type": "stream",
     "text": [
      "{'loss': 0.1508, 'grad_norm': 1.8940749168395996, 'learning_rate': 2.126870515925464e-05, 'epoch': 5.56}\n"
     ]
    },
    {
     "ename": "KeyboardInterrupt",
     "evalue": "",
     "output_type": "error",
     "traceback": [
      "\u001b[0;31m---------------------------------------------------------------------------\u001b[0m",
      "\u001b[0;31mKeyboardInterrupt\u001b[0m                         Traceback (most recent call last)",
      "\u001b[0;32m<ipython-input-10-3435b262f1ae>\u001b[0m in \u001b[0;36m<module>\u001b[0;34m\u001b[0m\n\u001b[0;32m----> 1\u001b[0;31m \u001b[0mtrainer\u001b[0m\u001b[0;34m.\u001b[0m\u001b[0mtrain\u001b[0m\u001b[0;34m(\u001b[0m\u001b[0;34m)\u001b[0m\u001b[0;34m\u001b[0m\u001b[0;34m\u001b[0m\u001b[0m\n\u001b[0m",
      "\u001b[0;32m~/.local/lib/python3.10/site-packages/transformers/trainer.py\u001b[0m in \u001b[0;36mtrain\u001b[0;34m(self, resume_from_checkpoint, trial, ignore_keys_for_eval, **kwargs)\u001b[0m\n\u001b[1;32m   1857\u001b[0m                 \u001b[0mhf_hub_utils\u001b[0m\u001b[0;34m.\u001b[0m\u001b[0menable_progress_bars\u001b[0m\u001b[0;34m(\u001b[0m\u001b[0;34m)\u001b[0m\u001b[0;34m\u001b[0m\u001b[0;34m\u001b[0m\u001b[0m\n\u001b[1;32m   1858\u001b[0m         \u001b[0;32melse\u001b[0m\u001b[0;34m:\u001b[0m\u001b[0;34m\u001b[0m\u001b[0;34m\u001b[0m\u001b[0m\n\u001b[0;32m-> 1859\u001b[0;31m             return inner_training_loop(\n\u001b[0m\u001b[1;32m   1860\u001b[0m                 \u001b[0margs\u001b[0m\u001b[0;34m=\u001b[0m\u001b[0margs\u001b[0m\u001b[0;34m,\u001b[0m\u001b[0;34m\u001b[0m\u001b[0;34m\u001b[0m\u001b[0m\n\u001b[1;32m   1861\u001b[0m                 \u001b[0mresume_from_checkpoint\u001b[0m\u001b[0;34m=\u001b[0m\u001b[0mresume_from_checkpoint\u001b[0m\u001b[0;34m,\u001b[0m\u001b[0;34m\u001b[0m\u001b[0;34m\u001b[0m\u001b[0m\n",
      "\u001b[0;32m~/.local/lib/python3.10/site-packages/transformers/trainer.py\u001b[0m in \u001b[0;36m_inner_training_loop\u001b[0;34m(self, batch_size, args, resume_from_checkpoint, trial, ignore_keys_for_eval)\u001b[0m\n\u001b[1;32m   2276\u001b[0m                     \u001b[0mself\u001b[0m\u001b[0;34m.\u001b[0m\u001b[0mcontrol\u001b[0m \u001b[0;34m=\u001b[0m \u001b[0mself\u001b[0m\u001b[0;34m.\u001b[0m\u001b[0mcallback_handler\u001b[0m\u001b[0;34m.\u001b[0m\u001b[0mon_step_end\u001b[0m\u001b[0;34m(\u001b[0m\u001b[0margs\u001b[0m\u001b[0;34m,\u001b[0m \u001b[0mself\u001b[0m\u001b[0;34m.\u001b[0m\u001b[0mstate\u001b[0m\u001b[0;34m,\u001b[0m \u001b[0mself\u001b[0m\u001b[0;34m.\u001b[0m\u001b[0mcontrol\u001b[0m\u001b[0;34m)\u001b[0m\u001b[0;34m\u001b[0m\u001b[0;34m\u001b[0m\u001b[0m\n\u001b[1;32m   2277\u001b[0m \u001b[0;34m\u001b[0m\u001b[0m\n\u001b[0;32m-> 2278\u001b[0;31m                     \u001b[0mself\u001b[0m\u001b[0;34m.\u001b[0m\u001b[0m_maybe_log_save_evaluate\u001b[0m\u001b[0;34m(\u001b[0m\u001b[0mtr_loss\u001b[0m\u001b[0;34m,\u001b[0m \u001b[0mgrad_norm\u001b[0m\u001b[0;34m,\u001b[0m \u001b[0mmodel\u001b[0m\u001b[0;34m,\u001b[0m \u001b[0mtrial\u001b[0m\u001b[0;34m,\u001b[0m \u001b[0mepoch\u001b[0m\u001b[0;34m,\u001b[0m \u001b[0mignore_keys_for_eval\u001b[0m\u001b[0;34m)\u001b[0m\u001b[0;34m\u001b[0m\u001b[0;34m\u001b[0m\u001b[0m\n\u001b[0m\u001b[1;32m   2279\u001b[0m                 \u001b[0;32melse\u001b[0m\u001b[0;34m:\u001b[0m\u001b[0;34m\u001b[0m\u001b[0;34m\u001b[0m\u001b[0m\n\u001b[1;32m   2280\u001b[0m                     \u001b[0mself\u001b[0m\u001b[0;34m.\u001b[0m\u001b[0mcontrol\u001b[0m \u001b[0;34m=\u001b[0m \u001b[0mself\u001b[0m\u001b[0;34m.\u001b[0m\u001b[0mcallback_handler\u001b[0m\u001b[0;34m.\u001b[0m\u001b[0mon_substep_end\u001b[0m\u001b[0;34m(\u001b[0m\u001b[0margs\u001b[0m\u001b[0;34m,\u001b[0m \u001b[0mself\u001b[0m\u001b[0;34m.\u001b[0m\u001b[0mstate\u001b[0m\u001b[0;34m,\u001b[0m \u001b[0mself\u001b[0m\u001b[0;34m.\u001b[0m\u001b[0mcontrol\u001b[0m\u001b[0;34m)\u001b[0m\u001b[0;34m\u001b[0m\u001b[0;34m\u001b[0m\u001b[0m\n",
      "\u001b[0;32m~/.local/lib/python3.10/site-packages/transformers/trainer.py\u001b[0m in \u001b[0;36m_maybe_log_save_evaluate\u001b[0;34m(self, tr_loss, grad_norm, model, trial, epoch, ignore_keys_for_eval)\u001b[0m\n\u001b[1;32m   2671\u001b[0m \u001b[0;34m\u001b[0m\u001b[0m\n\u001b[1;32m   2672\u001b[0m         \u001b[0;32mif\u001b[0m \u001b[0mself\u001b[0m\u001b[0;34m.\u001b[0m\u001b[0mcontrol\u001b[0m\u001b[0;34m.\u001b[0m\u001b[0mshould_save\u001b[0m\u001b[0;34m:\u001b[0m\u001b[0;34m\u001b[0m\u001b[0;34m\u001b[0m\u001b[0m\n\u001b[0;32m-> 2673\u001b[0;31m             \u001b[0mself\u001b[0m\u001b[0;34m.\u001b[0m\u001b[0m_save_checkpoint\u001b[0m\u001b[0;34m(\u001b[0m\u001b[0mmodel\u001b[0m\u001b[0;34m,\u001b[0m \u001b[0mtrial\u001b[0m\u001b[0;34m,\u001b[0m \u001b[0mmetrics\u001b[0m\u001b[0;34m=\u001b[0m\u001b[0mmetrics\u001b[0m\u001b[0;34m)\u001b[0m\u001b[0;34m\u001b[0m\u001b[0;34m\u001b[0m\u001b[0m\n\u001b[0m\u001b[1;32m   2674\u001b[0m             \u001b[0mself\u001b[0m\u001b[0;34m.\u001b[0m\u001b[0mcontrol\u001b[0m \u001b[0;34m=\u001b[0m \u001b[0mself\u001b[0m\u001b[0;34m.\u001b[0m\u001b[0mcallback_handler\u001b[0m\u001b[0;34m.\u001b[0m\u001b[0mon_save\u001b[0m\u001b[0;34m(\u001b[0m\u001b[0mself\u001b[0m\u001b[0;34m.\u001b[0m\u001b[0margs\u001b[0m\u001b[0;34m,\u001b[0m \u001b[0mself\u001b[0m\u001b[0;34m.\u001b[0m\u001b[0mstate\u001b[0m\u001b[0;34m,\u001b[0m \u001b[0mself\u001b[0m\u001b[0;34m.\u001b[0m\u001b[0mcontrol\u001b[0m\u001b[0;34m)\u001b[0m\u001b[0;34m\u001b[0m\u001b[0;34m\u001b[0m\u001b[0m\n\u001b[1;32m   2675\u001b[0m \u001b[0;34m\u001b[0m\u001b[0m\n",
      "\u001b[0;32m~/.local/lib/python3.10/site-packages/transformers/trainer.py\u001b[0m in \u001b[0;36m_save_checkpoint\u001b[0;34m(self, model, trial, metrics)\u001b[0m\n\u001b[1;32m   2754\u001b[0m         \u001b[0;32mif\u001b[0m \u001b[0;32mnot\u001b[0m \u001b[0mself\u001b[0m\u001b[0;34m.\u001b[0m\u001b[0margs\u001b[0m\u001b[0;34m.\u001b[0m\u001b[0msave_only_model\u001b[0m\u001b[0;34m:\u001b[0m\u001b[0;34m\u001b[0m\u001b[0;34m\u001b[0m\u001b[0m\n\u001b[1;32m   2755\u001b[0m             \u001b[0;31m# Save optimizer and scheduler\u001b[0m\u001b[0;34m\u001b[0m\u001b[0;34m\u001b[0m\u001b[0m\n\u001b[0;32m-> 2756\u001b[0;31m             \u001b[0mself\u001b[0m\u001b[0;34m.\u001b[0m\u001b[0m_save_optimizer_and_scheduler\u001b[0m\u001b[0;34m(\u001b[0m\u001b[0moutput_dir\u001b[0m\u001b[0;34m)\u001b[0m\u001b[0;34m\u001b[0m\u001b[0;34m\u001b[0m\u001b[0m\n\u001b[0m\u001b[1;32m   2757\u001b[0m             \u001b[0;31m# Save RNG state\u001b[0m\u001b[0;34m\u001b[0m\u001b[0;34m\u001b[0m\u001b[0m\n\u001b[1;32m   2758\u001b[0m             \u001b[0mself\u001b[0m\u001b[0;34m.\u001b[0m\u001b[0m_save_rng_state\u001b[0m\u001b[0;34m(\u001b[0m\u001b[0moutput_dir\u001b[0m\u001b[0;34m)\u001b[0m\u001b[0;34m\u001b[0m\u001b[0;34m\u001b[0m\u001b[0m\n",
      "\u001b[0;32m~/.local/lib/python3.10/site-packages/transformers/trainer.py\u001b[0m in \u001b[0;36m_save_optimizer_and_scheduler\u001b[0;34m(self, output_dir)\u001b[0m\n\u001b[1;32m   2862\u001b[0m         \u001b[0;32melif\u001b[0m \u001b[0mself\u001b[0m\u001b[0;34m.\u001b[0m\u001b[0margs\u001b[0m\u001b[0;34m.\u001b[0m\u001b[0mshould_save\u001b[0m\u001b[0;34m:\u001b[0m\u001b[0;34m\u001b[0m\u001b[0;34m\u001b[0m\u001b[0m\n\u001b[1;32m   2863\u001b[0m             \u001b[0;31m# deepspeed.save_checkpoint above saves model/optim/sched\u001b[0m\u001b[0;34m\u001b[0m\u001b[0;34m\u001b[0m\u001b[0m\n\u001b[0;32m-> 2864\u001b[0;31m             \u001b[0mtorch\u001b[0m\u001b[0;34m.\u001b[0m\u001b[0msave\u001b[0m\u001b[0;34m(\u001b[0m\u001b[0mself\u001b[0m\u001b[0;34m.\u001b[0m\u001b[0moptimizer\u001b[0m\u001b[0;34m.\u001b[0m\u001b[0mstate_dict\u001b[0m\u001b[0;34m(\u001b[0m\u001b[0;34m)\u001b[0m\u001b[0;34m,\u001b[0m \u001b[0mos\u001b[0m\u001b[0;34m.\u001b[0m\u001b[0mpath\u001b[0m\u001b[0;34m.\u001b[0m\u001b[0mjoin\u001b[0m\u001b[0;34m(\u001b[0m\u001b[0moutput_dir\u001b[0m\u001b[0;34m,\u001b[0m \u001b[0mOPTIMIZER_NAME\u001b[0m\u001b[0;34m)\u001b[0m\u001b[0;34m)\u001b[0m\u001b[0;34m\u001b[0m\u001b[0;34m\u001b[0m\u001b[0m\n\u001b[0m\u001b[1;32m   2865\u001b[0m \u001b[0;34m\u001b[0m\u001b[0m\n\u001b[1;32m   2866\u001b[0m         \u001b[0;31m# Save SCHEDULER & SCALER\u001b[0m\u001b[0;34m\u001b[0m\u001b[0;34m\u001b[0m\u001b[0m\n",
      "\u001b[0;32m/usr/local/lib/python3.10/dist-packages/torch/serialization.py\u001b[0m in \u001b[0;36msave\u001b[0;34m(obj, f, pickle_module, pickle_protocol, _use_new_zipfile_serialization)\u001b[0m\n\u001b[1;32m    438\u001b[0m \u001b[0;34m\u001b[0m\u001b[0m\n\u001b[1;32m    439\u001b[0m     \u001b[0;32mif\u001b[0m \u001b[0m_use_new_zipfile_serialization\u001b[0m\u001b[0;34m:\u001b[0m\u001b[0;34m\u001b[0m\u001b[0;34m\u001b[0m\u001b[0m\n\u001b[0;32m--> 440\u001b[0;31m         \u001b[0;32mwith\u001b[0m \u001b[0m_open_zipfile_writer\u001b[0m\u001b[0;34m(\u001b[0m\u001b[0mf\u001b[0m\u001b[0;34m)\u001b[0m \u001b[0;32mas\u001b[0m \u001b[0mopened_zipfile\u001b[0m\u001b[0;34m:\u001b[0m\u001b[0;34m\u001b[0m\u001b[0;34m\u001b[0m\u001b[0m\n\u001b[0m\u001b[1;32m    441\u001b[0m             \u001b[0m_save\u001b[0m\u001b[0;34m(\u001b[0m\u001b[0mobj\u001b[0m\u001b[0;34m,\u001b[0m \u001b[0mopened_zipfile\u001b[0m\u001b[0;34m,\u001b[0m \u001b[0mpickle_module\u001b[0m\u001b[0;34m,\u001b[0m \u001b[0mpickle_protocol\u001b[0m\u001b[0;34m)\u001b[0m\u001b[0;34m\u001b[0m\u001b[0;34m\u001b[0m\u001b[0m\n\u001b[1;32m    442\u001b[0m             \u001b[0;32mreturn\u001b[0m\u001b[0;34m\u001b[0m\u001b[0;34m\u001b[0m\u001b[0m\n",
      "\u001b[0;32m/usr/local/lib/python3.10/dist-packages/torch/serialization.py\u001b[0m in \u001b[0;36m__exit__\u001b[0;34m(self, *args)\u001b[0m\n\u001b[1;32m    289\u001b[0m \u001b[0;34m\u001b[0m\u001b[0m\n\u001b[1;32m    290\u001b[0m     \u001b[0;32mdef\u001b[0m \u001b[0m__exit__\u001b[0m\u001b[0;34m(\u001b[0m\u001b[0mself\u001b[0m\u001b[0;34m,\u001b[0m \u001b[0;34m*\u001b[0m\u001b[0margs\u001b[0m\u001b[0;34m)\u001b[0m \u001b[0;34m->\u001b[0m \u001b[0;32mNone\u001b[0m\u001b[0;34m:\u001b[0m\u001b[0;34m\u001b[0m\u001b[0;34m\u001b[0m\u001b[0m\n\u001b[0;32m--> 291\u001b[0;31m         \u001b[0mself\u001b[0m\u001b[0;34m.\u001b[0m\u001b[0mfile_like\u001b[0m\u001b[0;34m.\u001b[0m\u001b[0mwrite_end_of_file\u001b[0m\u001b[0;34m(\u001b[0m\u001b[0;34m)\u001b[0m\u001b[0;34m\u001b[0m\u001b[0;34m\u001b[0m\u001b[0m\n\u001b[0m\u001b[1;32m    292\u001b[0m \u001b[0;34m\u001b[0m\u001b[0m\n\u001b[1;32m    293\u001b[0m \u001b[0;34m\u001b[0m\u001b[0m\n",
      "\u001b[0;31mKeyboardInterrupt\u001b[0m: "
     ]
    }
   ],
   "source": [
    "trainer.train()"
   ]
  },
  {
   "cell_type": "code",
   "execution_count": null,
   "id": "9f281d04-b8cc-4371-8960-e93c87a586f3",
   "metadata": {
    "execution": {
     "iopub.status.busy": "2024-05-15T08:43:50.009726Z",
     "iopub.status.idle": "2024-05-15T08:43:50.010333Z",
     "shell.execute_reply": "2024-05-15T08:43:50.010106Z"
    },
    "tags": []
   },
   "outputs": [],
   "source": [
    "output_dir = \"good_checkpoints/ruT5-base\"\n",
    "model.save_pretrained(output_dir)\n",
    "tokenizer.save_pretrained(output_dir)"
   ]
  },
  {
   "cell_type": "code",
   "execution_count": null,
   "id": "4978dbdb-bb84-4e5f-a80c-8132d5e2f8e5",
   "metadata": {},
   "outputs": [],
   "source": []
  }
 ],
 "metadata": {
  "kernelspec": {
   "display_name": "DataSphere Kernel",
   "language": "python",
   "name": "python3"
  },
  "language_info": {
   "name": ""
  }
 },
 "nbformat": 4,
 "nbformat_minor": 5
}
