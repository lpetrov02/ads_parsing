{
 "cells": [
  {
   "cell_type": "code",
   "execution_count": 1,
   "id": "9b27b92c-8cd7-443a-bf61-9fe033c40b23",
   "metadata": {
    "tags": []
   },
   "outputs": [
    {
     "name": "stderr",
     "output_type": "stream",
     "text": [
      "[nltk_data] Downloading package punkt to /home/vlad/nltk_data...\n",
      "[nltk_data]   Package punkt is already up-to-date!\n",
      "[nltk_data] Downloading package punkt to /home/vlad/nltk_data...\n",
      "[nltk_data]   Package punkt is already up-to-date!\n"
     ]
    }
   ],
   "source": [
    "import numpy as np\n",
    "import pandas as pd\n",
    "import matplotlib.pyplot as plt\n",
    "import scipy.stats as ss\n",
    "\n",
    "from tqdm.notebook import tqdm\n",
    "\n",
    "import json\n",
    "import re\n",
    "from collections import defaultdict\n",
    "import datetime\n",
    "import os\n",
    "\n",
    "import torch\n",
    "from torch import nn\n",
    "from transformers import AutoTokenizer, AutoModelForSeq2SeqLM, AutoConfig\n",
    "\n",
    "import sys\n",
    "sys.path.append('..')\n",
    "from eval_utils import get_parser, compute_test_metrics\n",
    "from utils import Format, get_to_string_processor"
   ]
  },
  {
   "cell_type": "code",
   "execution_count": 2,
   "id": "3f3d23a5-15b6-434c-a6b8-30d1116c3779",
   "metadata": {},
   "outputs": [
    {
     "name": "stdout",
     "output_type": "stream",
     "text": [
      "config_cointegrated-st.json\n",
      "config_fredT5-large-st.json\n",
      "config_fredT5-large-st-no-shuf.json\n",
      "config_fredT5-large-wn.json\n",
      "config_fredT5-xl-st.json\n",
      "config_ruT5-base-st.json\n",
      "config_ruT5-large-jj.json\n",
      "config_ruT5-large-jj-no-shuffle.json\n",
      "config_ruT5-large-jj-overfit.json\n",
      "config_ruT5-large-jj-overfit-no-shuffle.json\n",
      "config_ruT5-large-st.json\n",
      "config_ruT5-large-st-no-shuffle.json\n",
      "config_ruT5-large-st-overfit.json\n",
      "config_ruT5-large-st-overfit-no-shuffle.json\n",
      "config_ruT5-large-st-overfit-no-shuffle-nl.json\n"
     ]
    }
   ],
   "source": [
    "ls configs"
   ]
  },
  {
   "cell_type": "code",
   "execution_count": 17,
   "id": "5a57ed7d-e7ca-4482-a375-bc32763e8562",
   "metadata": {
    "tags": []
   },
   "outputs": [
    {
     "data": {
      "text/plain": [
       "5"
      ]
     },
     "execution_count": 17,
     "metadata": {},
     "output_type": "execute_result"
    }
   ],
   "source": [
    "# configs = [\"-jj-overfit-no-shuffle\", \"-st-overfit\"]\n",
    "configs = [\"ruT5-large-jj-overfit-no-shuffle\", \"ruT5-large-st-overfit\", \"fredT5-large-st\", \"fredT5-large-wn\", \"fredT5-xl-st\"]\n",
    "params = {}\n",
    "\n",
    "for conf in configs:\n",
    "    with open(f\"configs/config_{conf}.json\", \"rb\") as config:\n",
    "        params[conf.strip(\"-\")] = json.load(config)\n",
    "    \n",
    "len(params)"
   ]
  },
  {
   "cell_type": "code",
   "execution_count": 18,
   "id": "26276797-8956-495d-86cb-6df777a1b20c",
   "metadata": {
    "tags": []
   },
   "outputs": [
    {
     "data": {
      "text/plain": [
       "'cuda:0'"
      ]
     },
     "execution_count": 18,
     "metadata": {},
     "output_type": "execute_result"
    }
   ],
   "source": [
    "device = 'cuda:0' if torch.cuda.is_available() else 'cpu'\n",
    "device"
   ]
  },
  {
   "cell_type": "code",
   "execution_count": 19,
   "id": "efcdc4bc-affc-4992-8385-edab0cb7f096",
   "metadata": {
    "tags": []
   },
   "outputs": [
    {
     "data": {
      "text/html": [
       "<div>\n",
       "<style scoped>\n",
       "    .dataframe tbody tr th:only-of-type {\n",
       "        vertical-align: middle;\n",
       "    }\n",
       "\n",
       "    .dataframe tbody tr th {\n",
       "        vertical-align: top;\n",
       "    }\n",
       "\n",
       "    .dataframe thead th {\n",
       "        text-align: right;\n",
       "    }\n",
       "</style>\n",
       "<table border=\"1\" class=\"dataframe\">\n",
       "  <thead>\n",
       "    <tr style=\"text-align: right;\">\n",
       "      <th></th>\n",
       "      <th>Text</th>\n",
       "      <th>bundles</th>\n",
       "      <th>n_bundles</th>\n",
       "    </tr>\n",
       "  </thead>\n",
       "  <tbody>\n",
       "    <tr>\n",
       "      <th>0</th>\n",
       "      <td>продаются паллеты поддоны\\n25 лари/шт\\nдоставк...</td>\n",
       "      <td>[{\"Title\": \"\\u043f\\u0430\\u043b\\u043b\\u0435\\u04...</td>\n",
       "      <td>1</td>\n",
       "    </tr>\n",
       "    <tr>\n",
       "      <th>1</th>\n",
       "      <td>сковородка блинница 20 см состояние отличное ц...</td>\n",
       "      <td>[{\"Title\": \"\\u0441\\u043a\\u043e\\u0432\\u043e\\u04...</td>\n",
       "      <td>1</td>\n",
       "    </tr>\n",
       "    <tr>\n",
       "      <th>2</th>\n",
       "      <td>Комбинезон Зима р 68 \\nОчень тёплый \\nРучки но...</td>\n",
       "      <td>[{\"Title\": \"\\u041a\\u043e\\u043c\\u0431\\u0438\\u04...</td>\n",
       "      <td>1</td>\n",
       "    </tr>\n",
       "    <tr>\n",
       "      <th>3</th>\n",
       "      <td>Кожа ,, Снежная королева,,, раз 42-44,4000 руб...</td>\n",
       "      <td>[{\"Title\": \"\\u041a\\u043e\\u0436\\u0430 \\u0421\\u0...</td>\n",
       "      <td>2</td>\n",
       "    </tr>\n",
       "    <tr>\n",
       "      <th>4</th>\n",
       "      <td>Рюкзак - 400 руб.\\nBlumarine Kiss Me On The Li...</td>\n",
       "      <td>[{\"Title\": \"\\u0420\\u044e\\u043a\\u0437\\u0430\\u04...</td>\n",
       "      <td>3</td>\n",
       "    </tr>\n",
       "  </tbody>\n",
       "</table>\n",
       "</div>"
      ],
      "text/plain": [
       "                                                Text  \\\n",
       "0  продаются паллеты поддоны\\n25 лари/шт\\nдоставк...   \n",
       "1  сковородка блинница 20 см состояние отличное ц...   \n",
       "2  Комбинезон Зима р 68 \\nОчень тёплый \\nРучки но...   \n",
       "3  Кожа ,, Снежная королева,,, раз 42-44,4000 руб...   \n",
       "4  Рюкзак - 400 руб.\\nBlumarine Kiss Me On The Li...   \n",
       "\n",
       "                                             bundles  n_bundles  \n",
       "0  [{\"Title\": \"\\u043f\\u0430\\u043b\\u043b\\u0435\\u04...          1  \n",
       "1  [{\"Title\": \"\\u0441\\u043a\\u043e\\u0432\\u043e\\u04...          1  \n",
       "2  [{\"Title\": \"\\u041a\\u043e\\u043c\\u0431\\u0438\\u04...          1  \n",
       "3  [{\"Title\": \"\\u041a\\u043e\\u0436\\u0430 \\u0421\\u0...          2  \n",
       "4  [{\"Title\": \"\\u0420\\u044e\\u043a\\u0437\\u0430\\u04...          3  "
      ]
     },
     "execution_count": 19,
     "metadata": {},
     "output_type": "execute_result"
    }
   ],
   "source": [
    "data = pd.read_csv(\"~/data/ads_test_100.csv\")\n",
    "data.head()"
   ]
  },
  {
   "cell_type": "code",
   "execution_count": 20,
   "id": "1d0ff37a-28c8-426e-b4ec-0a12d70e24d9",
   "metadata": {},
   "outputs": [
    {
     "name": "stderr",
     "output_type": "stream",
     "text": [
      "You set `add_prefix_space`. The tokenizer needs to be converted from the slow tokenizers\n"
     ]
    },
    {
     "name": "stdout",
     "output_type": "stream",
     "text": [
      "ruT5-large-jj-overfit-no-shuffle\n"
     ]
    },
    {
     "name": "stderr",
     "output_type": "stream",
     "text": [
      "Special tokens have been added in the vocabulary, make sure the associated word embeddings are fine-tuned or trained.\n"
     ]
    },
    {
     "data": {
      "application/vnd.jupyter.widget-view+json": {
       "model_id": "32f3adebbb8444c7be14c2e17e5baedd",
       "version_major": 2,
       "version_minor": 0
      },
      "text/plain": [
       "  0%|          | 0/13 [00:00<?, ?it/s]"
      ]
     },
     "metadata": {},
     "output_type": "display_data"
    },
    {
     "data": {
      "application/vnd.jupyter.widget-view+json": {
       "model_id": "70f271eebe174601ade4675223487e56",
       "version_major": 2,
       "version_minor": 0
      },
      "text/plain": [
       "  0%|          | 0/13 [00:00<?, ?it/s]"
      ]
     },
     "metadata": {},
     "output_type": "display_data"
    },
    {
     "data": {
      "application/vnd.jupyter.widget-view+json": {
       "model_id": "1fde0592a6f441e995fb77502ec3f3d8",
       "version_major": 2,
       "version_minor": 0
      },
      "text/plain": [
       "  0%|          | 0/13 [00:00<?, ?it/s]"
      ]
     },
     "metadata": {},
     "output_type": "display_data"
    },
    {
     "data": {
      "application/vnd.jupyter.widget-view+json": {
       "model_id": "b9e42439f8cb4c00bb6e525553d38a64",
       "version_major": 2,
       "version_minor": 0
      },
      "text/plain": [
       "  0%|          | 0/13 [00:00<?, ?it/s]"
      ]
     },
     "metadata": {},
     "output_type": "display_data"
    },
    {
     "data": {
      "application/vnd.jupyter.widget-view+json": {
       "model_id": "63d1f3b9d07146b4b0e24f990f6b6791",
       "version_major": 2,
       "version_minor": 0
      },
      "text/plain": [
       "  0%|          | 0/13 [00:00<?, ?it/s]"
      ]
     },
     "metadata": {},
     "output_type": "display_data"
    },
    {
     "name": "stdout",
     "output_type": "stream",
     "text": [
      "ruT5-large-st-overfit\n"
     ]
    },
    {
     "name": "stderr",
     "output_type": "stream",
     "text": [
      "Special tokens have been added in the vocabulary, make sure the associated word embeddings are fine-tuned or trained.\n"
     ]
    },
    {
     "data": {
      "application/vnd.jupyter.widget-view+json": {
       "model_id": "5a40be0489b84d8a969d24f8a9ac3eb1",
       "version_major": 2,
       "version_minor": 0
      },
      "text/plain": [
       "  0%|          | 0/13 [00:00<?, ?it/s]"
      ]
     },
     "metadata": {},
     "output_type": "display_data"
    },
    {
     "data": {
      "application/vnd.jupyter.widget-view+json": {
       "model_id": "1012c26d09f746dda5b4739fcd8bd5aa",
       "version_major": 2,
       "version_minor": 0
      },
      "text/plain": [
       "  0%|          | 0/13 [00:00<?, ?it/s]"
      ]
     },
     "metadata": {},
     "output_type": "display_data"
    },
    {
     "data": {
      "application/vnd.jupyter.widget-view+json": {
       "model_id": "a917bd62bc2341798471c2eb5c272df9",
       "version_major": 2,
       "version_minor": 0
      },
      "text/plain": [
       "  0%|          | 0/13 [00:00<?, ?it/s]"
      ]
     },
     "metadata": {},
     "output_type": "display_data"
    },
    {
     "data": {
      "application/vnd.jupyter.widget-view+json": {
       "model_id": "ab3d5218823e4645b70601c50703c7cc",
       "version_major": 2,
       "version_minor": 0
      },
      "text/plain": [
       "  0%|          | 0/13 [00:00<?, ?it/s]"
      ]
     },
     "metadata": {},
     "output_type": "display_data"
    },
    {
     "data": {
      "application/vnd.jupyter.widget-view+json": {
       "model_id": "100aefc66e764b9da599716ad07cc7bb",
       "version_major": 2,
       "version_minor": 0
      },
      "text/plain": [
       "  0%|          | 0/13 [00:00<?, ?it/s]"
      ]
     },
     "metadata": {},
     "output_type": "display_data"
    },
    {
     "name": "stderr",
     "output_type": "stream",
     "text": [
      "Special tokens have been added in the vocabulary, make sure the associated word embeddings are fine-tuned or trained.\n"
     ]
    },
    {
     "name": "stdout",
     "output_type": "stream",
     "text": [
      "fredT5-large-st\n"
     ]
    },
    {
     "data": {
      "application/vnd.jupyter.widget-view+json": {
       "model_id": "3ab0778ca3ad47b496b1c0eddb2cdca2",
       "version_major": 2,
       "version_minor": 0
      },
      "text/plain": [
       "  0%|          | 0/13 [00:00<?, ?it/s]"
      ]
     },
     "metadata": {},
     "output_type": "display_data"
    },
    {
     "data": {
      "application/vnd.jupyter.widget-view+json": {
       "model_id": "bb77137c4d1043adb330a5210cd9be23",
       "version_major": 2,
       "version_minor": 0
      },
      "text/plain": [
       "  0%|          | 0/13 [00:00<?, ?it/s]"
      ]
     },
     "metadata": {},
     "output_type": "display_data"
    },
    {
     "data": {
      "application/vnd.jupyter.widget-view+json": {
       "model_id": "6800396feb614bbbb1cc66f89d2c385b",
       "version_major": 2,
       "version_minor": 0
      },
      "text/plain": [
       "  0%|          | 0/13 [00:00<?, ?it/s]"
      ]
     },
     "metadata": {},
     "output_type": "display_data"
    },
    {
     "data": {
      "application/vnd.jupyter.widget-view+json": {
       "model_id": "aa2fb2e1f14f4ee1969e15b5ba6fcb35",
       "version_major": 2,
       "version_minor": 0
      },
      "text/plain": [
       "  0%|          | 0/13 [00:00<?, ?it/s]"
      ]
     },
     "metadata": {},
     "output_type": "display_data"
    },
    {
     "data": {
      "application/vnd.jupyter.widget-view+json": {
       "model_id": "8c69538af0e8483696852402cf45c143",
       "version_major": 2,
       "version_minor": 0
      },
      "text/plain": [
       "  0%|          | 0/13 [00:00<?, ?it/s]"
      ]
     },
     "metadata": {},
     "output_type": "display_data"
    },
    {
     "name": "stderr",
     "output_type": "stream",
     "text": [
      "Special tokens have been added in the vocabulary, make sure the associated word embeddings are fine-tuned or trained.\n"
     ]
    },
    {
     "name": "stdout",
     "output_type": "stream",
     "text": [
      "fredT5-large-wn\n"
     ]
    },
    {
     "data": {
      "application/vnd.jupyter.widget-view+json": {
       "model_id": "83bc9b80364a4998b4725e7f7d9a9573",
       "version_major": 2,
       "version_minor": 0
      },
      "text/plain": [
       "  0%|          | 0/13 [00:00<?, ?it/s]"
      ]
     },
     "metadata": {},
     "output_type": "display_data"
    },
    {
     "data": {
      "application/vnd.jupyter.widget-view+json": {
       "model_id": "7cf405203a6f4ac3a845e1975e763508",
       "version_major": 2,
       "version_minor": 0
      },
      "text/plain": [
       "  0%|          | 0/13 [00:00<?, ?it/s]"
      ]
     },
     "metadata": {},
     "output_type": "display_data"
    },
    {
     "data": {
      "application/vnd.jupyter.widget-view+json": {
       "model_id": "cae439f7f19c4be29d2002c0028e925b",
       "version_major": 2,
       "version_minor": 0
      },
      "text/plain": [
       "  0%|          | 0/13 [00:00<?, ?it/s]"
      ]
     },
     "metadata": {},
     "output_type": "display_data"
    },
    {
     "data": {
      "application/vnd.jupyter.widget-view+json": {
       "model_id": "c6753f38e9ad4fcb9f880757987a632f",
       "version_major": 2,
       "version_minor": 0
      },
      "text/plain": [
       "  0%|          | 0/13 [00:00<?, ?it/s]"
      ]
     },
     "metadata": {},
     "output_type": "display_data"
    },
    {
     "data": {
      "application/vnd.jupyter.widget-view+json": {
       "model_id": "c8e0dfa4ad5046feacd82b9b77fbae3f",
       "version_major": 2,
       "version_minor": 0
      },
      "text/plain": [
       "  0%|          | 0/13 [00:00<?, ?it/s]"
      ]
     },
     "metadata": {},
     "output_type": "display_data"
    },
    {
     "name": "stderr",
     "output_type": "stream",
     "text": [
      "Special tokens have been added in the vocabulary, make sure the associated word embeddings are fine-tuned or trained.\n"
     ]
    },
    {
     "name": "stdout",
     "output_type": "stream",
     "text": [
      "fredT5-xl-st\n"
     ]
    },
    {
     "data": {
      "application/vnd.jupyter.widget-view+json": {
       "model_id": "806ff279d6654e6cb7a9608d3c34b6af",
       "version_major": 2,
       "version_minor": 0
      },
      "text/plain": [
       "Loading checkpoint shards:   0%|          | 0/2 [00:00<?, ?it/s]"
      ]
     },
     "metadata": {},
     "output_type": "display_data"
    },
    {
     "data": {
      "application/vnd.jupyter.widget-view+json": {
       "model_id": "61fdff53ad1a46e0bc53582fb99beb7e",
       "version_major": 2,
       "version_minor": 0
      },
      "text/plain": [
       "  0%|          | 0/13 [00:00<?, ?it/s]"
      ]
     },
     "metadata": {},
     "output_type": "display_data"
    },
    {
     "data": {
      "application/vnd.jupyter.widget-view+json": {
       "model_id": "56477d7141ad4b50a633fd9dfed49828",
       "version_major": 2,
       "version_minor": 0
      },
      "text/plain": [
       "  0%|          | 0/13 [00:00<?, ?it/s]"
      ]
     },
     "metadata": {},
     "output_type": "display_data"
    },
    {
     "data": {
      "application/vnd.jupyter.widget-view+json": {
       "model_id": "692cdd8b06ad4f4081e423530e07db28",
       "version_major": 2,
       "version_minor": 0
      },
      "text/plain": [
       "  0%|          | 0/13 [00:00<?, ?it/s]"
      ]
     },
     "metadata": {},
     "output_type": "display_data"
    },
    {
     "data": {
      "application/vnd.jupyter.widget-view+json": {
       "model_id": "f9ee35cf61e043948c8a6e2f4b409870",
       "version_major": 2,
       "version_minor": 0
      },
      "text/plain": [
       "  0%|          | 0/13 [00:00<?, ?it/s]"
      ]
     },
     "metadata": {},
     "output_type": "display_data"
    },
    {
     "data": {
      "application/vnd.jupyter.widget-view+json": {
       "model_id": "9cadcd2d27df4fd6bc7297f39a677a87",
       "version_major": 2,
       "version_minor": 0
      },
      "text/plain": [
       "  0%|          | 0/13 [00:00<?, ?it/s]"
      ]
     },
     "metadata": {},
     "output_type": "display_data"
    }
   ],
   "source": [
    "repeat_times = 5\n",
    "results = defaultdict(lambda: list())\n",
    "\n",
    "for conf in params:\n",
    "    print(conf)\n",
    "    \n",
    "    out_format = Format(params[conf][\"format\"])\n",
    "    ckpt = params[conf][\"save_folder\"]\n",
    "    model_checkpoint = f\"../good_checkpoints/{ckpt}\"\n",
    "    tokenizer = AutoTokenizer.from_pretrained(model_checkpoint)\n",
    "    model = AutoModelForSeq2SeqLM.from_pretrained(model_checkpoint)\n",
    "\n",
    "    parser = get_parser(tokenizer, out_format)\n",
    "    to_string_processor = get_to_string_processor(out_format)\n",
    "\n",
    "    model.to(device)\n",
    "    \n",
    "    bs = 8\n",
    "\n",
    "    for _ in range(repeat_times):\n",
    "        start_time = datetime.datetime.now()\n",
    "        responses = []\n",
    "        for ind in tqdm(range(0, len(data), bs), total=(len(data) + bs - 1) // bs):\n",
    "            tokenized = tokenizer([data.loc[data.index[i], \"Text\"] + (tokenizer.eos_token if params.get(\"add_eos_token\", False) else \"\")\n",
    "                           for i in range(ind, min(ind + bs, len(data)))], max_length=512, padding=True, truncation=True, return_tensors=\"pt\")[\"input_ids\"]\n",
    "            preds = model.generate(\n",
    "                input_ids=tokenized.to(device),\n",
    "                max_length=512,\n",
    "                num_beams=4,\n",
    "                early_stopping=True,\n",
    "                eos_token_id=tokenizer.eos_token_id\n",
    "            ).cpu()\n",
    "            \n",
    "            preds = torch.where(preds == -100, tokenizer.eos_token_id, preds)\n",
    "            preds = tokenizer.batch_decode(preds, ignore_special_tokens=True)\n",
    "            responses += [re.sub(tokenizer.pad_token, \"\", pred) for pred in preds]\n",
    "        results[conf].append((datetime.datetime.now() - start_time) / datetime.timedelta(seconds=1))"
   ]
  },
  {
   "cell_type": "code",
   "execution_count": 21,
   "id": "2ca6d7f0-0e86-4382-b98e-5d5e22c85ec8",
   "metadata": {},
   "outputs": [
    {
     "data": {
      "text/html": [
       "<div>\n",
       "<style scoped>\n",
       "    .dataframe tbody tr th:only-of-type {\n",
       "        vertical-align: middle;\n",
       "    }\n",
       "\n",
       "    .dataframe tbody tr th {\n",
       "        vertical-align: top;\n",
       "    }\n",
       "\n",
       "    .dataframe thead th {\n",
       "        text-align: right;\n",
       "    }\n",
       "</style>\n",
       "<table border=\"1\" class=\"dataframe\">\n",
       "  <thead>\n",
       "    <tr style=\"text-align: right;\">\n",
       "      <th></th>\n",
       "      <th>ruT5-large-jj-overfit-no-shuffle</th>\n",
       "      <th>ruT5-large-st-overfit</th>\n",
       "      <th>fredT5-large-st</th>\n",
       "      <th>fredT5-large-wn</th>\n",
       "      <th>fredT5-xl-st</th>\n",
       "    </tr>\n",
       "  </thead>\n",
       "  <tbody>\n",
       "    <tr>\n",
       "      <th>0</th>\n",
       "      <td>142.851747</td>\n",
       "      <td>106.033536</td>\n",
       "      <td>351.740312</td>\n",
       "      <td>99.391520</td>\n",
       "      <td>62.161764</td>\n",
       "    </tr>\n",
       "    <tr>\n",
       "      <th>1</th>\n",
       "      <td>146.683439</td>\n",
       "      <td>106.032624</td>\n",
       "      <td>352.544853</td>\n",
       "      <td>98.578071</td>\n",
       "      <td>61.561672</td>\n",
       "    </tr>\n",
       "    <tr>\n",
       "      <th>2</th>\n",
       "      <td>145.276384</td>\n",
       "      <td>105.323788</td>\n",
       "      <td>348.726243</td>\n",
       "      <td>99.596139</td>\n",
       "      <td>62.252137</td>\n",
       "    </tr>\n",
       "    <tr>\n",
       "      <th>3</th>\n",
       "      <td>149.006137</td>\n",
       "      <td>105.904221</td>\n",
       "      <td>352.116137</td>\n",
       "      <td>98.939620</td>\n",
       "      <td>62.305308</td>\n",
       "    </tr>\n",
       "    <tr>\n",
       "      <th>4</th>\n",
       "      <td>146.613533</td>\n",
       "      <td>105.816778</td>\n",
       "      <td>350.285621</td>\n",
       "      <td>98.906660</td>\n",
       "      <td>62.142140</td>\n",
       "    </tr>\n",
       "  </tbody>\n",
       "</table>\n",
       "</div>"
      ],
      "text/plain": [
       "   ruT5-large-jj-overfit-no-shuffle  ruT5-large-st-overfit  fredT5-large-st  \\\n",
       "0                        142.851747             106.033536       351.740312   \n",
       "1                        146.683439             106.032624       352.544853   \n",
       "2                        145.276384             105.323788       348.726243   \n",
       "3                        149.006137             105.904221       352.116137   \n",
       "4                        146.613533             105.816778       350.285621   \n",
       "\n",
       "   fredT5-large-wn  fredT5-xl-st  \n",
       "0        99.391520     62.161764  \n",
       "1        98.578071     61.561672  \n",
       "2        99.596139     62.252137  \n",
       "3        98.939620     62.305308  \n",
       "4        98.906660     62.142140  "
      ]
     },
     "execution_count": 21,
     "metadata": {},
     "output_type": "execute_result"
    }
   ],
   "source": [
    "data = pd.DataFrame(results)\n",
    "data.head()"
   ]
  },
  {
   "cell_type": "code",
   "execution_count": 22,
   "id": "e81ffc93-1dba-45fc-8376-f7a5c1c39be0",
   "metadata": {},
   "outputs": [],
   "source": [
    "path = \"/home/vlad/leonya/bench_results/time_benchmarking.csv\"\n",
    "\n",
    "if os.path.exists(path):\n",
    "    orig_data = pd.read_csv(path)\n",
    "    data = pd.concat([orig_data, data], axis=1)"
   ]
  },
  {
   "cell_type": "code",
   "execution_count": 23,
   "id": "603cdf67-6d92-4e5e-a7bc-45dcdbe74e12",
   "metadata": {},
   "outputs": [],
   "source": [
    "data.to_csv(path, index=False)"
   ]
  },
  {
   "cell_type": "code",
   "execution_count": 24,
   "id": "29cb773b-1d9c-416d-a9f8-a281423f1fa8",
   "metadata": {},
   "outputs": [
    {
     "name": "stdout",
     "output_type": "stream",
     "text": [
      "ruT5-large-jj-overfit-no-shuffle\n",
      "\t(143.58570226306594, 148.58679373693403)\n",
      "ruT5-large-st-overfit\n",
      "\t(105.49645072223335, 106.14792807776665)\n",
      "fredT5-large-st\n",
      "\t(349.3419494518929, 352.82331694810716)\n",
      "fredT5-large-wn\n",
      "\t(98.6295430015078, 99.53526099849218)\n",
      "fredT5-xl-st\n",
      "\t(61.75166247193706, 62.41754592806294)\n"
     ]
    }
   ],
   "source": [
    "z = ss.t(4).ppf(0.975) / np.sqrt(5)\n",
    "\n",
    "for col in data.columns:\n",
    "    print(col)\n",
    "    vals = data[col].values\n",
    "    print(f\"\\t({vals.mean() - z * vals.std()}, {vals.mean() + z * vals.std()})\")"
   ]
  },
  {
   "cell_type": "code",
   "execution_count": 25,
   "id": "eca7b1de-25d6-481d-b3f9-08c799376792",
   "metadata": {},
   "outputs": [
    {
     "data": {
      "text/html": [
       "<div>\n",
       "<style scoped>\n",
       "    .dataframe tbody tr th:only-of-type {\n",
       "        vertical-align: middle;\n",
       "    }\n",
       "\n",
       "    .dataframe tbody tr th {\n",
       "        vertical-align: top;\n",
       "    }\n",
       "\n",
       "    .dataframe thead th {\n",
       "        text-align: right;\n",
       "    }\n",
       "</style>\n",
       "<table border=\"1\" class=\"dataframe\">\n",
       "  <thead>\n",
       "    <tr style=\"text-align: right;\">\n",
       "      <th></th>\n",
       "      <th>ruT5-large-jj-overfit-no-shuffle</th>\n",
       "      <th>ruT5-large-st-overfit</th>\n",
       "      <th>fredT5-large-st</th>\n",
       "      <th>fredT5-large-wn</th>\n",
       "      <th>fredT5-xl-st</th>\n",
       "    </tr>\n",
       "  </thead>\n",
       "  <tbody>\n",
       "    <tr>\n",
       "      <th>0</th>\n",
       "      <td>142.851747</td>\n",
       "      <td>106.033536</td>\n",
       "      <td>351.740312</td>\n",
       "      <td>99.391520</td>\n",
       "      <td>62.161764</td>\n",
       "    </tr>\n",
       "    <tr>\n",
       "      <th>1</th>\n",
       "      <td>146.683439</td>\n",
       "      <td>106.032624</td>\n",
       "      <td>352.544853</td>\n",
       "      <td>98.578071</td>\n",
       "      <td>61.561672</td>\n",
       "    </tr>\n",
       "    <tr>\n",
       "      <th>2</th>\n",
       "      <td>145.276384</td>\n",
       "      <td>105.323788</td>\n",
       "      <td>348.726243</td>\n",
       "      <td>99.596139</td>\n",
       "      <td>62.252137</td>\n",
       "    </tr>\n",
       "    <tr>\n",
       "      <th>3</th>\n",
       "      <td>149.006137</td>\n",
       "      <td>105.904221</td>\n",
       "      <td>352.116137</td>\n",
       "      <td>98.939620</td>\n",
       "      <td>62.305308</td>\n",
       "    </tr>\n",
       "    <tr>\n",
       "      <th>4</th>\n",
       "      <td>146.613533</td>\n",
       "      <td>105.816778</td>\n",
       "      <td>350.285621</td>\n",
       "      <td>98.906660</td>\n",
       "      <td>62.142140</td>\n",
       "    </tr>\n",
       "  </tbody>\n",
       "</table>\n",
       "</div>"
      ],
      "text/plain": [
       "   ruT5-large-jj-overfit-no-shuffle  ruT5-large-st-overfit  fredT5-large-st  \\\n",
       "0                        142.851747             106.033536       351.740312   \n",
       "1                        146.683439             106.032624       352.544853   \n",
       "2                        145.276384             105.323788       348.726243   \n",
       "3                        149.006137             105.904221       352.116137   \n",
       "4                        146.613533             105.816778       350.285621   \n",
       "\n",
       "   fredT5-large-wn  fredT5-xl-st  \n",
       "0        99.391520     62.161764  \n",
       "1        98.578071     61.561672  \n",
       "2        99.596139     62.252137  \n",
       "3        98.939620     62.305308  \n",
       "4        98.906660     62.142140  "
      ]
     },
     "execution_count": 25,
     "metadata": {},
     "output_type": "execute_result"
    }
   ],
   "source": [
    "data.head()"
   ]
  },
  {
   "cell_type": "code",
   "execution_count": 26,
   "id": "5ba5874d-80ea-4d89-adbb-b3553e32b8b9",
   "metadata": {},
   "outputs": [
    {
     "data": {
      "text/plain": [
       "True"
      ]
     },
     "execution_count": 26,
     "metadata": {},
     "output_type": "execute_result"
    }
   ],
   "source": [
    "os.path.exists(path)"
   ]
  },
  {
   "cell_type": "code",
   "execution_count": null,
   "id": "036363c9-5d5a-40f1-8e82-68944933c767",
   "metadata": {},
   "outputs": [],
   "source": []
  }
 ],
 "metadata": {
  "kernelspec": {
   "display_name": "Python 3 (ipykernel)",
   "language": "python",
   "name": "python3"
  },
  "language_info": {
   "codemirror_mode": {
    "name": "ipython",
    "version": 3
   },
   "file_extension": ".py",
   "mimetype": "text/x-python",
   "name": "python",
   "nbconvert_exporter": "python",
   "pygments_lexer": "ipython3",
   "version": "3.10.14"
  }
 },
 "nbformat": 4,
 "nbformat_minor": 5
}
