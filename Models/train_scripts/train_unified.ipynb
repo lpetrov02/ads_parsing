{
 "cells": [
  {
   "cell_type": "code",
   "execution_count": 1,
   "id": "68483d32-5a42-45c0-a6af-09cb22fa2226",
   "metadata": {
    "execution": {
     "iopub.execute_input": "2024-05-15T10:28:29.947408Z",
     "iopub.status.busy": "2024-05-15T10:28:29.946465Z",
     "iopub.status.idle": "2024-05-15T10:28:59.605521Z",
     "shell.execute_reply": "2024-05-15T10:28:59.604312Z",
     "shell.execute_reply.started": "2024-05-15T10:28:29.947352Z"
    },
    "tags": []
   },
   "outputs": [
    {
     "name": "stderr",
     "output_type": "stream",
     "text": [
      "/home/jupyter/.local/lib/python3.10/site-packages/transformers/utils/hub.py:124: FutureWarning: Using `TRANSFORMERS_CACHE` is deprecated and will be removed in v5 of Transformers. Use `HF_HOME` instead.\n",
      "  warnings.warn(\n",
      "2024-05-15 10:28:53.904787: W tensorflow/compiler/tf2tensorrt/utils/py_utils.cc:38] TF-TRT Warning: Could not find TensorRT\n"
     ]
    }
   ],
   "source": [
    "import numpy as np\n",
    "import pandas as pd\n",
    "import matplotlib.pyplot as plt\n",
    "\n",
    "from math import factorial\n",
    "\n",
    "import json\n",
    "import re\n",
    "\n",
    "import torch\n",
    "from torch import nn\n",
    "from transformers import AutoTokenizer, AutoModelForSeq2SeqLM, AutoConfig\n",
    "\n",
    "from datasets import Dataset\n",
    "from transformers import AutoModelForCausalLM, Seq2SeqTrainingArguments, Seq2SeqTrainer\n",
    "from peft import LoraConfig, get_peft_model\n",
    "\n",
    "import sys\n",
    "from eval_utils import get_metrics_computer, PrintCallback\n",
    "from utils import get_preprocessor, Format, ShuffleCollator, count_parameters"
   ]
  },
  {
   "cell_type": "code",
   "execution_count": 2,
   "id": "10d6f354-9cdc-42b2-9c2b-a5027702e789",
   "metadata": {
    "execution": {
     "iopub.execute_input": "2024-05-15T10:28:59.608064Z",
     "iopub.status.busy": "2024-05-15T10:28:59.606899Z",
     "iopub.status.idle": "2024-05-15T10:28:59.758775Z",
     "shell.execute_reply": "2024-05-15T10:28:59.757651Z",
     "shell.execute_reply.started": "2024-05-15T10:28:59.608014Z"
    },
    "tags": []
   },
   "outputs": [
    {
     "data": {
      "text/plain": [
       "'cuda:0'"
      ]
     },
     "execution_count": 2,
     "metadata": {},
     "output_type": "execute_result"
    }
   ],
   "source": [
    "device = 'cuda:0' if torch.cuda.is_available() else 'cpu'\n",
    "device"
   ]
  },
  {
   "cell_type": "code",
   "execution_count": 3,
   "id": "f6aaa3f8-8ea5-4e70-a79d-f01b2d85725d",
   "metadata": {
    "execution": {
     "iopub.execute_input": "2024-05-15T10:28:59.763318Z",
     "iopub.status.busy": "2024-05-15T10:28:59.761557Z",
     "iopub.status.idle": "2024-05-15T10:28:59.780306Z",
     "shell.execute_reply": "2024-05-15T10:28:59.779279Z",
     "shell.execute_reply.started": "2024-05-15T10:28:59.763264Z"
    },
    "tags": []
   },
   "outputs": [
    {
     "data": {
      "text/plain": [
       "{'format': 'SpecTokens',\n",
       " 'max_bundles': 5,\n",
       " 'model': 'ai-forever/ruT5-base',\n",
       " 'add_nl_token': False,\n",
       " 'add_eos_token': False,\n",
       " 'change_pad_to_eos': False,\n",
       " 'shuffle_bundles': True,\n",
       " 'save_folder': 'ruT5-base',\n",
       " 'train': {'n_epochs': 10,\n",
       "  'lr': 5e-05,\n",
       "  'batch_size': 16,\n",
       "  'weight_decay': 0.01,\n",
       "  'scheduler': 'cosine',\n",
       "  'warmup_steps': 500,\n",
       "  'fp16': True},\n",
       " 'eval': {'batch_size': 16, 'show': 5}}"
      ]
     },
     "execution_count": 3,
     "metadata": {},
     "output_type": "execute_result"
    }
   ],
   "source": [
    "with open(\"configs/config_ruT5-base-st.json\", \"rb\") as config:\n",
    "    params = json.load(config)\n",
    "\n",
    "params"
   ]
  },
  {
   "cell_type": "code",
   "execution_count": 4,
   "id": "7c2ea8f5-01dc-4989-8590-4fde9923ef2b",
   "metadata": {
    "execution": {
     "iopub.execute_input": "2024-05-15T10:28:59.783506Z",
     "iopub.status.busy": "2024-05-15T10:28:59.782391Z",
     "iopub.status.idle": "2024-05-15T10:28:59.796463Z",
     "shell.execute_reply": "2024-05-15T10:28:59.795432Z",
     "shell.execute_reply.started": "2024-05-15T10:28:59.783456Z"
    },
    "tags": []
   },
   "outputs": [],
   "source": [
    "out_format = Format.SpecTokens if params[\"format\"] == \"SpecTokens\" else Format.JustJson"
   ]
  },
  {
   "cell_type": "code",
   "execution_count": 5,
   "id": "f843b9b4-f035-4aa5-9c06-ae5180da4533",
   "metadata": {
    "execution": {
     "iopub.execute_input": "2024-05-15T10:28:59.798839Z",
     "iopub.status.busy": "2024-05-15T10:28:59.797816Z",
     "iopub.status.idle": "2024-05-15T10:28:59.993316Z",
     "shell.execute_reply": "2024-05-15T10:28:59.991881Z",
     "shell.execute_reply.started": "2024-05-15T10:28:59.798789Z"
    },
    "tags": []
   },
   "outputs": [
    {
     "name": "stdout",
     "output_type": "stream",
     "text": [
      "We have train datset of size 8632\n"
     ]
    },
    {
     "data": {
      "text/html": [
       "<div>\n",
       "<style scoped>\n",
       "    .dataframe tbody tr th:only-of-type {\n",
       "        vertical-align: middle;\n",
       "    }\n",
       "\n",
       "    .dataframe tbody tr th {\n",
       "        vertical-align: top;\n",
       "    }\n",
       "\n",
       "    .dataframe thead th {\n",
       "        text-align: right;\n",
       "    }\n",
       "</style>\n",
       "<table border=\"1\" class=\"dataframe\">\n",
       "  <thead>\n",
       "    <tr style=\"text-align: right;\">\n",
       "      <th></th>\n",
       "      <th>Text</th>\n",
       "      <th>bundles</th>\n",
       "      <th>n_bundles</th>\n",
       "    </tr>\n",
       "  </thead>\n",
       "  <tbody>\n",
       "    <tr>\n",
       "      <th>0</th>\n",
       "      <td>Продам телефон POCO F4 128GB телефону 8 месяце...</td>\n",
       "      <td>[{\"Title\": \"\\u0442\\u0435\\u043b\\u0435\\u0444\\u04...</td>\n",
       "      <td>1</td>\n",
       "    </tr>\n",
       "    <tr>\n",
       "      <th>1</th>\n",
       "      <td>продам sup борд  10'6 - 320х76х15 см, пользова...</td>\n",
       "      <td>[{\"Title\": \"sup \\u0431\\u043e\\u0440\\u0434 \\u043...</td>\n",
       "      <td>1</td>\n",
       "    </tr>\n",
       "    <tr>\n",
       "      <th>2</th>\n",
       "      <td>Изменились планы . Отдам за 2000</td>\n",
       "      <td>[]</td>\n",
       "      <td>0</td>\n",
       "    </tr>\n",
       "    <tr>\n",
       "      <th>3</th>\n",
       "      <td>Продам рацию MegaJet MJ-333 в хорошем рабочем ...</td>\n",
       "      <td>[{\"Title\": \"\\u0440\\u0430\\u0434\\u0438\\u043e\\u04...</td>\n",
       "      <td>1</td>\n",
       "    </tr>\n",
       "    <tr>\n",
       "      <th>4</th>\n",
       "      <td>Продам PlayStation 3\\n3 джойстик и все диски\\n...</td>\n",
       "      <td>[{\"Title\": \"PlayStation 3 \\u0441 3 \\u0434\\u043...</td>\n",
       "      <td>1</td>\n",
       "    </tr>\n",
       "  </tbody>\n",
       "</table>\n",
       "</div>"
      ],
      "text/plain": [
       "                                                Text  ... n_bundles\n",
       "0  Продам телефон POCO F4 128GB телефону 8 месяце...  ...         1\n",
       "1  продам sup борд  10'6 - 320х76х15 см, пользова...  ...         1\n",
       "2                   Изменились планы . Отдам за 2000  ...         0\n",
       "3  Продам рацию MegaJet MJ-333 в хорошем рабочем ...  ...         1\n",
       "4  Продам PlayStation 3\\n3 джойстик и все диски\\n...  ...         1\n",
       "\n",
       "[5 rows x 3 columns]"
      ]
     },
     "execution_count": 5,
     "metadata": {},
     "output_type": "execute_result"
    }
   ],
   "source": [
    "train_data = pd.read_csv(\"~/work/resources/data/ads_train.csv\")\n",
    "train_data = train_data[train_data[\"n_bundles\"] <= params.get(\"max_bundles\", np.inf)]\n",
    "train_data.set_index(np.arange(len(train_data)), inplace=True)\n",
    "print(f\"We have train datset of size {len(train_data)}\")\n",
    "train_data.head()"
   ]
  },
  {
   "cell_type": "code",
   "execution_count": 6,
   "id": "79fea56b-3411-4175-8fa4-7b7c5a85e578",
   "metadata": {
    "execution": {
     "iopub.execute_input": "2024-05-15T10:28:59.996348Z",
     "iopub.status.busy": "2024-05-15T10:28:59.995313Z",
     "iopub.status.idle": "2024-05-15T10:29:00.066584Z",
     "shell.execute_reply": "2024-05-15T10:29:00.065360Z",
     "shell.execute_reply.started": "2024-05-15T10:28:59.996300Z"
    },
    "tags": []
   },
   "outputs": [
    {
     "name": "stdout",
     "output_type": "stream",
     "text": [
      "We have eval datset of size 611\n"
     ]
    },
    {
     "data": {
      "text/html": [
       "<div>\n",
       "<style scoped>\n",
       "    .dataframe tbody tr th:only-of-type {\n",
       "        vertical-align: middle;\n",
       "    }\n",
       "\n",
       "    .dataframe tbody tr th {\n",
       "        vertical-align: top;\n",
       "    }\n",
       "\n",
       "    .dataframe thead th {\n",
       "        text-align: right;\n",
       "    }\n",
       "</style>\n",
       "<table border=\"1\" class=\"dataframe\">\n",
       "  <thead>\n",
       "    <tr style=\"text-align: right;\">\n",
       "      <th></th>\n",
       "      <th>Text</th>\n",
       "      <th>bundles</th>\n",
       "      <th>n_bundles</th>\n",
       "    </tr>\n",
       "  </thead>\n",
       "  <tbody>\n",
       "    <tr>\n",
       "      <th>0</th>\n",
       "      <td>Распродажа \\nПлатья \\nЦена: 300р\\nРазмер: 44-4...</td>\n",
       "      <td>[{\"Title\": \"\\u041f\\u043b\\u0430\\u0442\\u044c\\u04...</td>\n",
       "      <td>1</td>\n",
       "    </tr>\n",
       "    <tr>\n",
       "      <th>1</th>\n",
       "      <td>вегетарианская энциклопедия вкусов, что с чем ...</td>\n",
       "      <td>[{\"Title\": \"\\u0432\\u0435\\u0433\\u0435\\u0442\\u04...</td>\n",
       "      <td>1</td>\n",
       "    </tr>\n",
       "    <tr>\n",
       "      <th>2</th>\n",
       "      <td>продам щетку для сухого массажа, новая (так и ...</td>\n",
       "      <td>[{\"Title\": \"\\u0429\\u0435\\u0442\\u043a\\u0430 \\u0...</td>\n",
       "      <td>1</td>\n",
       "    </tr>\n",
       "    <tr>\n",
       "      <th>3</th>\n",
       "      <td>Зимний тёплый комбинезон,  пух, Crockid,  p.74...</td>\n",
       "      <td>[{\"Title\": \"\\u0417\\u0438\\u043c\\u043d\\u0438\\u04...</td>\n",
       "      <td>1</td>\n",
       "    </tr>\n",
       "    <tr>\n",
       "      <th>4</th>\n",
       "      <td>удлинитель икеа 1,5 м на 6 розеток\\n25 лари\\n📍...</td>\n",
       "      <td>[{\"Title\": \"\\u0443\\u0434\\u043b\\u0438\\u043d\\u04...</td>\n",
       "      <td>1</td>\n",
       "    </tr>\n",
       "  </tbody>\n",
       "</table>\n",
       "</div>"
      ],
      "text/plain": [
       "                                                Text  ... n_bundles\n",
       "0  Распродажа \\nПлатья \\nЦена: 300р\\nРазмер: 44-4...  ...         1\n",
       "1  вегетарианская энциклопедия вкусов, что с чем ...  ...         1\n",
       "2  продам щетку для сухого массажа, новая (так и ...  ...         1\n",
       "3  Зимний тёплый комбинезон,  пух, Crockid,  p.74...  ...         1\n",
       "4  удлинитель икеа 1,5 м на 6 розеток\\n25 лари\\n📍...  ...         1\n",
       "\n",
       "[5 rows x 3 columns]"
      ]
     },
     "execution_count": 6,
     "metadata": {},
     "output_type": "execute_result"
    }
   ],
   "source": [
    "eval_data = pd.read_csv(\"~/work/resources/data/ads_eval.csv\")\n",
    "eval_data = eval_data[:params.get(\"max_eval_size\", len(eval_data))]\n",
    "eval_data.set_index(np.arange(len(eval_data)), inplace=True)\n",
    "print(f\"We have eval datset of size {len(eval_data)}\")\n",
    "eval_data.head()"
   ]
  },
  {
   "cell_type": "code",
   "execution_count": 7,
   "id": "b34866aa-fd51-4f76-b96f-28b3bd2c4948",
   "metadata": {
    "execution": {
     "iopub.execute_input": "2024-05-15T10:29:00.068923Z",
     "iopub.status.busy": "2024-05-15T10:29:00.067824Z",
     "iopub.status.idle": "2024-05-15T10:29:07.071844Z",
     "shell.execute_reply": "2024-05-15T10:29:07.070685Z",
     "shell.execute_reply.started": "2024-05-15T10:29:00.068871Z"
    },
    "tags": []
   },
   "outputs": [
    {
     "name": "stderr",
     "output_type": "stream",
     "text": [
      "/home/jupyter/.local/lib/python3.10/site-packages/huggingface_hub/file_download.py:1132: FutureWarning: `resume_download` is deprecated and will be removed in version 1.0.0. Downloads always resume when possible. If you want to force a new download, use `force_download=True`.\n",
      "  warnings.warn(\n",
      "You are using the default legacy behaviour of the <class 'transformers.models.t5.tokenization_t5.T5Tokenizer'>. This is expected, and simply means that the `legacy` (previous) behavior will be used so nothing changes for you. If you want to use the new behaviour, set `legacy=False`. This should only be set if you understand what it means, and thoroughly read the reason why this was added as explained in https://github.com/huggingface/transformers/pull/24565\n",
      "Special tokens have been added in the vocabulary, make sure the associated word embeddings are fine-tuned or trained.\n",
      "/usr/local/lib/python3.10/dist-packages/torch/_utils.py:776: UserWarning: TypedStorage is deprecated. It will be removed in the future and UntypedStorage will be the only storage class. This should only matter to you if you are using storages directly.  To access UntypedStorage directly, use tensor.untyped_storage() instead of tensor.storage()\n",
      "  return self.fget.__get__(instance, owner)()\n"
     ]
    },
    {
     "data": {
      "text/plain": [
       "Embedding(32112, 768)"
      ]
     },
     "execution_count": 7,
     "metadata": {},
     "output_type": "execute_result"
    }
   ],
   "source": [
    "model_checkpoint = params[\"model\"]\n",
    "tokenizer = AutoTokenizer.from_pretrained(model_checkpoint)\n",
    "model = AutoModelForSeq2SeqLM.from_pretrained(model_checkpoint)\n",
    "\n",
    "tokenizer.add_tokens([\"₾\", \"$\", \"€\"], special_tokens=False)\n",
    "if params.get(\"add_nl_token\", False):\n",
    "    tokenizer.add_tokens([\"<NL>\"], special_tokens=False)\n",
    "if out_format == Format.SpecTokens:\n",
    "    tokenizer.add_tokens([\"<BOB>\", \"<EOB>\", \"<BOT>\", \"<EOT>\", \"<BOP>\", \"<EOP>\", \"<BOC1>\", \"<EOC1>\", \"<BOC2>\", \"<EOC2>\"], special_tokens=False)\n",
    "elif out_format == Format.JustJson:\n",
    "    tokenizer.add_tokens([\"{\", \"}\"], special_tokens=False)\n",
    "model.resize_token_embeddings(len(tokenizer))"
   ]
  },
  {
   "cell_type": "code",
   "execution_count": 8,
   "id": "a9fd32cb-dfc0-4ef6-9cdf-5ca9e1465093",
   "metadata": {
    "execution": {
     "iopub.execute_input": "2024-05-15T10:29:07.076376Z",
     "iopub.status.busy": "2024-05-15T10:29:07.075331Z",
     "iopub.status.idle": "2024-05-15T10:29:08.912184Z",
     "shell.execute_reply": "2024-05-15T10:29:08.910834Z",
     "shell.execute_reply.started": "2024-05-15T10:29:07.076323Z"
    },
    "tags": []
   },
   "outputs": [
    {
     "name": "stderr",
     "output_type": "stream",
     "text": [
      "Map (num_proc=4): 100%|██████████| 8632/8632 [00:00<00:00, 9892.45 examples/s] \n",
      "Map (num_proc=4): 100%|██████████| 611/611 [00:00<00:00, 1290.79 examples/s]\n"
     ]
    }
   ],
   "source": [
    "train_dataset = Dataset.from_pandas(train_data[[\"Text\", \"bundles\"]])\n",
    "train_ads = train_dataset.map(\n",
    "    get_preprocessor(tokenizer, out_format),\n",
    "    batched=True,\n",
    "    num_proc=4,\n",
    "    remove_columns=train_dataset.column_names\n",
    ")\n",
    "train_ads = train_ads.flatten()\n",
    "\n",
    "eval_dataset = Dataset.from_pandas(eval_data[[\"Text\", \"bundles\"]])\n",
    "eval_ads = eval_dataset.map(\n",
    "    get_preprocessor(tokenizer, out_format),\n",
    "    batched=True,\n",
    "    num_proc=4,\n",
    "    remove_columns=eval_dataset.column_names\n",
    ")\n",
    "eval_ads = eval_ads.flatten()"
   ]
  },
  {
   "cell_type": "code",
   "execution_count": 9,
   "id": "468a8b8c-7a5b-42d2-9bae-98a74f67473f",
   "metadata": {
    "execution": {
     "iopub.execute_input": "2024-05-15T10:29:08.914707Z",
     "iopub.status.busy": "2024-05-15T10:29:08.914041Z",
     "iopub.status.idle": "2024-05-15T10:29:08.928941Z",
     "shell.execute_reply": "2024-05-15T10:29:08.927964Z",
     "shell.execute_reply.started": "2024-05-15T10:29:08.914656Z"
    },
    "tags": []
   },
   "outputs": [],
   "source": [
    "if params.get(\"change_pad_to_eos\", False):\n",
    "    tokenizer.pad_token = tokenizer.eos_token\n",
    "\n",
    "data_collator = ShuffleCollator(tokenizer, out_format, params.get(\"add_eos_token\", False), params.get(\"shuffle_bundles\", False))"
   ]
  },
  {
   "cell_type": "code",
   "execution_count": 10,
   "id": "dcebbc5c-2960-4a5b-b003-8df89e3ebde3",
   "metadata": {
    "execution": {
     "iopub.execute_input": "2024-05-15T10:29:08.931187Z",
     "iopub.status.busy": "2024-05-15T10:29:08.930173Z",
     "iopub.status.idle": "2024-05-15T10:29:09.789156Z",
     "shell.execute_reply": "2024-05-15T10:29:09.788024Z",
     "shell.execute_reply.started": "2024-05-15T10:29:08.931081Z"
    },
    "tags": []
   },
   "outputs": [
    {
     "name": "stdout",
     "output_type": "stream",
     "text": [
      "Total parameters: 222,891,264\n",
      "Trainable parameters: 222,891,264\n",
      "Non-trainable parameters: 0\n"
     ]
    }
   ],
   "source": [
    "train_params = params[\"train\"]\n",
    "eval_params = params[\"eval\"]\n",
    "\n",
    "lora_rank = params.get(\"lora\", {}).get(\"rank\")\n",
    "if lora_rank is not None:\n",
    "    lora_config = LoraConfig(\n",
    "        r=lora_rank,\n",
    "        lora_alpha=32,\n",
    "        target_modules=[\"k\", \"q\", \"v\", \"o\", \"lm_head\"],\n",
    "        lora_dropout=0.05,\n",
    "        bias=\"none\",\n",
    "        task_type=\"SEQ_2_SEQ_LM\",\n",
    "    )\n",
    "\n",
    "    model = get_peft_model(model, lora_config)\n",
    "\n",
    "count_parameters(model)\n",
    "\n",
    "training_args = Seq2SeqTrainingArguments(\n",
    "    output_dir=\"tmp_checkpoints\",\n",
    "    overwrite_output_dir=True,\n",
    "    evaluation_strategy=\"epoch\",\n",
    "    learning_rate=train_params[\"lr\"],\n",
    "    per_device_train_batch_size=train_params[\"batch_size\"],\n",
    "    per_device_eval_batch_size=eval_params[\"batch_size\"],\n",
    "    weight_decay=train_params.get(\"weight_decay\", 0),\n",
    "    save_total_limit=1,\n",
    "    num_train_epochs=train_params[\"n_epochs\"],\n",
    "    predict_with_generate=True,\n",
    "    generation_max_length=256,\n",
    "    lr_scheduler_type=train_params.get(\"scheduler\", \"cosine\"),\n",
    "    group_by_length=False,\n",
    "    warmup_steps=train_params.get(\"warmup_steps\", 0),\n",
    "    fp16=train_params.get(\"fp16\", False),\n",
    ")\n",
    "\n",
    "trainer = Seq2SeqTrainer(\n",
    "    model=model,\n",
    "    args=training_args,\n",
    "    train_dataset=train_ads,\n",
    "    eval_dataset=eval_ads,\n",
    "    tokenizer=tokenizer,\n",
    "    data_collator=data_collator,\n",
    "    compute_metrics=get_metrics_computer(tokenizer, out_format),\n",
    "    callbacks=[PrintCallback(out_format, show=eval_params.get(\"show\", 3), device=device)]\n",
    ")"
   ]
  },
  {
   "cell_type": "code",
   "execution_count": null,
   "id": "9975c077-3933-4e2c-ae8e-a1a373771cde",
   "metadata": {
    "execution": {
     "iopub.execute_input": "2024-05-15T10:29:09.791967Z",
     "iopub.status.busy": "2024-05-15T10:29:09.790706Z"
    },
    "tags": []
   },
   "outputs": [
    {
     "name": "stderr",
     "output_type": "stream",
     "text": [
      "  9%|▉         | 500/5400 [01:55<18:46,  4.35it/s]"
     ]
    },
    {
     "name": "stdout",
     "output_type": "stream",
     "text": [
      "{'loss': 2.3505, 'grad_norm': 0.9308339357376099, 'learning_rate': 4.92e-05, 'epoch': 0.93}\n"
     ]
    },
    {
     "name": "stderr",
     "output_type": "stream",
     "text": [
      " 10%|█         | 540/5400 [02:59<18:12,  4.45it/s]   \n",
      "  0%|          | 0/39 [00:00<?, ?it/s]\u001b[A\n",
      "  5%|▌         | 2/39 [00:01<00:31,  1.19it/s]\u001b[A\n",
      "  8%|▊         | 3/39 [00:03<00:39,  1.09s/it]\u001b[A\n",
      " 10%|█         | 4/39 [00:11<02:16,  3.90s/it]\u001b[A\n",
      " 13%|█▎        | 5/39 [00:20<03:09,  5.57s/it]\u001b[A\n",
      " 15%|█▌        | 6/39 [00:29<03:36,  6.57s/it]\u001b[A\n",
      " 18%|█▊        | 7/39 [00:33<03:05,  5.79s/it]\u001b[A\n",
      " 21%|██        | 8/39 [00:41<03:28,  6.73s/it]\u001b[A\n",
      " 23%|██▎       | 9/39 [00:44<02:41,  5.38s/it]\u001b[A\n",
      " 26%|██▌       | 10/39 [00:47<02:13,  4.60s/it]\u001b[A\n",
      " 28%|██▊       | 11/39 [00:56<02:45,  5.91s/it]\u001b[A\n",
      " 31%|███       | 12/39 [01:04<03:03,  6.80s/it]\u001b[A\n",
      " 33%|███▎      | 13/39 [01:06<02:15,  5.22s/it]\u001b[A\n",
      " 36%|███▌      | 14/39 [01:11<02:05,  5.02s/it]\u001b[A\n",
      " 38%|███▊      | 15/39 [01:16<02:01,  5.07s/it]\u001b[A\n",
      " 41%|████      | 16/39 [01:18<01:35,  4.13s/it]\u001b[A\n",
      " 44%|████▎     | 17/39 [01:26<02:01,  5.51s/it]\u001b[A\n",
      " 46%|████▌     | 18/39 [01:28<01:34,  4.49s/it]\u001b[A\n",
      " 49%|████▊     | 19/39 [01:30<01:11,  3.60s/it]\u001b[A\n",
      " 51%|█████▏    | 20/39 [01:36<01:19,  4.19s/it]\u001b[A\n",
      " 54%|█████▍    | 21/39 [01:41<01:20,  4.46s/it]\u001b[A\n",
      " 56%|█████▋    | 22/39 [01:45<01:16,  4.53s/it]\u001b[A\n",
      " 59%|█████▉    | 23/39 [01:54<01:33,  5.83s/it]\u001b[A\n",
      " 62%|██████▏   | 24/39 [01:56<01:09,  4.64s/it]\u001b[A\n",
      " 64%|██████▍   | 25/39 [02:01<01:05,  4.70s/it]\u001b[A\n",
      " 67%|██████▋   | 26/39 [02:03<00:51,  3.93s/it]\u001b[A\n",
      " 69%|██████▉   | 27/39 [02:07<00:47,  3.99s/it]\u001b[A\n",
      " 72%|███████▏  | 28/39 [02:16<00:59,  5.39s/it]\u001b[A\n",
      " 74%|███████▍  | 29/39 [02:25<01:03,  6.39s/it]\u001b[A\n",
      " 77%|███████▋  | 30/39 [02:26<00:44,  4.92s/it]\u001b[A\n",
      " 79%|███████▉  | 31/39 [02:33<00:45,  5.65s/it]\u001b[A\n",
      " 82%|████████▏ | 32/39 [02:35<00:31,  4.49s/it]\u001b[A\n",
      " 85%|████████▍ | 33/39 [02:37<00:22,  3.68s/it]\u001b[A\n",
      " 87%|████████▋ | 34/39 [02:39<00:15,  3.10s/it]\u001b[A\n",
      " 90%|████████▉ | 35/39 [02:40<00:10,  2.59s/it]\u001b[A\n",
      " 92%|█████████▏| 36/39 [02:42<00:07,  2.36s/it]\u001b[A\n",
      " 95%|█████████▍| 37/39 [02:44<00:04,  2.29s/it]\u001b[A\n",
      " 97%|█████████▋| 38/39 [02:46<00:02,  2.15s/it]\u001b[A\n",
      "100%|██████████| 39/39 [02:47<00:00,  1.93s/it]\u001b[A\n",
      "\n",
      "Downloading builder script: 100%|██████████| 8.15k/8.15k [00:00<00:00, 3.46MB/s]\n",
      "\n",
      "\n",
      "Downloading builder script: 100%|██████████| 9.01k/9.01k [00:00<00:00, 3.01MB/s]\n",
      "                                                  \n",
      " 10%|█         | 540/5400 [17:46<18:12,  4.45it/s]\n",
      "100%|██████████| 39/39 [14:44<00:00,  1.93s/it]\u001b[A"
     ]
    },
    {
     "name": "stdout",
     "output_type": "stream",
     "text": [
      "{'eval_loss': 0.12973809242248535, 'eval_Global BLEU': 61.197050713994074, 'eval_valid_answer_structure_precent': 95.34109816971714, 'eval_valid_bundles_precent': 100.0, 'eval_n_bundles_mae': 0.3787085514834206, 'eval_mean_over_bundles': 0.06806282722513089, 'eval_mean_under_bundles': 0.3106457242582897, 'eval_title_bleu_1_bundle': 31.959071138182768, 'eval_title_chrf_1_bundle': 69.25242721199052, 'eval_price_match_precent_1_bundle': 84.28030303030303, 'eval_currency_match_precent_1_bundle': 92.23484848484848, 'eval_count_match_precent_1_bundle': 89.01515151515152, 'eval_title_bleu_multi_bundle': 19.27024936521683, 'eval_title_chrf_multi_bundle': 49.01640137530453, 'eval_price_match_precent_multi_bundle': 33.33333333333333, 'eval_currency_match_precent_multi_bundle': 83.33333333333334, 'eval_count_match_precent_multi_bundle': 100.0, 'eval_runtime': 886.8077, 'eval_samples_per_second': 0.689, 'eval_steps_per_second': 0.044, 'epoch': 1.0}\n"
     ]
    },
    {
     "name": "stderr",
     "output_type": "stream",
     "text": [
      "\n",
      "                                               \u001b[A"
     ]
    },
    {
     "name": "stdout",
     "output_type": "stream",
     "text": [
      "\n",
      "ORIGINAL TEXT\n",
      "\tRAW\n",
      "\t Распродажа Платья Цена: 300р Размер: 44-46-48-50 Без выбора цвета Арт: 2Г-14 корпус Б</s>\n",
      "\n",
      "TARGET\n",
      "\tRAW\n",
      "\t <BOB> <BOT> Платья размер 44-46-48-50 <EOT> <BOP> 300 <EOP> <BOC1> RUB <EOC1> <BOC2> 1 <EOC2> <EOB></s>\n",
      "\tDECODED:\n",
      "\t [{'title': 'Платья размер 44-46-48-50', 'price': '300', 'currency': 'RUB', 'count': '1'}]\n",
      "\n",
      "PREDICTED\n",
      "\tRAW\n",
      "\t <BOB> <BOT> Платья <EOT> <BOP> 300 <EOP> <BOC1> RUB <EOC1> <BOC2> 1 <EOC2> <EOB></s>\n",
      "\tDECODED:\n",
      "\t [{'title': 'Платья', 'price': '300', 'currency': 'RUB', 'count': '1'}]\n",
      "--------------------------------------------------\n",
      "\n",
      "\n",
      "ORIGINAL TEXT\n",
      "\tRAW\n",
      "\t вегетарианская энциклопедия вкусов, что с чем сочетается, справочник от шеф поваров. 15 eur. лимассол.</s>\n",
      "\n",
      "TARGET\n",
      "\tRAW\n",
      "\t <BOB> <BOT> вегетарианская энциклопедия вкусов, что с чем сочетается, справочник от шеф поваров <EOT> <BOP> 15 <EOP> <BOC1> EUR <EOC1> <BOC2> 1 <EOC2> <EOB></s>\n",
      "\tDECODED:\n",
      "\t [{'title': 'вегетарианская энциклопедия вкусов, что с чем сочетается, справочник от шеф поваров', 'price': '15', 'currency': 'EUR', 'count': '1'}]\n",
      "\n",
      "PREDICTED\n",
      "\tRAW\n",
      "\t <BOB> <BOT> вегетарианская энциклопедия вкусов <EOT> <BOP> 15 <EOP> <BOC1> EUR <EOC1> <BOC2> 1 <EOC2> <EOB></s>\n",
      "\tDECODED:\n",
      "\t [{'title': 'вегетарианская энциклопедия вкусов', 'price': '15', 'currency': 'EUR', 'count': '1'}]\n",
      "--------------------------------------------------\n",
      "\n",
      "\n",
      "ORIGINAL TEXT\n",
      "\tRAW\n",
      "\t продам щетку для сухого массажа, новая (так и не дошли руки), 30см, средней жёсткости 10 евро, лимассол, никосия, привезу</s>\n",
      "\n",
      "TARGET\n",
      "\tRAW\n",
      "\t <BOB> <BOT> Щетка для сухого массажа, новая, средней жёсткости <EOT> <BOP> 10 <EOP> <BOC1> EUR <EOC1> <BOC2> 1 <EOC2> <EOB></s>\n",
      "\tDECODED:\n",
      "\t [{'title': 'Щетка для сухого массажа, новая, средней жёсткости', 'price': '10', 'currency': 'EUR', 'count': '1'}]\n",
      "\n",
      "PREDICTED\n",
      "\tRAW\n",
      "\t <BOB> <BOT> щетка для сухого массажа <EOT> <BOP> 10 <EOP> <BOC1> EUR <EOC1> <BOC2> 1 <EOC2> <EOB></s>\n",
      "\tDECODED:\n",
      "\t [{'title': 'щетка для сухого массажа', 'price': '10', 'currency': 'EUR', 'count': '1'}]\n",
      "--------------------------------------------------\n",
      "\n",
      "\n",
      "ORIGINAL TEXT\n",
      "\tRAW\n",
      "\t Зимний тёплый комбинезон, пух, Crockid, p.74-80, с пинетками и рукавичками, в отличном состоянии, 2.600р, Яхрома</s>\n",
      "\n",
      "TARGET\n",
      "\tRAW\n",
      "\t <BOB> <BOT> Зимний тёплый комбинезон Crockid с пинетками и рукавичками, размер 74-80 <EOT> <BOP> 2600 <EOP> <BOC1> RUB <EOC1> <BOC2> 1 <EOC2> <EOB></s>\n",
      "\tDECODED:\n",
      "\t [{'title': 'Зимний тёплый комбинезон Crockid с пинетками и рукавичками, размер 74-80', 'price': '2600', 'currency': 'RUB', 'count': '1'}]\n",
      "\n",
      "PREDICTED\n",
      "\tRAW\n",
      "\t <BOB> <BOT> Зимний тёплый комбинезон Crockid, p.74-80, с пинетками и рукавичками <EOT> <BOP> 3000 <EOP> <BOC1> RUB <EOC1> <BOC2> 1 <EOC2> <EOB></s>\n",
      "\tDECODED:\n",
      "\t [{'title': 'Зимний тёплый комбинезон Crockid, p.74-80, с пинетками и рукавичками', 'price': '3000', 'currency': 'RUB', 'count': '1'}]\n",
      "--------------------------------------------------\n",
      "\n",
      "\n",
      "ORIGINAL TEXT\n",
      "\tRAW\n",
      "\t удлинитель икеа 1,5 м на 6 розеток 25 лари сабуртало</s>\n",
      "\n",
      "TARGET\n",
      "\tRAW\n",
      "\t <BOB> <BOT> удлинитель икеа 1,5 м на 6 розеток <EOT> <BOP> 25 <EOP> <BOC1> лари <EOC1> <BOC2> 1 <EOC2> <EOB></s>\n",
      "\tDECODED:\n",
      "\t [{'title': 'удлинитель икеа 1,5 м на 6 розеток', 'price': '25', 'currency': 'лари', 'count': '1'}]\n",
      "\n",
      "PREDICTED\n",
      "\tRAW\n",
      "\t <BOB> <BOT> удлинитель икеа 1,5 м на 6 розеток <EOT> <BOP> 25 <EOP> <BOC1> GEL <EOC1> <BOC2> 1 <EOC2> <EOB></s>\n",
      "\tDECODED:\n",
      "\t [{'title': 'удлинитель икеа 1,5 м на 6 розеток', 'price': '25', 'currency': 'GEL', 'count': '1'}]\n",
      "--------------------------------------------------\n",
      "\n"
     ]
    },
    {
     "name": "stderr",
     "output_type": "stream",
     "text": [
      " 19%|█▊        | 1000/5400 [19:32<16:27,  4.46it/s]    "
     ]
    },
    {
     "name": "stdout",
     "output_type": "stream",
     "text": [
      "{'loss': 0.1674, 'grad_norm': 1.9292196035385132, 'learning_rate': 4.876648718415608e-05, 'epoch': 1.85}\n"
     ]
    },
    {
     "name": "stderr",
     "output_type": "stream",
     "text": [
      " 20%|██        | 1080/5400 [20:45<15:15,  4.72it/s]   \n",
      "  0%|          | 0/39 [00:00<?, ?it/s]\u001b[A\n",
      "  5%|▌         | 2/39 [00:04<01:27,  2.35s/it]\u001b[A\n",
      "  8%|▊         | 3/39 [00:13<03:02,  5.07s/it]\u001b[A\n",
      " 10%|█         | 4/39 [00:22<03:44,  6.41s/it]\u001b[A\n",
      " 13%|█▎        | 5/39 [00:30<04:04,  7.20s/it]\u001b[A\n",
      " 15%|█▌        | 6/39 [00:35<03:29,  6.34s/it]\u001b[A\n",
      " 18%|█▊        | 7/39 [00:41<03:20,  6.28s/it]\u001b[A\n",
      " 21%|██        | 8/39 [00:50<03:40,  7.11s/it]\u001b[A\n",
      " 23%|██▎       | 9/39 [00:55<03:14,  6.48s/it]\u001b[A\n",
      " 26%|██▌       | 10/39 [01:04<03:28,  7.18s/it]\u001b[A\n",
      " 28%|██▊       | 11/39 [01:13<03:33,  7.64s/it]\u001b[A\n",
      " 31%|███       | 12/39 [01:19<03:18,  7.36s/it]\u001b[A\n",
      " 33%|███▎      | 13/39 [01:28<03:21,  7.76s/it]\u001b[A\n",
      " 36%|███▌      | 14/39 [01:31<02:37,  6.29s/it]\u001b[A\n",
      " 38%|███▊      | 15/39 [01:40<02:47,  6.99s/it]\u001b[A\n",
      " 41%|████      | 16/39 [01:45<02:27,  6.39s/it]\u001b[A\n",
      " 44%|████▎     | 17/39 [01:53<02:35,  7.07s/it]\u001b[A\n",
      " 46%|████▌     | 18/39 [01:58<02:16,  6.48s/it]\u001b[A\n",
      " 49%|████▊     | 19/39 [02:04<02:05,  6.27s/it]\u001b[A\n",
      " 51%|█████▏    | 20/39 [02:13<02:12,  6.99s/it]\u001b[A\n",
      " 54%|█████▍    | 21/39 [02:20<02:09,  7.19s/it]\u001b[A\n",
      " 56%|█████▋    | 22/39 [02:26<01:51,  6.57s/it]\u001b[A\n",
      " 59%|█████▉    | 23/39 [02:34<01:56,  7.26s/it]\u001b[A\n",
      " 62%|██████▏   | 24/39 [02:39<01:39,  6.62s/it]\u001b[A\n",
      " 64%|██████▍   | 25/39 [02:45<01:28,  6.32s/it]\u001b[A\n",
      " 67%|██████▋   | 26/39 [02:54<01:31,  7.07s/it]\u001b[A\n",
      " 69%|██████▉   | 27/39 [03:03<01:31,  7.64s/it]\u001b[A\n",
      " 72%|███████▏  | 28/39 [03:11<01:25,  7.75s/it]\u001b[A\n",
      " 74%|███████▍  | 29/39 [03:16<01:09,  6.91s/it]\u001b[A\n",
      " 77%|███████▋  | 30/39 [03:20<00:53,  5.98s/it]\u001b[A\n",
      " 79%|███████▉  | 31/39 [03:28<00:54,  6.82s/it]\u001b[A\n",
      " 82%|████████▏ | 32/39 [03:33<00:43,  6.20s/it]\u001b[A\n",
      " 85%|████████▍ | 33/39 [03:42<00:41,  6.98s/it]\u001b[A\n",
      " 87%|████████▋ | 34/39 [03:47<00:31,  6.28s/it]\u001b[A\n",
      " 90%|████████▉ | 35/39 [03:55<00:27,  7.00s/it]\u001b[A\n",
      " 92%|█████████▏| 36/39 [04:01<00:20,  6.67s/it]\u001b[A\n",
      " 95%|█████████▍| 37/39 [04:05<00:11,  5.87s/it]\u001b[A\n",
      " 97%|█████████▋| 38/39 [04:10<00:05,  5.65s/it]\u001b[A\n",
      "                                                   \n",
      " 20%|██        | 1080/5400 [37:10<15:15,  4.72it/s]\n",
      "100%|██████████| 39/39 [16:19<00:00,  5.17s/it]\u001b[A"
     ]
    },
    {
     "name": "stdout",
     "output_type": "stream",
     "text": [
      "{'eval_loss': 0.09975825250148773, 'eval_Global BLEU': 71.0072311918113, 'eval_valid_answer_structure_precent': 95.50748752079868, 'eval_valid_bundles_precent': 100.0, 'eval_n_bundles_mae': 0.2613240418118467, 'eval_mean_over_bundles': 0.21080139372822299, 'eval_mean_under_bundles': 0.050522648083623695, 'eval_title_bleu_1_bundle': 33.791613281413156, 'eval_title_chrf_1_bundle': 71.7810092731908, 'eval_price_match_precent_1_bundle': 91.08695652173913, 'eval_currency_match_precent_1_bundle': 94.34782608695652, 'eval_count_match_precent_1_bundle': 91.95652173913044, 'eval_title_bleu_multi_bundle': 26.152254277990227, 'eval_title_chrf_multi_bundle': 58.698369275574166, 'eval_price_match_precent_multi_bundle': 62.01877934272301, 'eval_currency_match_precent_multi_bundle': 85.91549295774648, 'eval_count_match_precent_multi_bundle': 89.20187793427229, 'eval_runtime': 984.5117, 'eval_samples_per_second': 0.621, 'eval_steps_per_second': 0.04, 'epoch': 2.0}\n"
     ]
    },
    {
     "name": "stderr",
     "output_type": "stream",
     "text": [
      "\n",
      "                                               \u001b[A"
     ]
    },
    {
     "name": "stdout",
     "output_type": "stream",
     "text": [
      "\n",
      "ORIGINAL TEXT\n",
      "\tRAW\n",
      "\t Распродажа Платья Цена: 300р Размер: 44-46-48-50 Без выбора цвета Арт: 2Г-14 корпус Б</s>\n",
      "\n",
      "TARGET\n",
      "\tRAW\n",
      "\t <BOB> <BOT> Платья размер 44-46-48-50 <EOT> <BOP> 300 <EOP> <BOC1> RUB <EOC1> <BOC2> 1 <EOC2> <EOB></s>\n",
      "\tDECODED:\n",
      "\t [{'title': 'Платья размер 44-46-48-50', 'price': '300', 'currency': 'RUB', 'count': '1'}]\n",
      "\n",
      "PREDICTED\n",
      "\tRAW\n",
      "\t <BOB> <BOT> Платья <EOT> <BOP> 300 <EOP> <BOC1> RUB <EOC1> <BOC2> 1 <EOC2> <EOB></s>\n",
      "\tDECODED:\n",
      "\t [{'title': 'Платья', 'price': '300', 'currency': 'RUB', 'count': '1'}]\n",
      "--------------------------------------------------\n",
      "\n",
      "\n",
      "ORIGINAL TEXT\n",
      "\tRAW\n",
      "\t вегетарианская энциклопедия вкусов, что с чем сочетается, справочник от шеф поваров. 15 eur. лимассол.</s>\n",
      "\n",
      "TARGET\n",
      "\tRAW\n",
      "\t <BOB> <BOT> вегетарианская энциклопедия вкусов, что с чем сочетается, справочник от шеф поваров <EOT> <BOP> 15 <EOP> <BOC1> EUR <EOC1> <BOC2> 1 <EOC2> <EOB></s>\n",
      "\tDECODED:\n",
      "\t [{'title': 'вегетарианская энциклопедия вкусов, что с чем сочетается, справочник от шеф поваров', 'price': '15', 'currency': 'EUR', 'count': '1'}]\n",
      "\n",
      "PREDICTED\n",
      "\tRAW\n",
      "\t <BOB> <BOT> вегетарианская энциклопедия вкусов <EOT> <BOP> 15 <EOP> <BOC1> EUR <EOC1> <BOC2> 1 <EOC2> <EOB></s>\n",
      "\tDECODED:\n",
      "\t [{'title': 'вегетарианская энциклопедия вкусов', 'price': '15', 'currency': 'EUR', 'count': '1'}]\n",
      "--------------------------------------------------\n",
      "\n",
      "\n",
      "ORIGINAL TEXT\n",
      "\tRAW\n",
      "\t продам щетку для сухого массажа, новая (так и не дошли руки), 30см, средней жёсткости 10 евро, лимассол, никосия, привезу</s>\n",
      "\n",
      "TARGET\n",
      "\tRAW\n",
      "\t <BOB> <BOT> Щетка для сухого массажа, новая, средней жёсткости <EOT> <BOP> 10 <EOP> <BOC1> EUR <EOC1> <BOC2> 1 <EOC2> <EOB></s>\n",
      "\tDECODED:\n",
      "\t [{'title': 'Щетка для сухого массажа, новая, средней жёсткости', 'price': '10', 'currency': 'EUR', 'count': '1'}]\n",
      "\n",
      "PREDICTED\n",
      "\tRAW\n",
      "\t <BOB> <BOT> щетка для сухого массажа 30см, средней жёсткости <EOT> <BOP> 10 <EOP> <BOC1> EUR <EOC1> <BOC2> 1 <EOC2> <EOB></s>\n",
      "\tDECODED:\n",
      "\t [{'title': 'щетка для сухого массажа 30см, средней жёсткости', 'price': '10', 'currency': 'EUR', 'count': '1'}]\n",
      "--------------------------------------------------\n",
      "\n",
      "\n",
      "ORIGINAL TEXT\n",
      "\tRAW\n",
      "\t Зимний тёплый комбинезон, пух, Crockid, p.74-80, с пинетками и рукавичками, в отличном состоянии, 2.600р, Яхрома</s>\n",
      "\n",
      "TARGET\n",
      "\tRAW\n",
      "\t <BOB> <BOT> Зимний тёплый комбинезон Crockid с пинетками и рукавичками, размер 74-80 <EOT> <BOP> 2600 <EOP> <BOC1> RUB <EOC1> <BOC2> 1 <EOC2> <EOB></s>\n",
      "\tDECODED:\n",
      "\t [{'title': 'Зимний тёплый комбинезон Crockid с пинетками и рукавичками, размер 74-80', 'price': '2600', 'currency': 'RUB', 'count': '1'}]\n",
      "\n",
      "PREDICTED\n",
      "\tRAW\n",
      "\t <BOB> <BOT> Зимний тёплый комбинезон Crockid, p.74-80, с пинетками и рукавичками <EOT> <BOP> 2.600 <EOP> <BOC1> RUB <EOC1> <BOC2> 1 <EOC2> <EOB></s>\n",
      "\tDECODED:\n",
      "\t [{'title': 'Зимний тёплый комбинезон Crockid, p.74-80, с пинетками и рукавичками', 'price': '2.600', 'currency': 'RUB', 'count': '1'}]\n",
      "--------------------------------------------------\n",
      "\n",
      "\n",
      "ORIGINAL TEXT\n",
      "\tRAW\n",
      "\t удлинитель икеа 1,5 м на 6 розеток 25 лари сабуртало</s>\n",
      "\n",
      "TARGET\n",
      "\tRAW\n",
      "\t <BOB> <BOT> удлинитель икеа 1,5 м на 6 розеток <EOT> <BOP> 25 <EOP> <BOC1> лари <EOC1> <BOC2> 1 <EOC2> <EOB></s>\n",
      "\tDECODED:\n",
      "\t [{'title': 'удлинитель икеа 1,5 м на 6 розеток', 'price': '25', 'currency': 'лари', 'count': '1'}]\n",
      "\n",
      "PREDICTED\n",
      "\tRAW\n",
      "\t <BOB> <BOT> удлинитель икеа 1,5 м на 6 розеток <EOT> <BOP> 25 <EOP> <BOC1> GEL <EOC1> <BOC2> 1 <EOC2> <EOB></s>\n",
      "\tDECODED:\n",
      "\t [{'title': 'удлинитель икеа 1,5 м на 6 розеток', 'price': '25', 'currency': 'GEL', 'count': '1'}]\n",
      "--------------------------------------------------\n",
      "\n"
     ]
    },
    {
     "name": "stderr",
     "output_type": "stream",
     "text": [
      " 28%|██▊       | 1500/5400 [38:47<14:45,  4.41it/s]     "
     ]
    },
    {
     "name": "stdout",
     "output_type": "stream",
     "text": [
      "{'loss': 0.129, 'grad_norm': 1.0328357219696045, 'learning_rate': 4.511177134582914e-05, 'epoch': 2.78}\n"
     ]
    },
    {
     "name": "stderr",
     "output_type": "stream",
     "text": [
      " 30%|███       | 1620/5400 [40:08<13:48,  4.56it/s]   \n",
      "  0%|          | 0/39 [00:00<?, ?it/s]\u001b[A\n",
      "  5%|▌         | 2/39 [00:04<01:15,  2.03s/it]\u001b[A\n",
      "  8%|▊         | 3/39 [00:12<02:55,  4.88s/it]\u001b[A\n",
      " 10%|█         | 4/39 [00:21<03:42,  6.35s/it]\u001b[A\n",
      " 13%|█▎        | 5/39 [00:27<03:32,  6.25s/it]\u001b[A\n",
      " 15%|█▌        | 6/39 [00:32<03:08,  5.71s/it]\u001b[A\n",
      " 18%|█▊        | 7/39 [00:38<03:04,  5.75s/it]\u001b[A\n",
      " 21%|██        | 8/39 [00:44<03:00,  5.82s/it]\u001b[A\n",
      " 23%|██▎       | 9/39 [00:49<02:46,  5.55s/it]\u001b[A\n",
      " 26%|██▌       | 10/39 [00:57<03:03,  6.34s/it]\u001b[A\n",
      " 28%|██▊       | 11/39 [01:06<03:18,  7.10s/it]\u001b[A\n",
      " 31%|███       | 12/39 [01:12<03:06,  6.91s/it]\u001b[A\n",
      " 33%|███▎      | 13/39 [01:19<02:56,  6.80s/it]\u001b[A\n",
      " 36%|███▌      | 14/39 [01:21<02:19,  5.58s/it]\u001b[A\n",
      " 38%|███▊      | 15/39 [01:28<02:17,  5.73s/it]\u001b[A\n",
      " 41%|████      | 16/39 [01:30<01:49,  4.77s/it]\u001b[A\n",
      " 44%|████▎     | 17/39 [01:33<01:29,  4.08s/it]\u001b[A\n",
      " 46%|████▌     | 18/39 [01:38<01:31,  4.37s/it]\u001b[A\n",
      " 49%|████▊     | 19/39 [01:41<01:23,  4.17s/it]\u001b[A\n",
      " 51%|█████▏    | 20/39 [01:48<01:31,  4.82s/it]\u001b[A\n",
      " 54%|█████▍    | 21/39 [01:54<01:33,  5.19s/it]\u001b[A\n",
      " 56%|█████▋    | 22/39 [02:02<01:45,  6.22s/it]\u001b[A\n",
      " 59%|█████▉    | 23/39 [02:09<01:39,  6.24s/it]\u001b[A\n",
      " 62%|██████▏   | 24/39 [02:13<01:26,  5.79s/it]\u001b[A\n",
      " 64%|██████▍   | 25/39 [02:18<01:17,  5.52s/it]\u001b[A\n",
      " 67%|██████▋   | 26/39 [02:22<01:06,  5.11s/it]\u001b[A\n",
      " 69%|██████▉   | 27/39 [02:29<01:08,  5.68s/it]\u001b[A\n",
      " 72%|███████▏  | 28/39 [02:36<01:04,  5.87s/it]\u001b[A\n",
      " 74%|███████▍  | 29/39 [02:40<00:52,  5.29s/it]\u001b[A\n",
      " 77%|███████▋  | 30/39 [02:43<00:41,  4.66s/it]\u001b[A\n",
      " 79%|███████▉  | 31/39 [02:48<00:39,  4.97s/it]\u001b[A\n",
      " 82%|████████▏ | 32/39 [02:55<00:37,  5.42s/it]\u001b[A\n",
      " 85%|████████▍ | 33/39 [03:04<00:38,  6.44s/it]\u001b[A\n",
      " 87%|████████▋ | 34/39 [03:07<00:26,  5.33s/it]\u001b[A\n",
      " 90%|████████▉ | 35/39 [03:12<00:22,  5.52s/it]\u001b[A\n",
      " 92%|█████████▏| 36/39 [03:17<00:16,  5.35s/it]\u001b[A\n",
      " 95%|█████████▍| 37/39 [03:20<00:08,  4.43s/it]\u001b[A\n",
      " 97%|█████████▋| 38/39 [03:25<00:04,  4.80s/it]\u001b[A\n",
      "                                                   \n",
      " 30%|███       | 1620/5400 [57:47<13:48,  4.56it/s]\n",
      "100%|██████████| 39/39 [17:35<00:00,  4.55s/it]\u001b[A"
     ]
    },
    {
     "name": "stdout",
     "output_type": "stream",
     "text": [
      "{'eval_loss': 0.09591393172740936, 'eval_Global BLEU': 77.593588620695, 'eval_valid_answer_structure_precent': 99.0, 'eval_valid_bundles_precent': 100.0, 'eval_n_bundles_mae': 0.19023569023569023, 'eval_mean_over_bundles': 0.13973063973063973, 'eval_mean_under_bundles': 0.050505050505050504, 'eval_title_bleu_1_bundle': 36.03530959297528, 'eval_title_chrf_1_bundle': 72.44280639645692, 'eval_price_match_precent_1_bundle': 93.34763948497854, 'eval_currency_match_precent_1_bundle': 94.63519313304721, 'eval_count_match_precent_1_bundle': 91.41630901287554, 'eval_title_bleu_multi_bundle': 25.831816699965792, 'eval_title_chrf_multi_bundle': 60.79868806603791, 'eval_price_match_precent_multi_bundle': 63.789682539682545, 'eval_currency_match_precent_multi_bundle': 90.47619047619048, 'eval_count_match_precent_multi_bundle': 92.81746031746032, 'eval_runtime': 1058.458, 'eval_samples_per_second': 0.577, 'eval_steps_per_second': 0.037, 'epoch': 3.0}\n"
     ]
    },
    {
     "name": "stderr",
     "output_type": "stream",
     "text": [
      "\n",
      "                                               \u001b[A"
     ]
    },
    {
     "name": "stdout",
     "output_type": "stream",
     "text": [
      "\n",
      "ORIGINAL TEXT\n",
      "\tRAW\n",
      "\t Распродажа Платья Цена: 300р Размер: 44-46-48-50 Без выбора цвета Арт: 2Г-14 корпус Б</s>\n",
      "\n",
      "TARGET\n",
      "\tRAW\n",
      "\t <BOB> <BOT> Платья размер 44-46-48-50 <EOT> <BOP> 300 <EOP> <BOC1> RUB <EOC1> <BOC2> 1 <EOC2> <EOB></s>\n",
      "\tDECODED:\n",
      "\t [{'title': 'Платья размер 44-46-48-50', 'price': '300', 'currency': 'RUB', 'count': '1'}]\n",
      "\n",
      "PREDICTED\n",
      "\tRAW\n",
      "\t <BOB> <BOT> Платья <EOT> <BOP> 300 <EOP> <BOC1> RUB <EOC1> <BOC2> 1 <EOC2> <EOB></s>\n",
      "\tDECODED:\n",
      "\t [{'title': 'Платья', 'price': '300', 'currency': 'RUB', 'count': '1'}]\n",
      "--------------------------------------------------\n",
      "\n",
      "\n",
      "ORIGINAL TEXT\n",
      "\tRAW\n",
      "\t вегетарианская энциклопедия вкусов, что с чем сочетается, справочник от шеф поваров. 15 eur. лимассол.</s>\n",
      "\n",
      "TARGET\n",
      "\tRAW\n",
      "\t <BOB> <BOT> вегетарианская энциклопедия вкусов, что с чем сочетается, справочник от шеф поваров <EOT> <BOP> 15 <EOP> <BOC1> EUR <EOC1> <BOC2> 1 <EOC2> <EOB></s>\n",
      "\tDECODED:\n",
      "\t [{'title': 'вегетарианская энциклопедия вкусов, что с чем сочетается, справочник от шеф поваров', 'price': '15', 'currency': 'EUR', 'count': '1'}]\n",
      "\n",
      "PREDICTED\n",
      "\tRAW\n",
      "\t <BOB> <BOT> вегетарианская энциклопедия вкусов <EOT> <BOP> 15 <EOP> <BOC1> EUR <EOC1> <BOC2> 1 <EOC2> <EOB></s>\n",
      "\tDECODED:\n",
      "\t [{'title': 'вегетарианская энциклопедия вкусов', 'price': '15', 'currency': 'EUR', 'count': '1'}]\n",
      "--------------------------------------------------\n",
      "\n",
      "\n",
      "ORIGINAL TEXT\n",
      "\tRAW\n",
      "\t продам щетку для сухого массажа, новая (так и не дошли руки), 30см, средней жёсткости 10 евро, лимассол, никосия, привезу</s>\n",
      "\n",
      "TARGET\n",
      "\tRAW\n",
      "\t <BOB> <BOT> Щетка для сухого массажа, новая, средней жёсткости <EOT> <BOP> 10 <EOP> <BOC1> EUR <EOC1> <BOC2> 1 <EOC2> <EOB></s>\n",
      "\tDECODED:\n",
      "\t [{'title': 'Щетка для сухого массажа, новая, средней жёсткости', 'price': '10', 'currency': 'EUR', 'count': '1'}]\n",
      "\n",
      "PREDICTED\n",
      "\tRAW\n",
      "\t <BOB> <BOT> щетка для сухого массажа 30см <EOT> <BOP> 10 <EOP> <BOC1> EUR <EOC1> <BOC2> 1 <EOC2> <EOB></s>\n",
      "\tDECODED:\n",
      "\t [{'title': 'щетка для сухого массажа 30см', 'price': '10', 'currency': 'EUR', 'count': '1'}]\n",
      "--------------------------------------------------\n",
      "\n",
      "\n",
      "ORIGINAL TEXT\n",
      "\tRAW\n",
      "\t Зимний тёплый комбинезон, пух, Crockid, p.74-80, с пинетками и рукавичками, в отличном состоянии, 2.600р, Яхрома</s>\n",
      "\n",
      "TARGET\n",
      "\tRAW\n",
      "\t <BOB> <BOT> Зимний тёплый комбинезон Crockid с пинетками и рукавичками, размер 74-80 <EOT> <BOP> 2600 <EOP> <BOC1> RUB <EOC1> <BOC2> 1 <EOC2> <EOB></s>\n",
      "\tDECODED:\n",
      "\t [{'title': 'Зимний тёплый комбинезон Crockid с пинетками и рукавичками, размер 74-80', 'price': '2600', 'currency': 'RUB', 'count': '1'}]\n",
      "\n",
      "PREDICTED\n",
      "\tRAW\n",
      "\t <BOB> <BOT> Зимний тёплый комбинезон Crockid, p.74-80, с пинетками и рукавичками <EOT> <BOP> 2600 <EOP> <BOC1> RUB <EOC1> <BOC2> 1 <EOC2> <EOB></s>\n",
      "\tDECODED:\n",
      "\t [{'title': 'Зимний тёплый комбинезон Crockid, p.74-80, с пинетками и рукавичками', 'price': '2600', 'currency': 'RUB', 'count': '1'}]\n",
      "--------------------------------------------------\n",
      "\n",
      "\n",
      "ORIGINAL TEXT\n",
      "\tRAW\n",
      "\t удлинитель икеа 1,5 м на 6 розеток 25 лари сабуртало</s>\n",
      "\n",
      "TARGET\n",
      "\tRAW\n",
      "\t <BOB> <BOT> удлинитель икеа 1,5 м на 6 розеток <EOT> <BOP> 25 <EOP> <BOC1> лари <EOC1> <BOC2> 1 <EOC2> <EOB></s>\n",
      "\tDECODED:\n",
      "\t [{'title': 'удлинитель икеа 1,5 м на 6 розеток', 'price': '25', 'currency': 'лари', 'count': '1'}]\n",
      "\n",
      "PREDICTED\n",
      "\tRAW\n",
      "\t <BOB> <BOT> удлинитель икеа 1,5 м на 6 розеток <EOT> <BOP> 25 <EOP> <BOC1> GEL <EOC1> <BOC2> 1 <EOC2> <EOB></s>\n",
      "\tDECODED:\n",
      "\t [{'title': 'удлинитель икеа 1,5 м на 6 розеток', 'price': '25', 'currency': 'GEL', 'count': '1'}]\n",
      "--------------------------------------------------\n",
      "\n"
     ]
    },
    {
     "name": "stderr",
     "output_type": "stream",
     "text": [
      " 37%|███▋      | 2000/5400 [59:15<13:12,  4.29it/s]     "
     ]
    },
    {
     "name": "stdout",
     "output_type": "stream",
     "text": [
      "{'loss': 0.1126, 'grad_norm': 1.0584112405776978, 'learning_rate': 3.940789717249119e-05, 'epoch': 3.7}\n"
     ]
    },
    {
     "name": "stderr",
     "output_type": "stream",
     "text": [
      " 40%|████      | 2160/5400 [1:00:46<12:17,  4.39it/s]   \n",
      "  0%|          | 0/39 [00:00<?, ?it/s]\u001b[A\n",
      "  5%|▌         | 2/39 [00:04<01:19,  2.16s/it]\u001b[A\n",
      "  8%|▊         | 3/39 [00:08<01:53,  3.14s/it]\u001b[A\n",
      " 10%|█         | 4/39 [00:17<03:02,  5.21s/it]\u001b[A\n",
      " 13%|█▎        | 5/39 [00:23<03:08,  5.54s/it]\u001b[A\n",
      " 15%|█▌        | 6/39 [00:28<02:52,  5.22s/it]\u001b[A\n",
      " 18%|█▊        | 7/39 [00:32<02:40,  5.03s/it]\u001b[A\n",
      " 21%|██        | 8/39 [00:38<02:37,  5.08s/it]\u001b[A\n",
      " 23%|██▎       | 9/39 [00:42<02:25,  4.85s/it]\u001b[A\n",
      " 26%|██▌       | 10/39 [00:48<02:34,  5.32s/it]\u001b[A\n",
      " 28%|██▊       | 11/39 [00:55<02:37,  5.61s/it]\u001b[A\n",
      " 31%|███       | 12/39 [01:00<02:33,  5.67s/it]\u001b[A\n",
      " 33%|███▎      | 13/39 [01:06<02:25,  5.61s/it]\u001b[A\n",
      " 36%|███▌      | 14/39 [01:09<01:58,  4.76s/it]\u001b[A\n",
      " 38%|███▊      | 15/39 [01:14<01:56,  4.84s/it]\u001b[A\n",
      " 41%|████      | 16/39 [01:16<01:35,  4.15s/it]\u001b[A\n",
      " 44%|████▎     | 17/39 [01:25<02:00,  5.49s/it]\u001b[A\n",
      " 46%|████▌     | 18/39 [01:29<01:47,  5.13s/it]\u001b[A\n",
      " 49%|████▊     | 19/39 [01:33<01:32,  4.65s/it]\u001b[A\n",
      " 51%|█████▏    | 20/39 [01:38<01:30,  4.77s/it]\u001b[A\n",
      " 54%|█████▍    | 21/39 [01:43<01:30,  5.03s/it]\u001b[A\n",
      " 56%|█████▋    | 22/39 [01:48<01:25,  5.04s/it]\u001b[A\n",
      " 59%|█████▉    | 23/39 [01:54<01:22,  5.14s/it]\u001b[A\n",
      " 62%|██████▏   | 24/39 [01:58<01:13,  4.93s/it]\u001b[A\n",
      " 64%|██████▍   | 25/39 [02:03<01:08,  4.87s/it]\u001b[A\n",
      " 67%|██████▋   | 26/39 [02:07<01:00,  4.66s/it]\u001b[A\n",
      " 69%|██████▉   | 27/39 [02:14<01:02,  5.19s/it]\u001b[A\n",
      " 72%|███████▏  | 28/39 [02:20<01:01,  5.63s/it]\u001b[A\n",
      " 74%|███████▍  | 29/39 [02:23<00:48,  4.85s/it]\u001b[A\n",
      " 77%|███████▋  | 30/39 [02:26<00:38,  4.30s/it]\u001b[A\n",
      " 79%|███████▉  | 31/39 [02:33<00:41,  5.15s/it]\u001b[A\n",
      " 82%|████████▏ | 32/39 [02:38<00:35,  5.01s/it]\u001b[A\n",
      " 85%|████████▍ | 33/39 [02:43<00:29,  4.86s/it]\u001b[A\n",
      " 87%|████████▋ | 34/39 [02:45<00:21,  4.23s/it]\u001b[A\n",
      " 90%|████████▉ | 35/39 [02:50<00:17,  4.46s/it]\u001b[A\n",
      " 92%|█████████▏| 36/39 [02:55<00:13,  4.47s/it]\u001b[A\n",
      " 95%|█████████▍| 37/39 [02:57<00:07,  3.90s/it]\u001b[A\n",
      " 97%|█████████▋| 38/39 [03:03<00:04,  4.41s/it]\u001b[A\n",
      "100%|██████████| 39/39 [03:06<00:00,  4.05s/it]\u001b[A"
     ]
    }
   ],
   "source": [
    "trainer.train()"
   ]
  },
  {
   "cell_type": "code",
   "execution_count": null,
   "id": "b97aa58b-d19d-43d3-9200-75d384244e4e",
   "metadata": {},
   "outputs": [],
   "source": [
    "if lora_rank is not None:\n",
    "    model = model.merge_and_unload()\n",
    "output_dir = f\"../good_checkpoints/{params[\"save_folder\"]}\"\n",
    "model.save_pretrained(output_dir)\n",
    "tokenizer.save_pretrained(output_dir)"
   ]
  }
 ],
 "metadata": {
  "kernelspec": {
   "display_name": "DataSphere Kernel",
   "language": "python",
   "name": "python3"
  },
  "language_info": {
   "codemirror_mode": {
    "name": "ipython",
    "version": 3
   },
   "file_extension": ".py",
   "mimetype": "text/x-python",
   "name": "python",
   "nbconvert_exporter": "python",
   "pygments_lexer": "ipython3",
   "version": "3.10.12"
  }
 },
 "nbformat": 4,
 "nbformat_minor": 5
}
