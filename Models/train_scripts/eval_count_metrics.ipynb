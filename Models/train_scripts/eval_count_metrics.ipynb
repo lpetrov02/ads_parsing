{
 "cells": [
  {
   "cell_type": "code",
   "execution_count": 1,
   "id": "9b27b92c-8cd7-443a-bf61-9fe033c40b23",
   "metadata": {
    "tags": []
   },
   "outputs": [
    {
     "name": "stderr",
     "output_type": "stream",
     "text": [
      "[nltk_data] Downloading package punkt to /home/vlad/nltk_data...\n",
      "[nltk_data]   Package punkt is already up-to-date!\n"
     ]
    }
   ],
   "source": [
    "import numpy as np\n",
    "import pandas as pd\n",
    "import matplotlib.pyplot as plt\n",
    "\n",
    "from tqdm.notebook import tqdm\n",
    "\n",
    "import json\n",
    "import re\n",
    "\n",
    "import torch\n",
    "from torch import nn\n",
    "from transformers import AutoTokenizer, AutoModelForSeq2SeqLM, AutoConfig\n",
    "\n",
    "import sys\n",
    "sys.path.append('..')\n",
    "from eval_utils import get_parser, compute_test_metrics\n",
    "from utils import Format, get_to_string_processor"
   ]
  },
  {
   "cell_type": "code",
   "execution_count": 25,
   "id": "5a57ed7d-e7ca-4482-a375-bc32763e8562",
   "metadata": {
    "tags": []
   },
   "outputs": [
    {
     "data": {
      "text/plain": [
       "{'format': 'JustJson',\n",
       " 'max_bundles': 5,\n",
       " 'max_eval_size': 100,\n",
       " 'model': 'ai-forever/ruT5-large',\n",
       " 'add_nl_token': False,\n",
       " 'add_eos_token': False,\n",
       " 'change_pad_to_eos': False,\n",
       " 'shuffle_bundles': False,\n",
       " 'save_folder': 'ruT5-large-JJ-overfit-no-shuffle',\n",
       " 'train': {'n_epochs': 10,\n",
       "  'lr': 5e-05,\n",
       "  'batch_size': 8,\n",
       "  'weight_decay': 0.01,\n",
       "  'scheduler': 'cosine',\n",
       "  'warmup_steps': 500,\n",
       "  'fp16': True},\n",
       " 'eval': {'batch_size': 8, 'show': 5}}"
      ]
     },
     "execution_count": 25,
     "metadata": {},
     "output_type": "execute_result"
    }
   ],
   "source": [
    "with open(\"configs/config_ruT5-large-jj-overfit-no-shuffle.json\", \"rb\") as config:\n",
    "    params = json.load(config)\n",
    "\n",
    "params"
   ]
  },
  {
   "cell_type": "code",
   "execution_count": 26,
   "id": "c0cc1977-9407-4e43-a319-a828adb38d39",
   "metadata": {
    "tags": []
   },
   "outputs": [
    {
     "data": {
      "text/plain": [
       "'ruT5-large-JJ-overfit-no-shuffle'"
      ]
     },
     "execution_count": 26,
     "metadata": {},
     "output_type": "execute_result"
    }
   ],
   "source": [
    "ckpt = params[\"save_folder\"]\n",
    "ckpt"
   ]
  },
  {
   "cell_type": "code",
   "execution_count": 27,
   "id": "26276797-8956-495d-86cb-6df777a1b20c",
   "metadata": {
    "tags": []
   },
   "outputs": [
    {
     "data": {
      "text/plain": [
       "'cuda:0'"
      ]
     },
     "execution_count": 27,
     "metadata": {},
     "output_type": "execute_result"
    }
   ],
   "source": [
    "device = 'cuda:0' if torch.cuda.is_available() else 'cpu'\n",
    "device"
   ]
  },
  {
   "cell_type": "code",
   "execution_count": 28,
   "id": "6f440e94-332c-4fa0-98a9-0bd0a0444a92",
   "metadata": {
    "tags": []
   },
   "outputs": [
    {
     "data": {
      "text/plain": [
       "<Format.JustJson: 2>"
      ]
     },
     "execution_count": 28,
     "metadata": {},
     "output_type": "execute_result"
    }
   ],
   "source": [
    "out_format = Format.SpecTokens if params[\"format\"] == \"SpecTokens\" else Format.JustJson\n",
    "out_format"
   ]
  },
  {
   "cell_type": "code",
   "execution_count": 29,
   "id": "efcdc4bc-affc-4992-8385-edab0cb7f096",
   "metadata": {
    "tags": []
   },
   "outputs": [
    {
     "data": {
      "text/html": [
       "<div>\n",
       "<style scoped>\n",
       "    .dataframe tbody tr th:only-of-type {\n",
       "        vertical-align: middle;\n",
       "    }\n",
       "\n",
       "    .dataframe tbody tr th {\n",
       "        vertical-align: top;\n",
       "    }\n",
       "\n",
       "    .dataframe thead th {\n",
       "        text-align: right;\n",
       "    }\n",
       "</style>\n",
       "<table border=\"1\" class=\"dataframe\">\n",
       "  <thead>\n",
       "    <tr style=\"text-align: right;\">\n",
       "      <th></th>\n",
       "      <th>Text</th>\n",
       "      <th>bundles</th>\n",
       "      <th>n_bundles</th>\n",
       "      <th>Responses</th>\n",
       "    </tr>\n",
       "  </thead>\n",
       "  <tbody>\n",
       "    <tr>\n",
       "      <th>0</th>\n",
       "      <td>самокат hudora, в отличном состоянии, от 5+ и ...</td>\n",
       "      <td>[{\"Title\": \"\\u0441\\u0430\\u043c\\u043e\\u043a\\u04...</td>\n",
       "      <td>1</td>\n",
       "      <td>[{ 'title': 'самокат hudora, от 5+ и старше',...</td>\n",
       "    </tr>\n",
       "    <tr>\n",
       "      <th>1</th>\n",
       "      <td>2 мяча и корзина 5€ лимассол</td>\n",
       "      <td>[{\"Title\": \"\\u043d\\u0430\\u0431\\u043e\\u0440 \\u0...</td>\n",
       "      <td>1</td>\n",
       "      <td>[{ 'title': 'мячи, корзина', 'price': '5', 'c...</td>\n",
       "    </tr>\n",
       "    <tr>\n",
       "      <th>2</th>\n",
       "      <td>принимаются предзаказы на 100% органическое ма...</td>\n",
       "      <td>[{\"Title\": \"100% \\u043e\\u0440\\u0433\\u0430\\u043...</td>\n",
       "      <td>1</td>\n",
       "      <td>[{ 'title':'100% органическое масло из миндал...</td>\n",
       "    </tr>\n",
       "    <tr>\n",
       "      <th>3</th>\n",
       "      <td>колонки, в рабочем состоянии! использовались р...</td>\n",
       "      <td>[{\"Title\": \"\\u043a\\u043e\\u043b\\u043e\\u043d\\u04...</td>\n",
       "      <td>1</td>\n",
       "      <td>[{ 'title': 'колонки в рабочем состоянии', 'p...</td>\n",
       "    </tr>\n",
       "    <tr>\n",
       "      <th>4</th>\n",
       "      <td>гироскутер 100 евро с зарядным</td>\n",
       "      <td>[{\"Title\": \"\\u0433\\u0438\\u0440\\u043e\\u0441\\u04...</td>\n",
       "      <td>1</td>\n",
       "      <td>[{ 'title': 'гироскутер с зарядным устройство...</td>\n",
       "    </tr>\n",
       "  </tbody>\n",
       "</table>\n",
       "</div>"
      ],
      "text/plain": [
       "                                                Text  \\\n",
       "0  самокат hudora, в отличном состоянии, от 5+ и ...   \n",
       "1                       2 мяча и корзина 5€ лимассол   \n",
       "2  принимаются предзаказы на 100% органическое ма...   \n",
       "3  колонки, в рабочем состоянии! использовались р...   \n",
       "4                     гироскутер 100 евро с зарядным   \n",
       "\n",
       "                                             bundles  n_bundles  \\\n",
       "0  [{\"Title\": \"\\u0441\\u0430\\u043c\\u043e\\u043a\\u04...          1   \n",
       "1  [{\"Title\": \"\\u043d\\u0430\\u0431\\u043e\\u0440 \\u0...          1   \n",
       "2  [{\"Title\": \"100% \\u043e\\u0440\\u0433\\u0430\\u043...          1   \n",
       "3  [{\"Title\": \"\\u043a\\u043e\\u043b\\u043e\\u043d\\u04...          1   \n",
       "4  [{\"Title\": \"\\u0433\\u0438\\u0440\\u043e\\u0441\\u04...          1   \n",
       "\n",
       "                                           Responses  \n",
       "0   [{ 'title': 'самокат hudora, от 5+ и старше',...  \n",
       "1   [{ 'title': 'мячи, корзина', 'price': '5', 'c...  \n",
       "2   [{ 'title':'100% органическое масло из миндал...  \n",
       "3   [{ 'title': 'колонки в рабочем состоянии', 'p...  \n",
       "4   [{ 'title': 'гироскутер с зарядным устройство...  "
      ]
     },
     "execution_count": 29,
     "metadata": {},
     "output_type": "execute_result"
    }
   ],
   "source": [
    "data = pd.read_csv(f\"~/leonya/bench_results/{ckpt}_preds.csv\")\n",
    "data.head()"
   ]
  },
  {
   "cell_type": "code",
   "execution_count": 30,
   "id": "bed41355-6443-462c-94b1-1a7d159536a1",
   "metadata": {
    "tags": []
   },
   "outputs": [
    {
     "name": "stderr",
     "output_type": "stream",
     "text": [
      "Special tokens have been added in the vocabulary, make sure the associated word embeddings are fine-tuned or trained.\n"
     ]
    }
   ],
   "source": [
    "model_checkpoint = f\"../good_checkpoints/{ckpt}\"\n",
    "tokenizer = AutoTokenizer.from_pretrained(model_checkpoint)"
   ]
  },
  {
   "cell_type": "code",
   "execution_count": 31,
   "id": "dce38421-a518-44e4-95cf-f2f1f67e4ce0",
   "metadata": {
    "tags": []
   },
   "outputs": [],
   "source": [
    "parser = get_parser(tokenizer, out_format)\n",
    "to_string_processor = get_to_string_processor(out_format)"
   ]
  },
  {
   "cell_type": "code",
   "execution_count": 32,
   "id": "3baee93d-99b8-453e-b211-95bf6ac5082e",
   "metadata": {
    "tags": []
   },
   "outputs": [
    {
     "data": {
      "application/vnd.jupyter.widget-view+json": {
       "model_id": "31949cbe6d2141638050fc3688859487",
       "version_major": 2,
       "version_minor": 0
      },
      "text/plain": [
       "  0%|          | 0/1000 [00:00<?, ?it/s]"
      ]
     },
     "metadata": {},
     "output_type": "display_data"
    }
   ],
   "source": [
    "responses = []\n",
    "keys_set = set()\n",
    "\n",
    "for ind in tqdm(data.index, total=len(data)):\n",
    "    preds = [data.loc[ind, \"Responses\"]]\n",
    "    labels = [to_string_processor(data.loc[ind, \"bundles\"]) + tokenizer.eos_token]\n",
    "    \n",
    "    is_valid, bundles = parser(re.sub(r'(</s>)+', '</s>', preds[0]))\n",
    "    responses.append(compute_test_metrics(preds, labels, parser))\n",
    "    responses[-1][\"pred_bundles\"] = str(bundles) if is_valid else None\n",
    "    for key in responses[-1]:\n",
    "        keys_set.add(key)"
   ]
  },
  {
   "cell_type": "code",
   "execution_count": 33,
   "id": "fc65a212-0e30-4911-965c-c18150aba40a",
   "metadata": {},
   "outputs": [],
   "source": [
    "metrics = {key: [] for key in keys_set}\n",
    "for resp in responses:\n",
    "    for key in metrics:\n",
    "        metrics[key].append(resp.get(key))"
   ]
  },
  {
   "cell_type": "code",
   "execution_count": 34,
   "id": "c4bbfb3c-7011-40fe-a002-007482001de9",
   "metadata": {
    "tags": []
   },
   "outputs": [
    {
     "data": {
      "text/html": [
       "<div>\n",
       "<style scoped>\n",
       "    .dataframe tbody tr th:only-of-type {\n",
       "        vertical-align: middle;\n",
       "    }\n",
       "\n",
       "    .dataframe tbody tr th {\n",
       "        vertical-align: top;\n",
       "    }\n",
       "\n",
       "    .dataframe thead th {\n",
       "        text-align: right;\n",
       "    }\n",
       "</style>\n",
       "<table border=\"1\" class=\"dataframe\">\n",
       "  <thead>\n",
       "    <tr style=\"text-align: right;\">\n",
       "      <th></th>\n",
       "      <th>Text</th>\n",
       "      <th>bundles</th>\n",
       "      <th>n_bundles</th>\n",
       "      <th>Responses</th>\n",
       "      <th>count_match</th>\n",
       "      <th>f1</th>\n",
       "      <th>pred_bundles</th>\n",
       "      <th>n_duplicates</th>\n",
       "      <th>exact_match</th>\n",
       "      <th>delta_bundles</th>\n",
       "      <th>valid_bundles</th>\n",
       "      <th>pred_n_bundles</th>\n",
       "      <th>bleu_score</th>\n",
       "      <th>match</th>\n",
       "      <th>valid_structure</th>\n",
       "      <th>precision</th>\n",
       "      <th>chrf_score</th>\n",
       "      <th>price_match</th>\n",
       "      <th>currency_match</th>\n",
       "      <th>recall</th>\n",
       "    </tr>\n",
       "  </thead>\n",
       "  <tbody>\n",
       "    <tr>\n",
       "      <th>0</th>\n",
       "      <td>самокат hudora, в отличном состоянии, от 5+ и ...</td>\n",
       "      <td>[{\"Title\": \"\\u0441\\u0430\\u043c\\u043e\\u043a\\u04...</td>\n",
       "      <td>1</td>\n",
       "      <td>[{ 'title': 'самокат hudora, от 5+ и старше',...</td>\n",
       "      <td>1.0</td>\n",
       "      <td>0.750000</td>\n",
       "      <td>[{'title': 'самокат hudora, от 5+ и старше', '...</td>\n",
       "      <td>0.0</td>\n",
       "      <td>0.0</td>\n",
       "      <td>0.0</td>\n",
       "      <td>1.0</td>\n",
       "      <td>1.0</td>\n",
       "      <td>31.024517</td>\n",
       "      <td>0.750000</td>\n",
       "      <td>True</td>\n",
       "      <td>1.00</td>\n",
       "      <td>47.946269</td>\n",
       "      <td>1.0</td>\n",
       "      <td>1.0</td>\n",
       "      <td>0.6</td>\n",
       "    </tr>\n",
       "    <tr>\n",
       "      <th>1</th>\n",
       "      <td>2 мяча и корзина 5€ лимассол</td>\n",
       "      <td>[{\"Title\": \"\\u043d\\u0430\\u0431\\u043e\\u0440 \\u0...</td>\n",
       "      <td>1</td>\n",
       "      <td>[{ 'title': 'мячи, корзина', 'price': '5', 'c...</td>\n",
       "      <td>0.0</td>\n",
       "      <td>0.000000</td>\n",
       "      <td>[{'title': 'мячи, корзина', 'price': '5', 'cur...</td>\n",
       "      <td>0.0</td>\n",
       "      <td>0.0</td>\n",
       "      <td>0.0</td>\n",
       "      <td>1.0</td>\n",
       "      <td>1.0</td>\n",
       "      <td>0.000000</td>\n",
       "      <td>0.000000</td>\n",
       "      <td>True</td>\n",
       "      <td>0.00</td>\n",
       "      <td>33.777482</td>\n",
       "      <td>1.0</td>\n",
       "      <td>1.0</td>\n",
       "      <td>0.0</td>\n",
       "    </tr>\n",
       "    <tr>\n",
       "      <th>2</th>\n",
       "      <td>принимаются предзаказы на 100% органическое ма...</td>\n",
       "      <td>[{\"Title\": \"100% \\u043e\\u0440\\u0433\\u0430\\u043...</td>\n",
       "      <td>1</td>\n",
       "      <td>[{ 'title':'100% органическое масло из миндал...</td>\n",
       "      <td>1.0</td>\n",
       "      <td>1.000000</td>\n",
       "      <td>[{'title': '100% органическое масло из миндаля...</td>\n",
       "      <td>0.0</td>\n",
       "      <td>1.0</td>\n",
       "      <td>0.0</td>\n",
       "      <td>1.0</td>\n",
       "      <td>1.0</td>\n",
       "      <td>100.000000</td>\n",
       "      <td>1.000000</td>\n",
       "      <td>True</td>\n",
       "      <td>1.00</td>\n",
       "      <td>100.000000</td>\n",
       "      <td>1.0</td>\n",
       "      <td>1.0</td>\n",
       "      <td>1.0</td>\n",
       "    </tr>\n",
       "    <tr>\n",
       "      <th>3</th>\n",
       "      <td>колонки, в рабочем состоянии! использовались р...</td>\n",
       "      <td>[{\"Title\": \"\\u043a\\u043e\\u043b\\u043e\\u043d\\u04...</td>\n",
       "      <td>1</td>\n",
       "      <td>[{ 'title': 'колонки в рабочем состоянии', 'p...</td>\n",
       "      <td>0.0</td>\n",
       "      <td>1.000000</td>\n",
       "      <td>[{'title': 'колонки в рабочем состоянии', 'pri...</td>\n",
       "      <td>0.0</td>\n",
       "      <td>1.0</td>\n",
       "      <td>0.0</td>\n",
       "      <td>1.0</td>\n",
       "      <td>1.0</td>\n",
       "      <td>100.000000</td>\n",
       "      <td>0.000000</td>\n",
       "      <td>True</td>\n",
       "      <td>1.00</td>\n",
       "      <td>100.000000</td>\n",
       "      <td>1.0</td>\n",
       "      <td>1.0</td>\n",
       "      <td>1.0</td>\n",
       "    </tr>\n",
       "    <tr>\n",
       "      <th>4</th>\n",
       "      <td>гироскутер 100 евро с зарядным</td>\n",
       "      <td>[{\"Title\": \"\\u0433\\u0438\\u0440\\u043e\\u0441\\u04...</td>\n",
       "      <td>1</td>\n",
       "      <td>[{ 'title': 'гироскутер с зарядным устройство...</td>\n",
       "      <td>1.0</td>\n",
       "      <td>0.857143</td>\n",
       "      <td>[{'title': 'гироскутер с зарядным устройством'...</td>\n",
       "      <td>0.0</td>\n",
       "      <td>0.0</td>\n",
       "      <td>0.0</td>\n",
       "      <td>1.0</td>\n",
       "      <td>1.0</td>\n",
       "      <td>59.460356</td>\n",
       "      <td>0.857143</td>\n",
       "      <td>True</td>\n",
       "      <td>0.75</td>\n",
       "      <td>88.167996</td>\n",
       "      <td>1.0</td>\n",
       "      <td>1.0</td>\n",
       "      <td>1.0</td>\n",
       "    </tr>\n",
       "  </tbody>\n",
       "</table>\n",
       "</div>"
      ],
      "text/plain": [
       "                                                Text  \\\n",
       "0  самокат hudora, в отличном состоянии, от 5+ и ...   \n",
       "1                       2 мяча и корзина 5€ лимассол   \n",
       "2  принимаются предзаказы на 100% органическое ма...   \n",
       "3  колонки, в рабочем состоянии! использовались р...   \n",
       "4                     гироскутер 100 евро с зарядным   \n",
       "\n",
       "                                             bundles  n_bundles  \\\n",
       "0  [{\"Title\": \"\\u0441\\u0430\\u043c\\u043e\\u043a\\u04...          1   \n",
       "1  [{\"Title\": \"\\u043d\\u0430\\u0431\\u043e\\u0440 \\u0...          1   \n",
       "2  [{\"Title\": \"100% \\u043e\\u0440\\u0433\\u0430\\u043...          1   \n",
       "3  [{\"Title\": \"\\u043a\\u043e\\u043b\\u043e\\u043d\\u04...          1   \n",
       "4  [{\"Title\": \"\\u0433\\u0438\\u0440\\u043e\\u0441\\u04...          1   \n",
       "\n",
       "                                           Responses  count_match        f1  \\\n",
       "0   [{ 'title': 'самокат hudora, от 5+ и старше',...          1.0  0.750000   \n",
       "1   [{ 'title': 'мячи, корзина', 'price': '5', 'c...          0.0  0.000000   \n",
       "2   [{ 'title':'100% органическое масло из миндал...          1.0  1.000000   \n",
       "3   [{ 'title': 'колонки в рабочем состоянии', 'p...          0.0  1.000000   \n",
       "4   [{ 'title': 'гироскутер с зарядным устройство...          1.0  0.857143   \n",
       "\n",
       "                                        pred_bundles  n_duplicates  \\\n",
       "0  [{'title': 'самокат hudora, от 5+ и старше', '...           0.0   \n",
       "1  [{'title': 'мячи, корзина', 'price': '5', 'cur...           0.0   \n",
       "2  [{'title': '100% органическое масло из миндаля...           0.0   \n",
       "3  [{'title': 'колонки в рабочем состоянии', 'pri...           0.0   \n",
       "4  [{'title': 'гироскутер с зарядным устройством'...           0.0   \n",
       "\n",
       "   exact_match  delta_bundles  valid_bundles  pred_n_bundles  bleu_score  \\\n",
       "0          0.0            0.0            1.0             1.0   31.024517   \n",
       "1          0.0            0.0            1.0             1.0    0.000000   \n",
       "2          1.0            0.0            1.0             1.0  100.000000   \n",
       "3          1.0            0.0            1.0             1.0  100.000000   \n",
       "4          0.0            0.0            1.0             1.0   59.460356   \n",
       "\n",
       "      match  valid_structure  precision  chrf_score  price_match  \\\n",
       "0  0.750000             True       1.00   47.946269          1.0   \n",
       "1  0.000000             True       0.00   33.777482          1.0   \n",
       "2  1.000000             True       1.00  100.000000          1.0   \n",
       "3  0.000000             True       1.00  100.000000          1.0   \n",
       "4  0.857143             True       0.75   88.167996          1.0   \n",
       "\n",
       "   currency_match  recall  \n",
       "0             1.0     0.6  \n",
       "1             1.0     0.0  \n",
       "2             1.0     1.0  \n",
       "3             1.0     1.0  \n",
       "4             1.0     1.0  "
      ]
     },
     "execution_count": 34,
     "metadata": {},
     "output_type": "execute_result"
    }
   ],
   "source": [
    "data = pd.concat([data, pd.DataFrame(metrics)], axis=1)\n",
    "data.head()"
   ]
  },
  {
   "cell_type": "code",
   "execution_count": 35,
   "id": "0a8006c9-5d8d-405f-87ab-c2d72c06c303",
   "metadata": {
    "tags": []
   },
   "outputs": [],
   "source": [
    "data.to_csv(f\"~/leonya/bench_results/{ckpt}_metrics.csv\", index=False)"
   ]
  },
  {
   "cell_type": "code",
   "execution_count": null,
   "id": "024f755f-0321-4228-b4ec-b39198ca3c0e",
   "metadata": {
    "tags": []
   },
   "outputs": [],
   "source": [
    "agg_metrics = {}"
   ]
  },
  {
   "cell_type": "code",
   "execution_count": null,
   "id": "c3266cca-81ae-4450-addb-0c8a6ad49e41",
   "metadata": {
    "tags": []
   },
   "outputs": [],
   "source": [
    "data.isna().sum()"
   ]
  },
  {
   "cell_type": "code",
   "execution_count": null,
   "id": "fbdf0861-b31d-4df8-9c58-91d77f7e9f61",
   "metadata": {
    "tags": []
   },
   "outputs": [],
   "source": [
    "agg_metrics[\"valid_structure\"] = data[\"valid_structure\"].mean()\n",
    "agg_metrics[\"valid_structure\"]"
   ]
  },
  {
   "cell_type": "code",
   "execution_count": null,
   "id": "9250d909-308b-466f-8051-cfda58c31ecc",
   "metadata": {
    "tags": []
   },
   "outputs": [],
   "source": [
    "data_empty = data[data[\"n_bundles\"] == 0].copy()\n",
    "data = data[data[\"n_bundles\"] > 0]"
   ]
  },
  {
   "cell_type": "markdown",
   "id": "3bb531f5-d403-4e69-8b0a-e733edc3b545",
   "metadata": {},
   "source": [
    "Data with invalid ads"
   ]
  },
  {
   "cell_type": "code",
   "execution_count": null,
   "id": "dbcc4a28-15b0-4522-b920-dfa7256f3c4d",
   "metadata": {
    "tags": []
   },
   "outputs": [],
   "source": [
    "data_empty.shape"
   ]
  },
  {
   "cell_type": "code",
   "execution_count": null,
   "id": "028a0ddd-fddd-4ec8-88bf-c3b95922591b",
   "metadata": {
    "tags": []
   },
   "outputs": [],
   "source": [
    "# Способность блокировать мусор\n",
    "(data_empty[\"pred_n_bundles\"] == 0).mean()"
   ]
  },
  {
   "cell_type": "code",
   "execution_count": null,
   "id": "da62f312-d823-4f83-af16-2f98f53a3c77",
   "metadata": {
    "tags": []
   },
   "outputs": [],
   "source": [
    "agg_metrics[\"gurbage_recongning_accuracy\"] = (data_empty[\"pred_n_bundles\"] == 0).mean()"
   ]
  },
  {
   "cell_type": "markdown",
   "id": "94233882-922c-4738-b1b2-5b381d8081f9",
   "metadata": {},
   "source": [
    "Data with normal ads"
   ]
  },
  {
   "cell_type": "code",
   "execution_count": null,
   "id": "aa5a8645-bdd8-4707-8497-3a794bdbf30a",
   "metadata": {
    "tags": []
   },
   "outputs": [],
   "source": [
    "data.isna().sum()"
   ]
  },
  {
   "cell_type": "code",
   "execution_count": null,
   "id": "e9e53ee8-4918-4b69-a16f-bad1ae2d9626",
   "metadata": {},
   "outputs": [],
   "source": [
    "data[data[\"recall\"].isna()].head()"
   ]
  },
  {
   "cell_type": "code",
   "execution_count": null,
   "id": "4da62712-2a43-46f1-9afb-92d88ffacfeb",
   "metadata": {
    "tags": []
   },
   "outputs": [],
   "source": [
    "data.dropna(inplace=True)"
   ]
  },
  {
   "cell_type": "code",
   "execution_count": null,
   "id": "1a970f35-74a8-42b0-a661-0476fa27d7cf",
   "metadata": {
    "tags": []
   },
   "outputs": [],
   "source": [
    "agg_metrics[\"recall\"] = data[\"pred_n_bundles\"].sum() / data[\"n_bundles\"].sum()\n",
    "# agg_metrics"
   ]
  },
  {
   "cell_type": "code",
   "execution_count": null,
   "id": "12dc2e74-96e0-4e53-972d-0be2212443bb",
   "metadata": {
    "tags": []
   },
   "outputs": [],
   "source": [
    "data[\"perfect_match\"] = (data[\"valid_bundles\"] == data[\"pred_n_bundles\"]) \\\n",
    "                        & (data[\"mean_price_match\"] == 1.) \\\n",
    "                        & (data[\"mean_currency_match\"] == 1.) \\\n",
    "                        & (data[\"mean_count_match\"] == 1.) \\\n",
    "                        & (data[\"delta_bundles\"] == 0.)"
   ]
  },
  {
   "cell_type": "code",
   "execution_count": null,
   "id": "71dc4811-a456-4361-b526-ea589b879eba",
   "metadata": {
    "tags": []
   },
   "outputs": [],
   "source": [
    "agg_metrics[\"prefect_match\"] = data[\"perfect_match\"].mean()\n",
    "# agg_metrics"
   ]
  },
  {
   "cell_type": "code",
   "execution_count": 31,
   "id": "a1f1a5dc-10df-404f-b2fe-031ea3e32055",
   "metadata": {
    "tags": []
   },
   "outputs": [],
   "source": [
    "agg_metrics[\"1b_perfect_match\"] = data.loc[data[\"n_bundles\"] == 1, \"perfect_match\"].mean()\n",
    "agg_metrics[\"mb_perfect_match\"] = data.loc[data[\"n_bundles\"] > 1, \"perfect_match\"].mean()"
   ]
  },
  {
   "cell_type": "code",
   "execution_count": 32,
   "id": "540547ba-0535-4f80-bcda-734278365fed",
   "metadata": {
    "tags": []
   },
   "outputs": [],
   "source": [
    "for feature in (\"price\", \"currency\", \"count\"):\n",
    "    agg_metrics[f\"1b_mean_{feature}_match\"] = data.loc[data[\"n_bundles\"] == 1, f\"mean_{feature}_match\"].mean()\n",
    "    agg_metrics[f\"mb_mean_{feature}_match\"] = data.loc[data[\"n_bundles\"] > 1, f\"mean_{feature}_match\"].mean()\n",
    "    agg_metrics[f\"mean_{feature}_match\"] = data[f\"mean_{feature}_match\"].mean()\n",
    "# agg_metrics"
   ]
  },
  {
   "cell_type": "code",
   "execution_count": 33,
   "id": "80e3e9ab-4c84-4f7b-8684-62fc9e5f8baf",
   "metadata": {
    "tags": []
   },
   "outputs": [
    {
     "ename": "KeyError",
     "evalue": "'mean_bleu'",
     "output_type": "error",
     "traceback": [
      "\u001b[0;31m---------------------------------------------------------------------------\u001b[0m",
      "\u001b[0;31mKeyError\u001b[0m                                  Traceback (most recent call last)",
      "File \u001b[0;32m~/leonya/.venv/lib/python3.10/site-packages/pandas/core/indexes/base.py:3805\u001b[0m, in \u001b[0;36mIndex.get_loc\u001b[0;34m(self, key)\u001b[0m\n\u001b[1;32m   3804\u001b[0m \u001b[38;5;28;01mtry\u001b[39;00m:\n\u001b[0;32m-> 3805\u001b[0m     \u001b[38;5;28;01mreturn\u001b[39;00m \u001b[38;5;28;43mself\u001b[39;49m\u001b[38;5;241;43m.\u001b[39;49m\u001b[43m_engine\u001b[49m\u001b[38;5;241;43m.\u001b[39;49m\u001b[43mget_loc\u001b[49m\u001b[43m(\u001b[49m\u001b[43mcasted_key\u001b[49m\u001b[43m)\u001b[49m\n\u001b[1;32m   3806\u001b[0m \u001b[38;5;28;01mexcept\u001b[39;00m \u001b[38;5;167;01mKeyError\u001b[39;00m \u001b[38;5;28;01mas\u001b[39;00m err:\n",
      "File \u001b[0;32mindex.pyx:167\u001b[0m, in \u001b[0;36mpandas._libs.index.IndexEngine.get_loc\u001b[0;34m()\u001b[0m\n",
      "File \u001b[0;32mindex.pyx:196\u001b[0m, in \u001b[0;36mpandas._libs.index.IndexEngine.get_loc\u001b[0;34m()\u001b[0m\n",
      "File \u001b[0;32mpandas/_libs/hashtable_class_helper.pxi:7081\u001b[0m, in \u001b[0;36mpandas._libs.hashtable.PyObjectHashTable.get_item\u001b[0;34m()\u001b[0m\n",
      "File \u001b[0;32mpandas/_libs/hashtable_class_helper.pxi:7089\u001b[0m, in \u001b[0;36mpandas._libs.hashtable.PyObjectHashTable.get_item\u001b[0;34m()\u001b[0m\n",
      "\u001b[0;31mKeyError\u001b[0m: 'mean_bleu'",
      "\nThe above exception was the direct cause of the following exception:\n",
      "\u001b[0;31mKeyError\u001b[0m                                  Traceback (most recent call last)",
      "Cell \u001b[0;32mIn[33], line 2\u001b[0m\n\u001b[1;32m      1\u001b[0m \u001b[38;5;28;01mfor\u001b[39;00m feature \u001b[38;5;129;01min\u001b[39;00m (\u001b[38;5;124m\"\u001b[39m\u001b[38;5;124mbleu\u001b[39m\u001b[38;5;124m\"\u001b[39m, \u001b[38;5;124m\"\u001b[39m\u001b[38;5;124mchrf\u001b[39m\u001b[38;5;124m\"\u001b[39m):\n\u001b[0;32m----> 2\u001b[0m     agg_metrics[\u001b[38;5;124mf\u001b[39m\u001b[38;5;124m\"\u001b[39m\u001b[38;5;124m1b_mean_\u001b[39m\u001b[38;5;132;01m{\u001b[39;00mfeature\u001b[38;5;132;01m}\u001b[39;00m\u001b[38;5;124m\"\u001b[39m] \u001b[38;5;241m=\u001b[39m \u001b[43mdata\u001b[49m\u001b[38;5;241;43m.\u001b[39;49m\u001b[43mloc\u001b[49m\u001b[43m[\u001b[49m\u001b[43mdata\u001b[49m\u001b[43m[\u001b[49m\u001b[38;5;124;43m\"\u001b[39;49m\u001b[38;5;124;43mn_bundles\u001b[39;49m\u001b[38;5;124;43m\"\u001b[39;49m\u001b[43m]\u001b[49m\u001b[43m \u001b[49m\u001b[38;5;241;43m==\u001b[39;49m\u001b[43m \u001b[49m\u001b[38;5;241;43m1\u001b[39;49m\u001b[43m,\u001b[49m\u001b[43m \u001b[49m\u001b[38;5;124;43mf\u001b[39;49m\u001b[38;5;124;43m\"\u001b[39;49m\u001b[38;5;124;43mmean_\u001b[39;49m\u001b[38;5;132;43;01m{\u001b[39;49;00m\u001b[43mfeature\u001b[49m\u001b[38;5;132;43;01m}\u001b[39;49;00m\u001b[38;5;124;43m\"\u001b[39;49m\u001b[43m]\u001b[49m\u001b[38;5;241m.\u001b[39mmean()\n\u001b[1;32m      3\u001b[0m     agg_metrics[\u001b[38;5;124mf\u001b[39m\u001b[38;5;124m\"\u001b[39m\u001b[38;5;124mmb_mean_\u001b[39m\u001b[38;5;132;01m{\u001b[39;00mfeature\u001b[38;5;132;01m}\u001b[39;00m\u001b[38;5;124m\"\u001b[39m] \u001b[38;5;241m=\u001b[39m data\u001b[38;5;241m.\u001b[39mloc[data[\u001b[38;5;124m\"\u001b[39m\u001b[38;5;124mn_bundles\u001b[39m\u001b[38;5;124m\"\u001b[39m] \u001b[38;5;241m>\u001b[39m \u001b[38;5;241m1\u001b[39m, \u001b[38;5;124mf\u001b[39m\u001b[38;5;124m\"\u001b[39m\u001b[38;5;124mmean_\u001b[39m\u001b[38;5;132;01m{\u001b[39;00mfeature\u001b[38;5;132;01m}\u001b[39;00m\u001b[38;5;124m\"\u001b[39m]\u001b[38;5;241m.\u001b[39mmean()\n\u001b[1;32m      4\u001b[0m     agg_metrics[\u001b[38;5;124mf\u001b[39m\u001b[38;5;124m\"\u001b[39m\u001b[38;5;124mmean_\u001b[39m\u001b[38;5;132;01m{\u001b[39;00mfeature\u001b[38;5;132;01m}\u001b[39;00m\u001b[38;5;124m\"\u001b[39m] \u001b[38;5;241m=\u001b[39m data[\u001b[38;5;124mf\u001b[39m\u001b[38;5;124m\"\u001b[39m\u001b[38;5;124mmean_\u001b[39m\u001b[38;5;132;01m{\u001b[39;00mfeature\u001b[38;5;132;01m}\u001b[39;00m\u001b[38;5;124m\"\u001b[39m]\u001b[38;5;241m.\u001b[39mmean()\n",
      "File \u001b[0;32m~/leonya/.venv/lib/python3.10/site-packages/pandas/core/indexing.py:1184\u001b[0m, in \u001b[0;36m_LocationIndexer.__getitem__\u001b[0;34m(self, key)\u001b[0m\n\u001b[1;32m   1182\u001b[0m     \u001b[38;5;28;01mif\u001b[39;00m \u001b[38;5;28mself\u001b[39m\u001b[38;5;241m.\u001b[39m_is_scalar_access(key):\n\u001b[1;32m   1183\u001b[0m         \u001b[38;5;28;01mreturn\u001b[39;00m \u001b[38;5;28mself\u001b[39m\u001b[38;5;241m.\u001b[39mobj\u001b[38;5;241m.\u001b[39m_get_value(\u001b[38;5;241m*\u001b[39mkey, takeable\u001b[38;5;241m=\u001b[39m\u001b[38;5;28mself\u001b[39m\u001b[38;5;241m.\u001b[39m_takeable)\n\u001b[0;32m-> 1184\u001b[0m     \u001b[38;5;28;01mreturn\u001b[39;00m \u001b[38;5;28;43mself\u001b[39;49m\u001b[38;5;241;43m.\u001b[39;49m\u001b[43m_getitem_tuple\u001b[49m\u001b[43m(\u001b[49m\u001b[43mkey\u001b[49m\u001b[43m)\u001b[49m\n\u001b[1;32m   1185\u001b[0m \u001b[38;5;28;01melse\u001b[39;00m:\n\u001b[1;32m   1186\u001b[0m     \u001b[38;5;66;03m# we by definition only have the 0th axis\u001b[39;00m\n\u001b[1;32m   1187\u001b[0m     axis \u001b[38;5;241m=\u001b[39m \u001b[38;5;28mself\u001b[39m\u001b[38;5;241m.\u001b[39maxis \u001b[38;5;129;01mor\u001b[39;00m \u001b[38;5;241m0\u001b[39m\n",
      "File \u001b[0;32m~/leonya/.venv/lib/python3.10/site-packages/pandas/core/indexing.py:1368\u001b[0m, in \u001b[0;36m_LocIndexer._getitem_tuple\u001b[0;34m(self, tup)\u001b[0m\n\u001b[1;32m   1366\u001b[0m \u001b[38;5;28;01mwith\u001b[39;00m suppress(IndexingError):\n\u001b[1;32m   1367\u001b[0m     tup \u001b[38;5;241m=\u001b[39m \u001b[38;5;28mself\u001b[39m\u001b[38;5;241m.\u001b[39m_expand_ellipsis(tup)\n\u001b[0;32m-> 1368\u001b[0m     \u001b[38;5;28;01mreturn\u001b[39;00m \u001b[38;5;28;43mself\u001b[39;49m\u001b[38;5;241;43m.\u001b[39;49m\u001b[43m_getitem_lowerdim\u001b[49m\u001b[43m(\u001b[49m\u001b[43mtup\u001b[49m\u001b[43m)\u001b[49m\n\u001b[1;32m   1370\u001b[0m \u001b[38;5;66;03m# no multi-index, so validate all of the indexers\u001b[39;00m\n\u001b[1;32m   1371\u001b[0m tup \u001b[38;5;241m=\u001b[39m \u001b[38;5;28mself\u001b[39m\u001b[38;5;241m.\u001b[39m_validate_tuple_indexer(tup)\n",
      "File \u001b[0;32m~/leonya/.venv/lib/python3.10/site-packages/pandas/core/indexing.py:1065\u001b[0m, in \u001b[0;36m_LocationIndexer._getitem_lowerdim\u001b[0;34m(self, tup)\u001b[0m\n\u001b[1;32m   1061\u001b[0m \u001b[38;5;28;01mfor\u001b[39;00m i, key \u001b[38;5;129;01min\u001b[39;00m \u001b[38;5;28menumerate\u001b[39m(tup):\n\u001b[1;32m   1062\u001b[0m     \u001b[38;5;28;01mif\u001b[39;00m is_label_like(key):\n\u001b[1;32m   1063\u001b[0m         \u001b[38;5;66;03m# We don't need to check for tuples here because those are\u001b[39;00m\n\u001b[1;32m   1064\u001b[0m         \u001b[38;5;66;03m#  caught by the _is_nested_tuple_indexer check above.\u001b[39;00m\n\u001b[0;32m-> 1065\u001b[0m         section \u001b[38;5;241m=\u001b[39m \u001b[38;5;28;43mself\u001b[39;49m\u001b[38;5;241;43m.\u001b[39;49m\u001b[43m_getitem_axis\u001b[49m\u001b[43m(\u001b[49m\u001b[43mkey\u001b[49m\u001b[43m,\u001b[49m\u001b[43m \u001b[49m\u001b[43maxis\u001b[49m\u001b[38;5;241;43m=\u001b[39;49m\u001b[43mi\u001b[49m\u001b[43m)\u001b[49m\n\u001b[1;32m   1067\u001b[0m         \u001b[38;5;66;03m# We should never have a scalar section here, because\u001b[39;00m\n\u001b[1;32m   1068\u001b[0m         \u001b[38;5;66;03m#  _getitem_lowerdim is only called after a check for\u001b[39;00m\n\u001b[1;32m   1069\u001b[0m         \u001b[38;5;66;03m#  is_scalar_access, which that would be.\u001b[39;00m\n\u001b[1;32m   1070\u001b[0m         \u001b[38;5;28;01mif\u001b[39;00m section\u001b[38;5;241m.\u001b[39mndim \u001b[38;5;241m==\u001b[39m \u001b[38;5;28mself\u001b[39m\u001b[38;5;241m.\u001b[39mndim:\n\u001b[1;32m   1071\u001b[0m             \u001b[38;5;66;03m# we're in the middle of slicing through a MultiIndex\u001b[39;00m\n\u001b[1;32m   1072\u001b[0m             \u001b[38;5;66;03m# revise the key wrt to `section` by inserting an _NS\u001b[39;00m\n",
      "File \u001b[0;32m~/leonya/.venv/lib/python3.10/site-packages/pandas/core/indexing.py:1431\u001b[0m, in \u001b[0;36m_LocIndexer._getitem_axis\u001b[0;34m(self, key, axis)\u001b[0m\n\u001b[1;32m   1429\u001b[0m \u001b[38;5;66;03m# fall thru to straight lookup\u001b[39;00m\n\u001b[1;32m   1430\u001b[0m \u001b[38;5;28mself\u001b[39m\u001b[38;5;241m.\u001b[39m_validate_key(key, axis)\n\u001b[0;32m-> 1431\u001b[0m \u001b[38;5;28;01mreturn\u001b[39;00m \u001b[38;5;28;43mself\u001b[39;49m\u001b[38;5;241;43m.\u001b[39;49m\u001b[43m_get_label\u001b[49m\u001b[43m(\u001b[49m\u001b[43mkey\u001b[49m\u001b[43m,\u001b[49m\u001b[43m \u001b[49m\u001b[43maxis\u001b[49m\u001b[38;5;241;43m=\u001b[39;49m\u001b[43maxis\u001b[49m\u001b[43m)\u001b[49m\n",
      "File \u001b[0;32m~/leonya/.venv/lib/python3.10/site-packages/pandas/core/indexing.py:1381\u001b[0m, in \u001b[0;36m_LocIndexer._get_label\u001b[0;34m(self, label, axis)\u001b[0m\n\u001b[1;32m   1379\u001b[0m \u001b[38;5;28;01mdef\u001b[39;00m \u001b[38;5;21m_get_label\u001b[39m(\u001b[38;5;28mself\u001b[39m, label, axis: AxisInt):\n\u001b[1;32m   1380\u001b[0m     \u001b[38;5;66;03m# GH#5567 this will fail if the label is not present in the axis.\u001b[39;00m\n\u001b[0;32m-> 1381\u001b[0m     \u001b[38;5;28;01mreturn\u001b[39;00m \u001b[38;5;28;43mself\u001b[39;49m\u001b[38;5;241;43m.\u001b[39;49m\u001b[43mobj\u001b[49m\u001b[38;5;241;43m.\u001b[39;49m\u001b[43mxs\u001b[49m\u001b[43m(\u001b[49m\u001b[43mlabel\u001b[49m\u001b[43m,\u001b[49m\u001b[43m \u001b[49m\u001b[43maxis\u001b[49m\u001b[38;5;241;43m=\u001b[39;49m\u001b[43maxis\u001b[49m\u001b[43m)\u001b[49m\n",
      "File \u001b[0;32m~/leonya/.venv/lib/python3.10/site-packages/pandas/core/generic.py:4287\u001b[0m, in \u001b[0;36mNDFrame.xs\u001b[0;34m(self, key, axis, level, drop_level)\u001b[0m\n\u001b[1;32m   4285\u001b[0m \u001b[38;5;28;01mif\u001b[39;00m axis \u001b[38;5;241m==\u001b[39m \u001b[38;5;241m1\u001b[39m:\n\u001b[1;32m   4286\u001b[0m     \u001b[38;5;28;01mif\u001b[39;00m drop_level:\n\u001b[0;32m-> 4287\u001b[0m         \u001b[38;5;28;01mreturn\u001b[39;00m \u001b[38;5;28;43mself\u001b[39;49m\u001b[43m[\u001b[49m\u001b[43mkey\u001b[49m\u001b[43m]\u001b[49m\n\u001b[1;32m   4288\u001b[0m     index \u001b[38;5;241m=\u001b[39m \u001b[38;5;28mself\u001b[39m\u001b[38;5;241m.\u001b[39mcolumns\n\u001b[1;32m   4289\u001b[0m \u001b[38;5;28;01melse\u001b[39;00m:\n",
      "File \u001b[0;32m~/leonya/.venv/lib/python3.10/site-packages/pandas/core/frame.py:4102\u001b[0m, in \u001b[0;36mDataFrame.__getitem__\u001b[0;34m(self, key)\u001b[0m\n\u001b[1;32m   4100\u001b[0m \u001b[38;5;28;01mif\u001b[39;00m \u001b[38;5;28mself\u001b[39m\u001b[38;5;241m.\u001b[39mcolumns\u001b[38;5;241m.\u001b[39mnlevels \u001b[38;5;241m>\u001b[39m \u001b[38;5;241m1\u001b[39m:\n\u001b[1;32m   4101\u001b[0m     \u001b[38;5;28;01mreturn\u001b[39;00m \u001b[38;5;28mself\u001b[39m\u001b[38;5;241m.\u001b[39m_getitem_multilevel(key)\n\u001b[0;32m-> 4102\u001b[0m indexer \u001b[38;5;241m=\u001b[39m \u001b[38;5;28;43mself\u001b[39;49m\u001b[38;5;241;43m.\u001b[39;49m\u001b[43mcolumns\u001b[49m\u001b[38;5;241;43m.\u001b[39;49m\u001b[43mget_loc\u001b[49m\u001b[43m(\u001b[49m\u001b[43mkey\u001b[49m\u001b[43m)\u001b[49m\n\u001b[1;32m   4103\u001b[0m \u001b[38;5;28;01mif\u001b[39;00m is_integer(indexer):\n\u001b[1;32m   4104\u001b[0m     indexer \u001b[38;5;241m=\u001b[39m [indexer]\n",
      "File \u001b[0;32m~/leonya/.venv/lib/python3.10/site-packages/pandas/core/indexes/base.py:3812\u001b[0m, in \u001b[0;36mIndex.get_loc\u001b[0;34m(self, key)\u001b[0m\n\u001b[1;32m   3807\u001b[0m     \u001b[38;5;28;01mif\u001b[39;00m \u001b[38;5;28misinstance\u001b[39m(casted_key, \u001b[38;5;28mslice\u001b[39m) \u001b[38;5;129;01mor\u001b[39;00m (\n\u001b[1;32m   3808\u001b[0m         \u001b[38;5;28misinstance\u001b[39m(casted_key, abc\u001b[38;5;241m.\u001b[39mIterable)\n\u001b[1;32m   3809\u001b[0m         \u001b[38;5;129;01mand\u001b[39;00m \u001b[38;5;28many\u001b[39m(\u001b[38;5;28misinstance\u001b[39m(x, \u001b[38;5;28mslice\u001b[39m) \u001b[38;5;28;01mfor\u001b[39;00m x \u001b[38;5;129;01min\u001b[39;00m casted_key)\n\u001b[1;32m   3810\u001b[0m     ):\n\u001b[1;32m   3811\u001b[0m         \u001b[38;5;28;01mraise\u001b[39;00m InvalidIndexError(key)\n\u001b[0;32m-> 3812\u001b[0m     \u001b[38;5;28;01mraise\u001b[39;00m \u001b[38;5;167;01mKeyError\u001b[39;00m(key) \u001b[38;5;28;01mfrom\u001b[39;00m \u001b[38;5;21;01merr\u001b[39;00m\n\u001b[1;32m   3813\u001b[0m \u001b[38;5;28;01mexcept\u001b[39;00m \u001b[38;5;167;01mTypeError\u001b[39;00m:\n\u001b[1;32m   3814\u001b[0m     \u001b[38;5;66;03m# If we have a listlike key, _check_indexing_error will raise\u001b[39;00m\n\u001b[1;32m   3815\u001b[0m     \u001b[38;5;66;03m#  InvalidIndexError. Otherwise we fall through and re-raise\u001b[39;00m\n\u001b[1;32m   3816\u001b[0m     \u001b[38;5;66;03m#  the TypeError.\u001b[39;00m\n\u001b[1;32m   3817\u001b[0m     \u001b[38;5;28mself\u001b[39m\u001b[38;5;241m.\u001b[39m_check_indexing_error(key)\n",
      "\u001b[0;31mKeyError\u001b[0m: 'mean_bleu'"
     ]
    }
   ],
   "source": [
    "for feature in (\"bleu\", \"chrf\"):\n",
    "    agg_metrics[f\"1b_mean_{feature}\"] = data.loc[data[\"n_bundles\"] == 1, f\"mean_{feature}\"].mean()\n",
    "    agg_metrics[f\"mb_mean_{feature}\"] = data.loc[data[\"n_bundles\"] > 1, f\"mean_{feature}\"].mean()\n",
    "    agg_metrics[f\"mean_{feature}\"] = data[f\"mean_{feature}\"].mean()\n",
    "# agg_metrics"
   ]
  },
  {
   "cell_type": "code",
   "execution_count": null,
   "id": "fd078dc2-587f-4e0a-bbac-d96c7471ae93",
   "metadata": {
    "tags": []
   },
   "outputs": [],
   "source": [
    "agg_metrics[\"too_many_bundles_ratio\"] = data[\"delta_bundles\"].apply(lambda x: max(x, 0)).mean()\n",
    "agg_metrics[\"not_enough_bundles_ratio\"] = data[\"delta_bundles\"].apply(lambda x: -min(x, 0)).mean()\n",
    "agg_metrics[\"n_bundles_mae\"] = data[\"delta_bundles\"].apply(lambda x: abs(x)).mean()\n",
    "agg_metrics[\"model\"] = ckpt\n",
    "# agg_metrics"
   ]
  },
  {
   "cell_type": "code",
   "execution_count": null,
   "id": "39ec5a6c-c051-4d57-8df8-6c1cdb119cca",
   "metadata": {
    "tags": []
   },
   "outputs": [],
   "source": [
    "agg_metrics"
   ]
  },
  {
   "cell_type": "code",
   "execution_count": 33,
   "id": "215b08b5-3b84-43d3-a7f4-cae907a8c672",
   "metadata": {
    "tags": []
   },
   "outputs": [
    {
     "data": {
      "text/html": [
       "<div>\n",
       "<style scoped>\n",
       "    .dataframe tbody tr th:only-of-type {\n",
       "        vertical-align: middle;\n",
       "    }\n",
       "\n",
       "    .dataframe tbody tr th {\n",
       "        vertical-align: top;\n",
       "    }\n",
       "\n",
       "    .dataframe thead th {\n",
       "        text-align: right;\n",
       "    }\n",
       "</style>\n",
       "<table border=\"1\" class=\"dataframe\">\n",
       "  <thead>\n",
       "    <tr style=\"text-align: right;\">\n",
       "      <th></th>\n",
       "      <th>valid_structure</th>\n",
       "      <th>gurbage_recongning_accuracy</th>\n",
       "      <th>recall</th>\n",
       "      <th>prefect_match</th>\n",
       "      <th>1b_perfect_match</th>\n",
       "      <th>mb_perfect_match</th>\n",
       "      <th>1b_mean_price_match</th>\n",
       "      <th>mb_mean_price_match</th>\n",
       "      <th>mean_price_match</th>\n",
       "      <th>1b_mean_currency_match</th>\n",
       "      <th>...</th>\n",
       "      <th>1b_mean_bleu</th>\n",
       "      <th>mb_mean_bleu</th>\n",
       "      <th>mean_bleu</th>\n",
       "      <th>1b_mean_chrf</th>\n",
       "      <th>mb_mean_chrf</th>\n",
       "      <th>mean_chrf</th>\n",
       "      <th>too_many_bundles_ratio</th>\n",
       "      <th>not_enough_bundles_ratio</th>\n",
       "      <th>n_bundles_mae</th>\n",
       "      <th>model</th>\n",
       "    </tr>\n",
       "  </thead>\n",
       "  <tbody>\n",
       "    <tr>\n",
       "      <th>0</th>\n",
       "      <td>0.986</td>\n",
       "      <td>0.752809</td>\n",
       "      <td>0.910049</td>\n",
       "      <td>0.721788</td>\n",
       "      <td>0.84022</td>\n",
       "      <td>0.213018</td>\n",
       "      <td>0.958678</td>\n",
       "      <td>0.781164</td>\n",
       "      <td>0.925158</td>\n",
       "      <td>0.931129</td>\n",
       "      <td>...</td>\n",
       "      <td>37.048364</td>\n",
       "      <td>30.224089</td>\n",
       "      <td>35.759758</td>\n",
       "      <td>76.98801</td>\n",
       "      <td>69.593539</td>\n",
       "      <td>75.591736</td>\n",
       "      <td>0.032402</td>\n",
       "      <td>0.175419</td>\n",
       "      <td>0.207821</td>\n",
       "      <td>ruT5-large-JJ-no-shuffle</td>\n",
       "    </tr>\n",
       "  </tbody>\n",
       "</table>\n",
       "<p>1 rows × 25 columns</p>\n",
       "</div>"
      ],
      "text/plain": [
       "   valid_structure  gurbage_recongning_accuracy    recall  prefect_match  \\\n",
       "0            0.986                     0.752809  0.910049       0.721788   \n",
       "\n",
       "   1b_perfect_match  mb_perfect_match  1b_mean_price_match  \\\n",
       "0           0.84022          0.213018             0.958678   \n",
       "\n",
       "   mb_mean_price_match  mean_price_match  1b_mean_currency_match  ...  \\\n",
       "0             0.781164          0.925158                0.931129  ...   \n",
       "\n",
       "   1b_mean_bleu  mb_mean_bleu  mean_bleu  1b_mean_chrf  mb_mean_chrf  \\\n",
       "0     37.048364     30.224089  35.759758      76.98801     69.593539   \n",
       "\n",
       "   mean_chrf  too_many_bundles_ratio  not_enough_bundles_ratio  n_bundles_mae  \\\n",
       "0  75.591736                0.032402                  0.175419       0.207821   \n",
       "\n",
       "                      model  \n",
       "0  ruT5-large-JJ-no-shuffle  \n",
       "\n",
       "[1 rows x 25 columns]"
      ]
     },
     "execution_count": 33,
     "metadata": {},
     "output_type": "execute_result"
    }
   ],
   "source": [
    "agg_metrics = {key: [val] for key, val in agg_metrics.items()}\n",
    "compare_data = pd.DataFrame(agg_metrics)\n",
    "compare_data.head()"
   ]
  },
  {
   "cell_type": "code",
   "execution_count": 38,
   "id": "2ad6dfe3-4688-4824-8825-962fa15dc795",
   "metadata": {
    "execution": {
     "iopub.execute_input": "2024-05-16T06:20:32.544767Z",
     "iopub.status.busy": "2024-05-16T06:20:32.543942Z",
     "iopub.status.idle": "2024-05-16T06:20:32.604433Z",
     "shell.execute_reply": "2024-05-16T06:20:32.603709Z",
     "shell.execute_reply.started": "2024-05-16T06:20:32.544737Z"
    },
    "tags": []
   },
   "outputs": [
    {
     "data": {
      "text/html": [
       "<div>\n",
       "<style scoped>\n",
       "    .dataframe tbody tr th:only-of-type {\n",
       "        vertical-align: middle;\n",
       "    }\n",
       "\n",
       "    .dataframe tbody tr th {\n",
       "        vertical-align: top;\n",
       "    }\n",
       "\n",
       "    .dataframe thead th {\n",
       "        text-align: right;\n",
       "    }\n",
       "</style>\n",
       "<table border=\"1\" class=\"dataframe\">\n",
       "  <thead>\n",
       "    <tr style=\"text-align: right;\">\n",
       "      <th></th>\n",
       "      <th>valid_structure</th>\n",
       "      <th>gurbage_recongning_accuracy</th>\n",
       "      <th>recall</th>\n",
       "      <th>prefect_match</th>\n",
       "      <th>1b_perfect_match</th>\n",
       "      <th>mb_perfect_match</th>\n",
       "      <th>1b_mean_price_match</th>\n",
       "      <th>mb_mean_price_match</th>\n",
       "      <th>mean_price_match</th>\n",
       "      <th>1b_mean_currency_match</th>\n",
       "      <th>mb_mean_currency_match</th>\n",
       "      <th>mean_currency_match</th>\n",
       "      <th>1b_mean_count_match</th>\n",
       "      <th>mb_mean_count_match</th>\n",
       "      <th>mean_count_match</th>\n",
       "      <th>1b_mean_bleu</th>\n",
       "      <th>mb_mean_bleu</th>\n",
       "      <th>mean_bleu</th>\n",
       "      <th>1b_mean_chrf</th>\n",
       "      <th>mb_mean_chrf</th>\n",
       "      <th>mean_chrf</th>\n",
       "      <th>too_many_bundles_ratio</th>\n",
       "      <th>not_enough_bundles_ratio</th>\n",
       "      <th>n_bundles_mae</th>\n",
       "      <th>model</th>\n",
       "    </tr>\n",
       "  </thead>\n",
       "  <tbody>\n",
       "    <tr>\n",
       "      <th>0</th>\n",
       "      <td>0.998</td>\n",
       "      <td>0.483146</td>\n",
       "      <td>0.893970</td>\n",
       "      <td>0.694505</td>\n",
       "      <td>0.820408</td>\n",
       "      <td>0.165714</td>\n",
       "      <td>0.952381</td>\n",
       "      <td>0.682571</td>\n",
       "      <td>0.900495</td>\n",
       "      <td>0.922449</td>\n",
       "      <td>0.868571</td>\n",
       "      <td>0.912088</td>\n",
       "      <td>0.936054</td>\n",
       "      <td>0.886571</td>\n",
       "      <td>0.926538</td>\n",
       "      <td>37.595213</td>\n",
       "      <td>29.048852</td>\n",
       "      <td>35.951682</td>\n",
       "      <td>77.029250</td>\n",
       "      <td>65.418450</td>\n",
       "      <td>74.796404</td>\n",
       "      <td>0.051648</td>\n",
       "      <td>0.227473</td>\n",
       "      <td>0.279121</td>\n",
       "      <td>ruT5-base</td>\n",
       "    </tr>\n",
       "    <tr>\n",
       "      <th>0</th>\n",
       "      <td>0.989</td>\n",
       "      <td>0.730337</td>\n",
       "      <td>0.896879</td>\n",
       "      <td>0.712222</td>\n",
       "      <td>0.835391</td>\n",
       "      <td>0.187135</td>\n",
       "      <td>0.958848</td>\n",
       "      <td>0.721150</td>\n",
       "      <td>0.913685</td>\n",
       "      <td>0.931413</td>\n",
       "      <td>0.859649</td>\n",
       "      <td>0.917778</td>\n",
       "      <td>0.943759</td>\n",
       "      <td>0.897271</td>\n",
       "      <td>0.934926</td>\n",
       "      <td>36.149039</td>\n",
       "      <td>30.050380</td>\n",
       "      <td>34.990294</td>\n",
       "      <td>76.443918</td>\n",
       "      <td>65.974156</td>\n",
       "      <td>74.454663</td>\n",
       "      <td>0.036667</td>\n",
       "      <td>0.205556</td>\n",
       "      <td>0.242222</td>\n",
       "      <td>ruT5-large-JJ-overfit</td>\n",
       "    </tr>\n",
       "  </tbody>\n",
       "</table>\n",
       "</div>"
      ],
      "text/plain": [
       "   valid_structure  ...                  model\n",
       "0            0.998  ...              ruT5-base\n",
       "0            0.989  ...  ruT5-large-JJ-overfit\n",
       "\n",
       "[2 rows x 25 columns]"
      ]
     },
     "execution_count": 38,
     "metadata": {},
     "output_type": "execute_result"
    }
   ],
   "source": [
    "comp_data = pd.read_csv(\"~/work/resources/bench_results/compare.csv\")\n",
    "comp_data = pd.concat([comp_data, compare_data])\n",
    "comp_data.head()"
   ]
  },
  {
   "cell_type": "code",
   "execution_count": 39,
   "id": "cc635f0b-1b06-4854-8e4b-ac679683c36b",
   "metadata": {
    "execution": {
     "iopub.execute_input": "2024-05-16T06:26:36.516044Z",
     "iopub.status.busy": "2024-05-16T06:26:36.515209Z",
     "iopub.status.idle": "2024-05-16T06:26:36.527518Z",
     "shell.execute_reply": "2024-05-16T06:26:36.526825Z",
     "shell.execute_reply.started": "2024-05-16T06:26:36.516004Z"
    },
    "tags": []
   },
   "outputs": [],
   "source": [
    "comp_data.to_csv(\"~/work/resources/bench_results/compare.csv\", index=False)"
   ]
  },
  {
   "cell_type": "code",
   "execution_count": 42,
   "id": "0e9ccf3e-4a28-4e93-9a4e-95d5d76b6399",
   "metadata": {
    "execution": {
     "iopub.execute_input": "2024-05-16T07:42:01.971181Z",
     "iopub.status.busy": "2024-05-16T07:42:01.970444Z",
     "iopub.status.idle": "2024-05-16T07:42:02.033890Z",
     "shell.execute_reply": "2024-05-16T07:42:02.033149Z",
     "shell.execute_reply.started": "2024-05-16T07:42:01.971139Z"
    },
    "tags": []
   },
   "outputs": [
    {
     "data": {
      "text/plain": [
       "array(['#БНИ_ПродамБУ_Владивосток\\n#БНИ_id295710053\\n#БНИ_почта \\n#БНИ_авито \\n\\nВсе игры в отличном состоянии. \\n\\n1. Живой лес. 2000р.\\n2. Hamlet. 2700р.\\n3. Секигахара. 2900р.\\n4. Волки. 2600р.\\n5. Тираны подземья + 3 фанатские колоды. 5000р.\\n6. Зверь. 4000р. \\n7. Прослушка. 1400р.\\n8. Трон кубов. 9000р.\\n9. Hoplomachus. 16000р.\\n10. Cloudspire. 17000р.',\n",
       "       'Сапожки зима, Demar, р-р 20-21, отлично подойдут для первой зимней обуви вашему малышу, очень теплые, 500₽.\\nПолукомбенизон р-р 80, демисезон, на прохладную осень, непромокаемые, 150₽\\nНовосиньково\\n\\n#БД_обувь',\n",
       "       '1. плащ классический черный\\nразмер 42\\nторжковская швейная фабрика\\n70 лари\\n2. бежевый топ-лапша\\nразмер m\\n20 лари\\nзолотая цепь\\n20 лари\\n3. красная вельветовая юбка\\nразмер m\\n20 лари\\n4. футболка с ахегао\\nразмер xxl\\n20 лари\\n5. настолка fluxx\\n20 лари\\n6. бижутерия и значки по 5 лари\\n\\n📍м. технический университет/центр',\n",
       "       'Продаю:\\n1) Коврик 100х60 см, безворсовый — 300 руб\\n2) Зеркало 60х50 см (оно абсолютно целое, это отражения) — 300 руб\\n3) Ведро мусорное 10 л, ikea fniss — 100 руб\\n4) Швабра — 100 руб\\n5) Наматрасник полуторный (190х120 см) толстый, новый — 100 руб\\n6) Штора 200х180 см, с крючками — 100 руб\\n\\nТройка',\n",
       "       '#БНИ_ПродамБУ_Екатеринбург \\n#БНИ_Почта \\n#БНИ_Сберлогистика \\n#БНИ_Авито \\n#БНИ_СДЭК \\n#БНИ_andrey_bula\\n\\n1. Кopoбку Пoкoрение маpсa с тайлами от бaзовoй игры вмеcтe c дepевянным оргaнaйзeром от gamefit и 5шт плaншeтaми от ниx жe.\\n2500 рублей.\\n\\n2. Игра настольная Мой город.\\nКампания пройдена полностью, можно играть только без прохождения в неё.\\n400 рублей.\\n\\n3. Плеймат из неопрена для игры Бумажные кварталы.\\nВ идеале.\\n700 рублей.\\n\\n4. Планшеты(накладки) для игры Азул.\\n500р за обе штуки.\\n\\n5. Звездные капитаны + промка.\\nПробег 1 партия.\\n3000 рублей.'],\n",
       "      dtype=object)"
      ]
     },
     "execution_count": 42,
     "metadata": {},
     "output_type": "execute_result"
    }
   ],
   "source": [
    "data.loc[(data[\"n_bundles\"] > 1) & (data[\"mean_price_match\"] < 1), \"Text\"].values[:5]"
   ]
  },
  {
   "cell_type": "code",
   "execution_count": 43,
   "id": "df354b22-d67b-4a88-92c7-84782cafa07c",
   "metadata": {
    "execution": {
     "iopub.execute_input": "2024-05-16T07:42:12.621512Z",
     "iopub.status.busy": "2024-05-16T07:42:12.620795Z",
     "iopub.status.idle": "2024-05-16T07:42:12.633065Z",
     "shell.execute_reply": "2024-05-16T07:42:12.632327Z",
     "shell.execute_reply.started": "2024-05-16T07:42:12.621477Z"
    },
    "tags": []
   },
   "outputs": [
    {
     "data": {
      "text/plain": [
       "array([\" [{ 'title': 'Тираны подземья + 3 фанатские колоды', 'price': '5000', 'currency': 'RUB', 'count': '1'}, { 'title': 'Тираны подземья + 3 фанатские колоды', 'price': '5000', 'currency': 'RUB', 'count': '1'}, { 'title': 'Hamlet', 'price': '2700', 'currency': 'RUB', 'count': '1'}, { 'title': 'Cloudspire', 'price': '17000', 'currency': 'RUB', 'count': '1'}, { 'title': 'Тираны подземья + 3 фанатские колоды', 'price': '5000', 'currency': 'RUB', 'count': '1'}, { 'title': 'Hamlet', 'price': '2700', 'currency': 'RUB', 'count': '1'} ]</s>\",\n",
       "       \" [{ 'title': 'Сапожки зима Demar, размер 20-21', 'price': '500', 'currency': 'RUB', 'count': '1'}, { 'title': 'Сапожки зима Demar, размер 20-21', 'price': '500', 'currency': 'RUB', 'count': '1'} ]</s>\",\n",
       "       \" [{ 'title': 'футболка с ахегао размер xxl', 'price': '20', 'currency': 'лари', 'count': '1'}, { 'title': 'бежевый топ-лапша размер m', 'price': '20', 'currency': 'лари', 'count': '1'}, { 'title': 'бежевый топ-лапша размер m', 'price': '20', 'currency': 'лари', 'count': '1'}, { 'title': 'намтолка fluxx', 'price': '20', 'currency': 'лари', 'count': '1'}, { 'title': 'бежевый топ-лапша размер m', 'price': '20', 'currency': 'лари', 'count': '1'} ]</s>\",\n",
       "       \" [{ 'title': 'Швабра', 'price': '100', 'currency': 'RUB', 'count': '1'}, { 'title': 'Наматрасник полуторный (190х120 см) толстый, новый', 'price': '100', 'currency': 'RUB', 'count': '1'}, { 'title': 'Наматрасник полуторный (190х120 см) толстый, новый', 'price': '100', 'currency': 'RUB', 'count': '1'}, { 'title': 'Зеркало 60х50 см', 'price': '300', 'currency': 'RUB', 'count': '1'}, { 'title': 'Швабра', 'price': '100', 'currency': 'RUB', 'count': '1'} ]</s>\",\n",
       "       \" [{ 'title': 'Плеймат из неопрена для игры Бумажные кварталы', 'price': '700', 'currency': 'RUB', 'count': '1'}, { 'title': 'Звездные капитаны + промка', 'price': '3000', 'currency': 'RUB', 'count': '1'}, { 'title': 'Плеймат из неопрена для игры Бумажные кварталы', 'price': '700', 'currency': 'RUB', 'count': '1'}, { 'title': 'Плеймат из неопрена для игры Бумажные кварталы', 'price': '700', 'currency': 'RUB', 'count': '1'}, { 'title': 'Кopoбка Пoкoрение маpса с тайлами от бaзовoй игры', 'price': '2500', 'currency': 'RUB', 'count': '1'} ]</s>\"],\n",
       "      dtype=object)"
      ]
     },
     "execution_count": 43,
     "metadata": {},
     "output_type": "execute_result"
    }
   ],
   "source": [
    "data.loc[(data[\"n_bundles\"] > 1) & (data[\"mean_price_match\"] < 1), \"Responses\"].values[:5]"
   ]
  }
 ],
 "metadata": {
  "kernelspec": {
   "display_name": "Python 3 (ipykernel)",
   "language": "python",
   "name": "python3"
  },
  "language_info": {
   "codemirror_mode": {
    "name": "ipython",
    "version": 3
   },
   "file_extension": ".py",
   "mimetype": "text/x-python",
   "name": "python",
   "nbconvert_exporter": "python",
   "pygments_lexer": "ipython3",
   "version": "3.10.14"
  }
 },
 "nbformat": 4,
 "nbformat_minor": 5
}
