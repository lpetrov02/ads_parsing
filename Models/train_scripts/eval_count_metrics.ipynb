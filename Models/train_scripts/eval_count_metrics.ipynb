{
 "cells": [
  {
   "cell_type": "code",
   "execution_count": 1,
   "id": "9b27b92c-8cd7-443a-bf61-9fe033c40b23",
   "metadata": {
    "execution": {
     "iopub.execute_input": "2024-05-15T17:37:47.730551Z",
     "iopub.status.busy": "2024-05-15T17:37:47.729637Z",
     "iopub.status.idle": "2024-05-15T17:38:10.513696Z",
     "shell.execute_reply": "2024-05-15T17:38:10.513016Z",
     "shell.execute_reply.started": "2024-05-15T17:37:47.730498Z"
    },
    "tags": []
   },
   "outputs": [
    {
     "name": "stderr",
     "output_type": "stream",
     "text": [
      "/home/jupyter/.local/lib/python3.10/site-packages/transformers/utils/hub.py:124: FutureWarning: Using `TRANSFORMERS_CACHE` is deprecated and will be removed in v5 of Transformers. Use `HF_HOME` instead.\n",
      "  warnings.warn(\n",
      "2024-05-15 17:38:04.597967: W tensorflow/compiler/tf2tensorrt/utils/py_utils.cc:38] TF-TRT Warning: Could not find TensorRT\n"
     ]
    }
   ],
   "source": [
    "import numpy as np\n",
    "import pandas as pd\n",
    "import matplotlib.pyplot as plt\n",
    "\n",
    "from tqdm.notebook import tqdm\n",
    "\n",
    "import json\n",
    "import re\n",
    "\n",
    "import torch\n",
    "from torch import nn\n",
    "from transformers import AutoTokenizer, AutoModelForSeq2SeqLM, AutoConfig\n",
    "\n",
    "import sys\n",
    "from eval_utils import get_parser, compute_test_metrics\n",
    "from utils import Format, get_to_string_processor"
   ]
  },
  {
   "cell_type": "code",
   "execution_count": 2,
   "id": "5a57ed7d-e7ca-4482-a375-bc32763e8562",
   "metadata": {
    "execution": {
     "iopub.execute_input": "2024-05-15T17:38:10.515745Z",
     "iopub.status.busy": "2024-05-15T17:38:10.514955Z",
     "iopub.status.idle": "2024-05-15T17:38:10.533367Z",
     "shell.execute_reply": "2024-05-15T17:38:10.532150Z",
     "shell.execute_reply.started": "2024-05-15T17:38:10.515696Z"
    },
    "tags": []
   },
   "outputs": [
    {
     "data": {
      "text/plain": [
       "{'format': 'SpecTokens',\n",
       " 'max_bundles': 5,\n",
       " 'model': 'ai-forever/ruT5-base',\n",
       " 'add_nl_token': False,\n",
       " 'add_eos_token': False,\n",
       " 'change_pad_to_eos': False,\n",
       " 'shuffle_bundles': True,\n",
       " 'save_folder': 'ruT5-base',\n",
       " 'train': {'n_epochs': 10,\n",
       "  'lr': 5e-05,\n",
       "  'batch_size': 16,\n",
       "  'weight_decay': 0.01,\n",
       "  'scheduler': 'cosine',\n",
       "  'warmup_steps': 500,\n",
       "  'fp16': True},\n",
       " 'eval': {'batch_size': 16, 'show': 5}}"
      ]
     },
     "execution_count": 2,
     "metadata": {},
     "output_type": "execute_result"
    }
   ],
   "source": [
    "with open(\"configs/config_ruT5-base-st.json\", \"rb\") as config:\n",
    "    params = json.load(config)\n",
    "\n",
    "params"
   ]
  },
  {
   "cell_type": "code",
   "execution_count": 3,
   "id": "c0cc1977-9407-4e43-a319-a828adb38d39",
   "metadata": {
    "execution": {
     "iopub.execute_input": "2024-05-15T17:38:10.535695Z",
     "iopub.status.busy": "2024-05-15T17:38:10.535085Z",
     "iopub.status.idle": "2024-05-15T17:38:10.551034Z",
     "shell.execute_reply": "2024-05-15T17:38:10.550273Z",
     "shell.execute_reply.started": "2024-05-15T17:38:10.535631Z"
    },
    "tags": []
   },
   "outputs": [],
   "source": [
    "ckpt = params[\"save_folder\"]"
   ]
  },
  {
   "cell_type": "code",
   "execution_count": 4,
   "id": "26276797-8956-495d-86cb-6df777a1b20c",
   "metadata": {
    "execution": {
     "iopub.execute_input": "2024-05-15T17:38:10.552712Z",
     "iopub.status.busy": "2024-05-15T17:38:10.552256Z",
     "iopub.status.idle": "2024-05-15T17:38:10.636115Z",
     "shell.execute_reply": "2024-05-15T17:38:10.635169Z",
     "shell.execute_reply.started": "2024-05-15T17:38:10.552679Z"
    },
    "tags": []
   },
   "outputs": [
    {
     "data": {
      "text/plain": [
       "'cpu'"
      ]
     },
     "execution_count": 4,
     "metadata": {},
     "output_type": "execute_result"
    }
   ],
   "source": [
    "device = 'cuda:0' if torch.cuda.is_available() else 'cpu'\n",
    "device"
   ]
  },
  {
   "cell_type": "code",
   "execution_count": 5,
   "id": "6f440e94-332c-4fa0-98a9-0bd0a0444a92",
   "metadata": {
    "execution": {
     "iopub.execute_input": "2024-05-15T17:38:21.338290Z",
     "iopub.status.busy": "2024-05-15T17:38:21.337503Z",
     "iopub.status.idle": "2024-05-15T17:38:21.349250Z",
     "shell.execute_reply": "2024-05-15T17:38:21.348475Z",
     "shell.execute_reply.started": "2024-05-15T17:38:21.338247Z"
    },
    "tags": []
   },
   "outputs": [
    {
     "data": {
      "text/plain": [
       "<Format.SpecTokens: 0>"
      ]
     },
     "execution_count": 5,
     "metadata": {},
     "output_type": "execute_result"
    }
   ],
   "source": [
    "out_format = Format.SpecTokens if params[\"format\"] == \"SpecTokens\" else Format.JustJson\n",
    "out_format"
   ]
  },
  {
   "cell_type": "code",
   "execution_count": 6,
   "id": "efcdc4bc-affc-4992-8385-edab0cb7f096",
   "metadata": {
    "execution": {
     "iopub.execute_input": "2024-05-15T17:38:22.059054Z",
     "iopub.status.busy": "2024-05-15T17:38:22.058048Z",
     "iopub.status.idle": "2024-05-15T17:38:22.135847Z",
     "shell.execute_reply": "2024-05-15T17:38:22.135097Z",
     "shell.execute_reply.started": "2024-05-15T17:38:22.059005Z"
    },
    "tags": []
   },
   "outputs": [
    {
     "data": {
      "text/html": [
       "<div>\n",
       "<style scoped>\n",
       "    .dataframe tbody tr th:only-of-type {\n",
       "        vertical-align: middle;\n",
       "    }\n",
       "\n",
       "    .dataframe tbody tr th {\n",
       "        vertical-align: top;\n",
       "    }\n",
       "\n",
       "    .dataframe thead th {\n",
       "        text-align: right;\n",
       "    }\n",
       "</style>\n",
       "<table border=\"1\" class=\"dataframe\">\n",
       "  <thead>\n",
       "    <tr style=\"text-align: right;\">\n",
       "      <th></th>\n",
       "      <th>Text</th>\n",
       "      <th>bundles</th>\n",
       "      <th>n_bundles</th>\n",
       "      <th>Responses</th>\n",
       "    </tr>\n",
       "  </thead>\n",
       "  <tbody>\n",
       "    <tr>\n",
       "      <th>0</th>\n",
       "      <td>самокат hudora, в отличном состоянии, от 5+ и ...</td>\n",
       "      <td>[{\"Title\": \"\\u0441\\u0430\\u043c\\u043e\\u043a\\u04...</td>\n",
       "      <td>1</td>\n",
       "      <td>&lt;BOB&gt; &lt;BOT&gt; самокат hudora &lt;EOT&gt; &lt;BOP&gt; 65 &lt;EOP...</td>\n",
       "    </tr>\n",
       "    <tr>\n",
       "      <th>1</th>\n",
       "      <td>2 мяча и корзина 5€ лимассол</td>\n",
       "      <td>[{\"Title\": \"\\u043d\\u0430\\u0431\\u043e\\u0440 \\u0...</td>\n",
       "      <td>1</td>\n",
       "      <td>&lt;BOB&gt; &lt;BOT&gt; 2 мяча и корзина &lt;EOT&gt; &lt;BOP&gt; 5 &lt;EO...</td>\n",
       "    </tr>\n",
       "    <tr>\n",
       "      <th>2</th>\n",
       "      <td>принимаются предзаказы на 100% органическое ма...</td>\n",
       "      <td>[{\"Title\": \"100% \\u043e\\u0440\\u0433\\u0430\\u043...</td>\n",
       "      <td>1</td>\n",
       "      <td>&lt;BOB&gt; &lt;BOT&gt; Органическое масло миндаля 100 мл ...</td>\n",
       "    </tr>\n",
       "    <tr>\n",
       "      <th>3</th>\n",
       "      <td>колонки, в рабочем состоянии! использовались р...</td>\n",
       "      <td>[{\"Title\": \"\\u043a\\u043e\\u043b\\u043e\\u043d\\u04...</td>\n",
       "      <td>1</td>\n",
       "      <td>&lt;BOB&gt; &lt;BOT&gt; колонки, в рабочем состоянии &lt;EOT&gt;...</td>\n",
       "    </tr>\n",
       "    <tr>\n",
       "      <th>4</th>\n",
       "      <td>гироскутер 100 евро с зарядным</td>\n",
       "      <td>[{\"Title\": \"\\u0433\\u0438\\u0440\\u043e\\u0441\\u04...</td>\n",
       "      <td>1</td>\n",
       "      <td>&lt;BOB&gt; &lt;BOT&gt; гироскутер с зарядным устройством ...</td>\n",
       "    </tr>\n",
       "  </tbody>\n",
       "</table>\n",
       "</div>"
      ],
      "text/plain": [
       "                                                Text  ...                                          Responses\n",
       "0  самокат hudora, в отличном состоянии, от 5+ и ...  ...  <BOB> <BOT> самокат hudora <EOT> <BOP> 65 <EOP...\n",
       "1                       2 мяча и корзина 5€ лимассол  ...  <BOB> <BOT> 2 мяча и корзина <EOT> <BOP> 5 <EO...\n",
       "2  принимаются предзаказы на 100% органическое ма...  ...  <BOB> <BOT> Органическое масло миндаля 100 мл ...\n",
       "3  колонки, в рабочем состоянии! использовались р...  ...  <BOB> <BOT> колонки, в рабочем состоянии <EOT>...\n",
       "4                     гироскутер 100 евро с зарядным  ...  <BOB> <BOT> гироскутер с зарядным устройством ...\n",
       "\n",
       "[5 rows x 4 columns]"
      ]
     },
     "execution_count": 6,
     "metadata": {},
     "output_type": "execute_result"
    }
   ],
   "source": [
    "data = pd.read_csv(f\"~/work/resources/bench_results/{ckpt}_preds.csv\")\n",
    "data.head()"
   ]
  },
  {
   "cell_type": "code",
   "execution_count": 7,
   "id": "bed41355-6443-462c-94b1-1a7d159536a1",
   "metadata": {
    "execution": {
     "iopub.execute_input": "2024-05-15T17:38:22.483555Z",
     "iopub.status.busy": "2024-05-15T17:38:22.482765Z",
     "iopub.status.idle": "2024-05-15T17:38:22.765711Z",
     "shell.execute_reply": "2024-05-15T17:38:22.764943Z",
     "shell.execute_reply.started": "2024-05-15T17:38:22.483522Z"
    },
    "tags": []
   },
   "outputs": [
    {
     "name": "stderr",
     "output_type": "stream",
     "text": [
      "You set `add_prefix_space`. The tokenizer needs to be converted from the slow tokenizers\n",
      "Special tokens have been added in the vocabulary, make sure the associated word embeddings are fine-tuned or trained.\n"
     ]
    }
   ],
   "source": [
    "model_checkpoint = f\"../good_checkpoints/{ckpt}\"\n",
    "tokenizer = AutoTokenizer.from_pretrained(model_checkpoint)"
   ]
  },
  {
   "cell_type": "code",
   "execution_count": 8,
   "id": "dce38421-a518-44e4-95cf-f2f1f67e4ce0",
   "metadata": {
    "execution": {
     "iopub.execute_input": "2024-05-15T17:38:23.193183Z",
     "iopub.status.busy": "2024-05-15T17:38:23.192703Z",
     "iopub.status.idle": "2024-05-15T17:38:23.202778Z",
     "shell.execute_reply": "2024-05-15T17:38:23.202110Z",
     "shell.execute_reply.started": "2024-05-15T17:38:23.193145Z"
    },
    "tags": []
   },
   "outputs": [],
   "source": [
    "parser = get_parser(tokenizer, out_format)\n",
    "to_string_processor = get_to_string_processor(out_format)"
   ]
  },
  {
   "cell_type": "code",
   "execution_count": null,
   "id": "3baee93d-99b8-453e-b211-95bf6ac5082e",
   "metadata": {
    "execution": {
     "iopub.execute_input": "2024-05-15T17:38:24.694018Z",
     "iopub.status.busy": "2024-05-15T17:38:24.693244Z"
    },
    "tags": []
   },
   "outputs": [
    {
     "data": {
      "application/vnd.jupyter.widget-view+json": {
       "model_id": "b559d8d98c544ade8dca0c619eb79560",
       "version_major": 2,
       "version_minor": 0
      },
      "text/plain": [
       "  0%|          | 0/1000 [00:00<?, ?it/s]"
      ]
     },
     "metadata": {},
     "output_type": "display_data"
    },
    {
     "name": "stderr",
     "output_type": "stream",
     "text": [
      "\n",
      "Downloading builder script: 100%|██████████| 8.15k/8.15k [00:00<00:00, 4.08MB/s]\n",
      "\n",
      "Downloading builder script: 100%|██████████| 9.01k/9.01k [00:00<00:00, 3.24MB/s]\n"
     ]
    }
   ],
   "source": [
    "responses = {\n",
    "    \"pred_bundles\": [],\n",
    "    \"valid_structure\": [],\n",
    "    \"pred_n_bundles\": [],\n",
    "    \"valid_bundles\": [],\n",
    "    \"delta_bundles\": [],\n",
    "    \"mean_bleu\": [],\n",
    "    \"mean_chrf\": [],\n",
    "    \"mean_price_match\": [],\n",
    "    \"mean_currency_match\": [],\n",
    "    \"mean_count_match\": [],\n",
    "}\n",
    "\n",
    "for ind in tqdm(data.index, total=len(data)):\n",
    "    preds = [data.loc[ind, \"Responses\"]]\n",
    "    labels = [to_string_processor(data.loc[ind, \"bundles\"]) + tokenizer.eos_token]\n",
    "    \n",
    "    is_valid, bundles = parser(re.sub(r'(</s>)+', '</s>', preds[0]))\n",
    "    responses[\"pred_bundles\"].append(str(bundles) if is_valid else None)\n",
    "    \n",
    "    metrics = compute_test_metrics(preds, labels, parser)\n",
    "    for key in responses:\n",
    "        if key != \"pred_bundles\" and key != \"true_bundles\":\n",
    "            responses[key].append(metrics.get(key))"
   ]
  },
  {
   "cell_type": "code",
   "execution_count": null,
   "id": "c4bbfb3c-7011-40fe-a002-007482001de9",
   "metadata": {
    "tags": []
   },
   "outputs": [],
   "source": [
    "data = pd.concat([data, pd.DataFrame(responses)], axis=1)\n",
    "data.head()"
   ]
  },
  {
   "cell_type": "code",
   "execution_count": null,
   "id": "0a8006c9-5d8d-405f-87ab-c2d72c06c303",
   "metadata": {},
   "outputs": [],
   "source": [
    "data.to_csv(f\"~/work/resources/bench_results/{ckpt}_metrics.csv\", index=False)"
   ]
  },
  {
   "cell_type": "code",
   "execution_count": null,
   "id": "fbdf0861-b31d-4df8-9c58-91d77f7e9f61",
   "metadata": {},
   "outputs": [],
   "source": []
  }
 ],
 "metadata": {
  "kernelspec": {
   "display_name": "DataSphere Kernel",
   "language": "python",
   "name": "python3"
  },
  "language_info": {
   "codemirror_mode": {
    "name": "ipython",
    "version": 3
   },
   "file_extension": ".py",
   "mimetype": "text/x-python",
   "name": "python",
   "nbconvert_exporter": "python",
   "pygments_lexer": "ipython3",
   "version": "3.10.12"
  }
 },
 "nbformat": 4,
 "nbformat_minor": 5
}
