{
 "cells": [
  {
   "cell_type": "code",
   "execution_count": 1,
   "id": "02663b2f",
   "metadata": {},
   "outputs": [],
   "source": [
    "import numpy as np\n",
    "import pandas as pd\n",
    "import matplotlib.pyplot as plt\n",
    "import datetime"
   ]
  },
  {
   "cell_type": "markdown",
   "id": "35636002",
   "metadata": {},
   "source": [
    "# **Telegram**"
   ]
  },
  {
   "cell_type": "code",
   "execution_count": 2,
   "id": "143efe7f",
   "metadata": {},
   "outputs": [],
   "source": [
    "!pip install telethon --quiet"
   ]
  },
  {
   "cell_type": "code",
   "execution_count": 3,
   "id": "21937207",
   "metadata": {},
   "outputs": [],
   "source": [
    "from telethon.sync import TelegramClient\n",
    "from telethon import events\n",
    " \n",
    "import csv\n",
    " \n",
    "from telethon.tl.functions.messages import GetDialogsRequest\n",
    "from telethon.tl.types import InputPeerEmpty"
   ]
  },
  {
   "cell_type": "code",
   "execution_count": 4,
   "id": "9dc3697f",
   "metadata": {},
   "outputs": [],
   "source": [
    "import re\n",
    "\n",
    "# removes emojis and other 'strange' symbols. Leaves punctuation\n",
    "def clean_text(string):\n",
    "    # all characters that may be used in ads, i think..\n",
    "    reg = re.compile('[^a-zA-Zа-яА-ЯёЁ0-9\\n\\t~!@#$%^&*()-_=+\\\\|/<>,.?;:\\'\"№[]{} ]')\n",
    "    return reg.sub('', string)\n",
    "\n",
    "def remove_urls(string):\n",
    "    return re.sub(r'\\(?https?://\\S*', '', string)\n",
    "\n",
    "# checks if text contains numers\n",
    "def count_numbers(string):\n",
    "    string = re.sub(r'([0-9])[x\\'.,]([0-9])', r'\\1\\2', string)\n",
    "    string = re.sub(r'([a-zA-zа-яА-ЯёЁ])[0-9]+', r'\\1', string)\n",
    "    reg = re.compile('[0-9]+')\n",
    "    return len(reg.split(string)) - 1"
   ]
  },
  {
   "cell_type": "code",
   "execution_count": 5,
   "id": "401c9e8f",
   "metadata": {},
   "outputs": [],
   "source": [
    "api_id = 12345678  # Your api ID\n",
    "api_hash = \"your_api_hash\"\n",
    "name = \"parsing\""
   ]
  },
  {
   "cell_type": "code",
   "execution_count": 6,
   "id": "200e1f0c",
   "metadata": {},
   "outputs": [],
   "source": [
    "client = TelegramClient(name, api_id, api_hash, system_version=\"4.16.30-vxCUSTOM\")"
   ]
  },
  {
   "cell_type": "code",
   "execution_count": 7,
   "id": "8b27da3b",
   "metadata": {},
   "outputs": [
    {
     "data": {
      "text/plain": [
       "<telethon.client.telegramclient.TelegramClient at 0x26fce6cc450>"
      ]
     },
     "execution_count": 7,
     "metadata": {},
     "output_type": "execute_result"
    }
   ],
   "source": [
    "await client.start()"
   ]
  },
  {
   "cell_type": "code",
   "execution_count": 8,
   "id": "340a9656",
   "metadata": {},
   "outputs": [
    {
     "data": {
      "text/plain": [
       "\"'platform': 'telegram', 'wall_id': 2, 'post_id': 3\""
      ]
     },
     "execution_count": 8,
     "metadata": {},
     "output_type": "execute_result"
    }
   ],
   "source": [
    "source = \"'platform': 'telegram', 'wall_id': {}, 'post_id': {}\"\n",
    "source.format(2, 3)"
   ]
  },
  {
   "cell_type": "code",
   "execution_count": 9,
   "id": "93c70d3b",
   "metadata": {},
   "outputs": [],
   "source": [
    "async def scrap_channel(channel_name, tg_client, *, ads_limit=1e5, after_date=None, log_frequency=None):\n",
    "    \"\"\"\n",
    "    channel_name: str - name of the channel to scrap\n",
    "    tg_client: TelegramClient - client to be used for scrapping\n",
    "    ads_limit: int - max number of ads to get from the channel\n",
    "    after_date: datetime.datetime - if provided, ads posted before this date will be skipped\n",
    "    log_frequency: int - if provided, every <log_frequency> ads, total number of read messages will be printed\n",
    "    \"\"\"\n",
    "    successfullty_read = 0\n",
    "    messages, identifiers = [], []\n",
    "\n",
    "    async for message in tg_client.iter_messages(channel_name, offset_date=datetime.date.today()):\n",
    "        if not message.message:\n",
    "            continue\n",
    "        msg = clean_text(remove_urls(message.message))\n",
    "        if len(list(msg.split())) >= 2 and count_numbers(msg) > 0:\n",
    "            messages.append(msg.lower().strip())\n",
    "            identifiers.append(\"{\" + source.format(message.peer_id.channel_id, message.id) + \"}\")\n",
    "            \n",
    "            successfullty_read += 1\n",
    "            if log_frequency and successfullty_read % log_frequency == 0:\n",
    "                print(successfullty_read)\n",
    "            if ads_limit and successfullty_read > ads_limit:\n",
    "                break\n",
    "            if after_date and message.date < after_date:\n",
    "                break\n",
    "    return messages, identifiers"
   ]
  },
  {
   "cell_type": "code",
   "execution_count": 10,
   "id": "e321e92d",
   "metadata": {},
   "outputs": [],
   "source": [
    "channels = [\"barakholkam\", \"spb_barakholka\", \"baraholkasppb\", \"baraholka_batumi_home\", \"baraholka_tbi\", \"CypRusSale\"]"
   ]
  },
  {
   "cell_type": "code",
   "execution_count": 11,
   "id": "32b36c97",
   "metadata": {},
   "outputs": [
    {
     "name": "stdout",
     "output_type": "stream",
     "text": [
      "Start parsing barakholkam\n",
      "After observing barakholkam, we have 3333 ads\n",
      "Start parsing spb_barakholka\n",
      "After observing spb_barakholka, we have 5696 ads\n",
      "Start parsing baraholkasppb\n",
      "10000\n",
      "After observing baraholkasppb, we have 20862 ads\n",
      "Start parsing baraholka_batumi_home\n",
      "10000\n",
      "20000\n",
      "30000\n",
      "40000\n",
      "50000\n",
      "After observing baraholka_batumi_home, we have 74506 ads\n",
      "Start parsing baraholka_tbi\n",
      "10000\n",
      "20000\n",
      "30000\n",
      "40000\n",
      "50000\n",
      "60000\n",
      "70000\n",
      "80000\n",
      "90000\n",
      "100000\n",
      "After observing baraholka_tbi, we have 174507 ads\n",
      "Start parsing CypRusSale\n",
      "10000\n",
      "20000\n",
      "30000\n",
      "40000\n",
      "50000\n",
      "After observing CypRusSale, we have 226990 ads\n"
     ]
    }
   ],
   "source": [
    "timezone_offset = 3.0\n",
    "tzinfo = datetime.timezone(datetime.timedelta(hours=timezone_offset))\n",
    "min_date = datetime.datetime.fromisoformat('2020-01-01T00:00:00+03:00')\n",
    "\n",
    "messages, identifiers = [], []\n",
    "for channel in channels:\n",
    "    try:\n",
    "        print(\"Start parsing\", channel)\n",
    "        channel_messages, channel_identifiers = await scrap_channel(channel, client, after_date=min_date, log_frequency=10000)\n",
    "        messages += channel_messages\n",
    "        identifiers += channel_identifiers\n",
    "        print(f\"After observing {channel}, we have\", len(messages), \"ads\")\n",
    "    except Exception as e:\n",
    "        print(e)\n",
    "        print(\"Something wrong with\", channel)\n",
    "        pass"
   ]
  },
  {
   "cell_type": "code",
   "execution_count": 13,
   "id": "76b14151",
   "metadata": {},
   "outputs": [
    {
     "name": "stderr",
     "output_type": "stream",
     "text": [
      "Server closed the connection: [WinError 10054] An existing connection was forcibly closed by the remote host\n",
      "Attempt 1 at connecting failed: OSError: [Errno 10065] Connect call failed ('149.154.167.51', 443)\n",
      "Attempt 2 at connecting failed: OSError: [Errno 10065] Connect call failed ('149.154.167.51', 443)\n",
      "Attempt 3 at connecting failed: OSError: [Errno 10065] Connect call failed ('149.154.167.51', 443)\n",
      "Attempt 4 at connecting failed: OSError: [Errno 10065] Connect call failed ('149.154.167.51', 443)\n",
      "Attempt 5 at connecting failed: OSError: [Errno 10065] Connect call failed ('149.154.167.51', 443)\n",
      "Attempt 6 at connecting failed: OSError: [Errno 10065] Connect call failed ('149.154.167.51', 443)\n",
      "Attempt 1 at connecting failed: OSError: [Errno 10065] Connect call failed ('149.154.167.51', 443)\n",
      "Attempt 2 at connecting failed: OSError: [Errno 10065] Connect call failed ('149.154.167.51', 443)\n",
      "Attempt 3 at connecting failed: OSError: [Errno 10065] Connect call failed ('149.154.167.51', 443)\n",
      "Attempt 4 at connecting failed: OSError: [Errno 10065] Connect call failed ('149.154.167.51', 443)\n",
      "Attempt 5 at connecting failed: OSError: [Errno 10065] Connect call failed ('149.154.167.51', 443)\n",
      "Attempt 6 at connecting failed: OSError: [Errno 10065] Connect call failed ('149.154.167.51', 443)\n",
      "Attempt 1 at connecting failed: OSError: [Errno 10065] Connect call failed ('149.154.167.51', 443)\n",
      "Attempt 2 at connecting failed: OSError: [Errno 10065] Connect call failed ('149.154.167.51', 443)\n",
      "Attempt 3 at connecting failed: OSError: [Errno 10065] Connect call failed ('149.154.167.51', 443)\n",
      "Attempt 4 at connecting failed: OSError: [Errno 10065] Connect call failed ('149.154.167.51', 443)\n",
      "Attempt 5 at connecting failed: OSError: [Errno 10065] Connect call failed ('149.154.167.51', 443)\n",
      "Attempt 6 at connecting failed: OSError: [Errno 10065] Connect call failed ('149.154.167.51', 443)\n",
      "Attempt 1 at connecting failed: OSError: [Errno 10065] Connect call failed ('149.154.167.51', 443)\n",
      "Attempt 2 at connecting failed: OSError: [Errno 10065] Connect call failed ('149.154.167.51', 443)\n",
      "Attempt 3 at connecting failed: OSError: [Errno 10065] Connect call failed ('149.154.167.51', 443)\n",
      "Attempt 4 at connecting failed: OSError: [Errno 10065] Connect call failed ('149.154.167.51', 443)\n",
      "Attempt 5 at connecting failed: OSError: [Errno 10065] Connect call failed ('149.154.167.51', 443)\n",
      "Attempt 6 at connecting failed: OSError: [Errno 10065] Connect call failed ('149.154.167.51', 443)\n",
      "Attempt 1 at connecting failed: OSError: [Errno 10065] Connect call failed ('149.154.167.51', 443)\n",
      "Attempt 2 at connecting failed: OSError: [Errno 10065] Connect call failed ('149.154.167.51', 443)\n",
      "Attempt 3 at connecting failed: OSError: [Errno 10065] Connect call failed ('149.154.167.51', 443)\n",
      "Attempt 4 at connecting failed: OSError: [Errno 10065] Connect call failed ('149.154.167.51', 443)\n",
      "Attempt 5 at connecting failed: OSError: [Errno 10065] Connect call failed ('149.154.167.51', 443)\n",
      "Attempt 6 at connecting failed: OSError: [Errno 10065] Connect call failed ('149.154.167.51', 443)\n",
      "Automatic reconnection failed 5 time(s)\n",
      "Future exception was never retrieved\n",
      "future: <Future finished exception=ConnectionError('Connection to Telegram failed 5 time(s)')>\n",
      "ConnectionError: Connection to Telegram failed 5 time(s)\n"
     ]
    }
   ],
   "source": [
    "df = pd.DataFrame({\n",
    "    \"Text\": messages,\n",
    "    \"Id\": identifiers,\n",
    "})\n",
    "\n",
    "df.drop_duplicates(subset=\"Text\", inplace=True)\n",
    "\n",
    "df.to_csv(f\"../data/telegram_ads_v2.csv\", index=False)"
   ]
  },
  {
   "cell_type": "code",
   "execution_count": null,
   "id": "c4ed6b12",
   "metadata": {},
   "outputs": [],
   "source": []
  },
  {
   "cell_type": "code",
   "execution_count": null,
   "id": "46badca7",
   "metadata": {},
   "outputs": [],
   "source": []
  },
  {
   "cell_type": "code",
   "execution_count": null,
   "id": "8c1bac12",
   "metadata": {},
   "outputs": [],
   "source": []
  },
  {
   "cell_type": "code",
   "execution_count": null,
   "id": "c26bbd46",
   "metadata": {},
   "outputs": [],
   "source": []
  }
 ],
 "metadata": {
  "kernelspec": {
   "display_name": "Python 3 (ipykernel)",
   "language": "python",
   "name": "python3"
  },
  "language_info": {
   "codemirror_mode": {
    "name": "ipython",
    "version": 3
   },
   "file_extension": ".py",
   "mimetype": "text/x-python",
   "name": "python",
   "nbconvert_exporter": "python",
   "pygments_lexer": "ipython3",
   "version": "3.11.5"
  }
 },
 "nbformat": 4,
 "nbformat_minor": 5
}
